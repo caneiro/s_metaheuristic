{
 "cells": [
  {
   "cell_type": "code",
   "execution_count": 48,
   "id": "26b6ccd3",
   "metadata": {
    "ExecuteTime": {
     "end_time": "2021-10-22T23:53:52.406016Z",
     "start_time": "2021-10-22T23:53:52.391116Z"
    }
   },
   "outputs": [],
   "source": [
    "import numpy as np\n",
    "import pandas as pd\n",
    "pd.set_option('mode.chained_assignment',None)\n",
    "import os\n",
    "import glob\n",
    "\n",
    "import matplotlib.pyplot as plt\n",
    "import seaborn as sns\n",
    "\n",
    "from pathlib import Path"
   ]
  },
  {
   "cell_type": "code",
   "execution_count": 49,
   "id": "52d2244e",
   "metadata": {
    "ExecuteTime": {
     "end_time": "2021-10-22T23:53:52.418928Z",
     "start_time": "2021-10-22T23:53:52.409389Z"
    }
   },
   "outputs": [
    {
     "name": "stdout",
     "output_type": "stream",
     "text": [
      "/Users/rco/OneDrive/ITA/Mestrado/2021_TE-282 - Meta heurísticas/Lab/data/raw\n"
     ]
    }
   ],
   "source": [
    "PATH = Path.cwd().parent\n",
    "RAW_PATH = Path(PATH, \"./data/raw/\") \n",
    "print(RAW_PATH)"
   ]
  },
  {
   "cell_type": "code",
   "execution_count": 50,
   "id": "98cd9e70",
   "metadata": {
    "ExecuteTime": {
     "end_time": "2021-10-22T23:53:52.436139Z",
     "start_time": "2021-10-22T23:53:52.422544Z"
    }
   },
   "outputs": [],
   "source": [
    "def read_port_files(n_port):\n",
    "    filepath = Path(RAW_PATH, 'port' + str(n_port) + '.txt')\n",
    "    with open(filepath) as fp:\n",
    "        # quantidade de ativos no portfolio\n",
    "        n_assets = int(fp.readline())\n",
    "        # armazena as estatisticas do ativo\n",
    "        r_mean = []\n",
    "        r_std = []\n",
    "        for n in range(n_assets):\n",
    "            line = fp.readline()\n",
    "            r_mean.append(float(line.strip().split()[0]))\n",
    "            r_std.append(float(line.strip().split()[1]))\n",
    "\n",
    "        # obtem o restante da matriz de covariancia\n",
    "        cnt = 32\n",
    "        i = []\n",
    "        j = []\n",
    "        cov = []\n",
    "        line = fp.readline()\n",
    "        while line:\n",
    "            i.append(int(line.strip().split(' ')[0]))\n",
    "            j.append(int(line.strip().split(' ')[1]))\n",
    "            cov.append(float(line.strip().split(' ')[2]))\n",
    "            line = fp.readline()\n",
    "    fp.close()\n",
    "    # retorna dataframe com estatisticas dos ativos do portfolio\n",
    "    df_stats = pd.DataFrame({'port':n_port,\n",
    "                             'i':[i_+1 for i_ in range(n_assets)],\n",
    "                             'r_mean':r_mean,\n",
    "                             'r_std':r_std})\n",
    "    print(df_stats.shape)\n",
    "\n",
    "    # retorna dataframe com matriz de covariancia dos ativos do portfolio\n",
    "    df_cov_mx = pd.DataFrame({'port':n_port,\n",
    "                             'i':i,\n",
    "                             'j':j,\n",
    "                             'cov':cov})\n",
    "    print(df_cov_mx.shape)\n",
    "    return df_stats, df_cov_mx"
   ]
  },
  {
   "cell_type": "code",
   "execution_count": 51,
   "id": "1543bf8a",
   "metadata": {
    "ExecuteTime": {
     "end_time": "2021-10-22T23:53:52.568800Z",
     "start_time": "2021-10-22T23:53:52.439512Z"
    }
   },
   "outputs": [
    {
     "name": "stdout",
     "output_type": "stream",
     "text": [
      "(31, 4)\n",
      "(496, 4)\n",
      "(85, 4)\n",
      "(3655, 4)\n",
      "(89, 4)\n",
      "(4005, 4)\n",
      "(98, 4)\n",
      "(4851, 4)\n",
      "(225, 4)\n",
      "(25425, 4)\n"
     ]
    }
   ],
   "source": [
    "df_stats_list = []\n",
    "df_cov_mx_list =[]\n",
    "for p in range(1,6,1):\n",
    "    df_stats, df_cov_mx = read_port_files(p)\n",
    "    df_stats_list.append(df_stats)\n",
    "    df_cov_mx_list.append(df_cov_mx)\n",
    "    \n",
    "df_stats = pd.concat(df_stats_list)\n",
    "df_cov_mx = pd.concat(df_cov_mx_list)"
   ]
  },
  {
   "cell_type": "code",
   "execution_count": 52,
   "id": "bc121fca",
   "metadata": {
    "ExecuteTime": {
     "end_time": "2021-10-22T23:53:52.610893Z",
     "start_time": "2021-10-22T23:53:52.571404Z"
    }
   },
   "outputs": [
    {
     "name": "stdout",
     "output_type": "stream",
     "text": [
      "(528, 4)\n"
     ]
    },
    {
     "data": {
      "text/html": [
       "<div>\n",
       "<style scoped>\n",
       "    .dataframe tbody tr th:only-of-type {\n",
       "        vertical-align: middle;\n",
       "    }\n",
       "\n",
       "    .dataframe tbody tr th {\n",
       "        vertical-align: top;\n",
       "    }\n",
       "\n",
       "    .dataframe thead th {\n",
       "        text-align: right;\n",
       "    }\n",
       "</style>\n",
       "<table border=\"1\" class=\"dataframe\">\n",
       "  <thead>\n",
       "    <tr style=\"text-align: right;\">\n",
       "      <th></th>\n",
       "      <th>count</th>\n",
       "      <th>mean</th>\n",
       "      <th>std</th>\n",
       "      <th>min</th>\n",
       "      <th>25%</th>\n",
       "      <th>50%</th>\n",
       "      <th>75%</th>\n",
       "      <th>max</th>\n",
       "    </tr>\n",
       "  </thead>\n",
       "  <tbody>\n",
       "    <tr>\n",
       "      <th>port</th>\n",
       "      <td>528.0</td>\n",
       "      <td>3.759470</td>\n",
       "      <td>1.308600</td>\n",
       "      <td>1.000000</td>\n",
       "      <td>3.000000</td>\n",
       "      <td>4.000000</td>\n",
       "      <td>5.000000</td>\n",
       "      <td>5.000000</td>\n",
       "    </tr>\n",
       "    <tr>\n",
       "      <th>i</th>\n",
       "      <td>528.0</td>\n",
       "      <td>72.787879</td>\n",
       "      <td>58.460747</td>\n",
       "      <td>1.000000</td>\n",
       "      <td>27.000000</td>\n",
       "      <td>59.000000</td>\n",
       "      <td>96.000000</td>\n",
       "      <td>225.000000</td>\n",
       "    </tr>\n",
       "    <tr>\n",
       "      <th>r_mean</th>\n",
       "      <td>528.0</td>\n",
       "      <td>0.000786</td>\n",
       "      <td>0.002927</td>\n",
       "      <td>-0.008489</td>\n",
       "      <td>-0.001268</td>\n",
       "      <td>0.001107</td>\n",
       "      <td>0.002830</td>\n",
       "      <td>0.010865</td>\n",
       "    </tr>\n",
       "    <tr>\n",
       "      <th>r_std</th>\n",
       "      <td>528.0</td>\n",
       "      <td>0.039758</td>\n",
       "      <td>0.009510</td>\n",
       "      <td>0.020968</td>\n",
       "      <td>0.032508</td>\n",
       "      <td>0.038820</td>\n",
       "      <td>0.046139</td>\n",
       "      <td>0.074463</td>\n",
       "    </tr>\n",
       "  </tbody>\n",
       "</table>\n",
       "</div>"
      ],
      "text/plain": [
       "        count       mean        std       min        25%        50%  \\\n",
       "port    528.0   3.759470   1.308600  1.000000   3.000000   4.000000   \n",
       "i       528.0  72.787879  58.460747  1.000000  27.000000  59.000000   \n",
       "r_mean  528.0   0.000786   0.002927 -0.008489  -0.001268   0.001107   \n",
       "r_std   528.0   0.039758   0.009510  0.020968   0.032508   0.038820   \n",
       "\n",
       "              75%         max  \n",
       "port     5.000000    5.000000  \n",
       "i       96.000000  225.000000  \n",
       "r_mean   0.002830    0.010865  \n",
       "r_std    0.046139    0.074463  "
      ]
     },
     "execution_count": 52,
     "metadata": {},
     "output_type": "execute_result"
    }
   ],
   "source": [
    "print(df_stats.shape)\n",
    "df_stats.describe().T"
   ]
  },
  {
   "cell_type": "code",
   "execution_count": 53,
   "id": "e455e329",
   "metadata": {
    "ExecuteTime": {
     "end_time": "2021-10-22T23:53:52.647151Z",
     "start_time": "2021-10-22T23:53:52.614225Z"
    }
   },
   "outputs": [
    {
     "name": "stdout",
     "output_type": "stream",
     "text": [
      "(38432, 4)\n"
     ]
    },
    {
     "data": {
      "text/html": [
       "<div>\n",
       "<style scoped>\n",
       "    .dataframe tbody tr th:only-of-type {\n",
       "        vertical-align: middle;\n",
       "    }\n",
       "\n",
       "    .dataframe tbody tr th {\n",
       "        vertical-align: top;\n",
       "    }\n",
       "\n",
       "    .dataframe thead th {\n",
       "        text-align: right;\n",
       "    }\n",
       "</style>\n",
       "<table border=\"1\" class=\"dataframe\">\n",
       "  <thead>\n",
       "    <tr style=\"text-align: right;\">\n",
       "      <th></th>\n",
       "      <th>count</th>\n",
       "      <th>mean</th>\n",
       "      <th>std</th>\n",
       "      <th>min</th>\n",
       "      <th>25%</th>\n",
       "      <th>50%</th>\n",
       "      <th>75%</th>\n",
       "      <th>max</th>\n",
       "    </tr>\n",
       "  </thead>\n",
       "  <tbody>\n",
       "    <tr>\n",
       "      <th>port</th>\n",
       "      <td>38432.0</td>\n",
       "      <td>4.328424</td>\n",
       "      <td>1.074477</td>\n",
       "      <td>1.000000</td>\n",
       "      <td>4.000000</td>\n",
       "      <td>5.000000</td>\n",
       "      <td>5.000000</td>\n",
       "      <td>5.0</td>\n",
       "    </tr>\n",
       "    <tr>\n",
       "      <th>i</th>\n",
       "      <td>38432.0</td>\n",
       "      <td>60.326317</td>\n",
       "      <td>49.887091</td>\n",
       "      <td>1.000000</td>\n",
       "      <td>20.000000</td>\n",
       "      <td>46.000000</td>\n",
       "      <td>88.000000</td>\n",
       "      <td>225.0</td>\n",
       "    </tr>\n",
       "    <tr>\n",
       "      <th>j</th>\n",
       "      <td>38432.0</td>\n",
       "      <td>119.652633</td>\n",
       "      <td>62.346886</td>\n",
       "      <td>1.000000</td>\n",
       "      <td>67.750000</td>\n",
       "      <td>111.000000</td>\n",
       "      <td>178.000000</td>\n",
       "      <td>225.0</td>\n",
       "    </tr>\n",
       "    <tr>\n",
       "      <th>cov</th>\n",
       "      <td>38432.0</td>\n",
       "      <td>0.397179</td>\n",
       "      <td>0.180055</td>\n",
       "      <td>-0.145815</td>\n",
       "      <td>0.261452</td>\n",
       "      <td>0.423357</td>\n",
       "      <td>0.521063</td>\n",
       "      <td>1.0</td>\n",
       "    </tr>\n",
       "  </tbody>\n",
       "</table>\n",
       "</div>"
      ],
      "text/plain": [
       "        count        mean        std       min        25%         50%  \\\n",
       "port  38432.0    4.328424   1.074477  1.000000   4.000000    5.000000   \n",
       "i     38432.0   60.326317  49.887091  1.000000  20.000000   46.000000   \n",
       "j     38432.0  119.652633  62.346886  1.000000  67.750000  111.000000   \n",
       "cov   38432.0    0.397179   0.180055 -0.145815   0.261452    0.423357   \n",
       "\n",
       "             75%    max  \n",
       "port    5.000000    5.0  \n",
       "i      88.000000  225.0  \n",
       "j     178.000000  225.0  \n",
       "cov     0.521063    1.0  "
      ]
     },
     "execution_count": 53,
     "metadata": {},
     "output_type": "execute_result"
    }
   ],
   "source": [
    "print(df_cov_mx.shape)\n",
    "df_cov_mx.describe().T"
   ]
  },
  {
   "cell_type": "code",
   "execution_count": null,
   "id": "56beb0e8",
   "metadata": {},
   "outputs": [],
   "source": []
  }
 ],
 "metadata": {
  "kernelspec": {
   "display_name": "Python 3",
   "language": "python",
   "name": "python3"
  },
  "language_info": {
   "codemirror_mode": {
    "name": "ipython",
    "version": 3
   },
   "file_extension": ".py",
   "mimetype": "text/x-python",
   "name": "python",
   "nbconvert_exporter": "python",
   "pygments_lexer": "ipython3",
   "version": "3.6.13"
  }
 },
 "nbformat": 4,
 "nbformat_minor": 5
}
