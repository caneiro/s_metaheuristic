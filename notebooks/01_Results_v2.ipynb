{
 "cells": [
  {
   "cell_type": "markdown",
   "id": "sublime-clock",
   "metadata": {},
   "source": [
    "# LOCAL SEARCH - ANÁLISE DE RESULTADOS\n",
    "\n",
    " - ITA | PG-CTE-S | TE-282 - Meta-heurísticas\n",
    " - Professor Dr. Angelo Passaro\n",
    " - Aluno: Rafael Caneiro de Oliveira\n",
    " - Versao: 0.1\n",
    " - Data: 26/10/2021"
   ]
  },
  {
   "cell_type": "markdown",
   "id": "popular-garlic",
   "metadata": {},
   "source": [
    "## Bibliotecas | Parâmetros | Funções"
   ]
  },
  {
   "cell_type": "code",
   "execution_count": 106,
   "id": "dac73a11",
   "metadata": {
    "ExecuteTime": {
     "end_time": "2021-10-31T03:08:30.893148Z",
     "start_time": "2021-10-31T03:08:30.889405Z"
    },
    "scrolled": false
   },
   "outputs": [
    {
     "name": "stdout",
     "output_type": "stream",
     "text": [
      "/Users/rco/github/s_metaheuristic/data/log\n"
     ]
    }
   ],
   "source": [
    "import numpy as np\n",
    "import pandas as pd\n",
    "import matplotlib.pyplot as plt\n",
    "import seaborn as sns\n",
    "from pathlib import Path\n",
    "import glob\n",
    "from ast import literal_eval\n",
    "\n",
    "PATH = Path.cwd().parent\n",
    "RAW_PATH = Path(PATH, \"./data/raw/\") \n",
    "LOG_PATH = Path(PATH, \"./data/log/\")\n",
    "print(LOG_PATH)\n"
   ]
  },
  {
   "cell_type": "code",
   "execution_count": 107,
   "id": "boolean-workplace",
   "metadata": {
    "ExecuteTime": {
     "end_time": "2021-10-31T03:08:30.901583Z",
     "start_time": "2021-10-31T03:08:30.895055Z"
    }
   },
   "outputs": [],
   "source": [
    "def read_port_files(n_port):\n",
    "    filepath = Path(RAW_PATH, 'port' + str(n_port) + '.txt')\n",
    "    with open(filepath) as fp:\n",
    "        # quantidade de ativos no portfolio\n",
    "        n_assets = int(fp.readline())\n",
    "        # armazena as estatisticas do ativo\n",
    "        r_mean = []\n",
    "        r_std = []\n",
    "        for n in range(n_assets):\n",
    "            line = fp.readline()\n",
    "            r_mean.append(float(line.strip().split()[0]))\n",
    "            r_std.append(float(line.strip().split()[1]))\n",
    "\n",
    "        # obtem o restante da matriz de covariancia\n",
    "        cnt = 32\n",
    "        i = []\n",
    "        j = []\n",
    "        cov = []\n",
    "        line = fp.readline()\n",
    "        while line:\n",
    "            i.append(int(line.strip().split(' ')[0]))\n",
    "            j.append(int(line.strip().split(' ')[1]))\n",
    "            cov.append(float(line.strip().split(' ')[2]))\n",
    "            line = fp.readline()\n",
    "    fp.close()\n",
    "    # retorna dataframe com estatisticas dos ativos do portfolio\n",
    "    df_stats = pd.DataFrame({'port':n_port,\n",
    "                             'i':[i_+1 for i_ in range(n_assets)],\n",
    "                             'r_mean':r_mean,\n",
    "                             'r_std':r_std})\n",
    "    print(df_stats.shape)\n",
    "\n",
    "    # retorna dataframe com matriz de covariancia dos ativos do portfolio\n",
    "    df_cov_mx = pd.DataFrame({'port':n_port,\n",
    "                             'i':i,\n",
    "                             'j':j,\n",
    "                             'cov':cov})\n",
    "    print(df_cov_mx.shape)\n",
    "    return df_stats, df_cov_mx"
   ]
  },
  {
   "cell_type": "markdown",
   "id": "legislative-leisure",
   "metadata": {},
   "source": [
    "## Carrega Dados"
   ]
  },
  {
   "cell_type": "code",
   "execution_count": 108,
   "id": "above-programming",
   "metadata": {
    "ExecuteTime": {
     "end_time": "2021-10-31T03:08:31.008947Z",
     "start_time": "2021-10-31T03:08:30.904027Z"
    }
   },
   "outputs": [
    {
     "name": "stdout",
     "output_type": "stream",
     "text": [
      "(31, 4)\n",
      "(496, 4)\n",
      "(85, 4)\n",
      "(3655, 4)\n",
      "(89, 4)\n",
      "(4005, 4)\n",
      "(98, 4)\n",
      "(4851, 4)\n",
      "(225, 4)\n",
      "(25425, 4)\n"
     ]
    }
   ],
   "source": [
    "df_stats_list = []\n",
    "df_cov_mx_list =[]\n",
    "for p in range(1,6,1):\n",
    "    df_stats, df_cov_mx = read_port_files(p)\n",
    "    df_stats_list.append(df_stats)\n",
    "    df_cov_mx_list.append(df_cov_mx)\n",
    "    \n",
    "df_stats = pd.concat(df_stats_list)\n",
    "df_cov_mx = pd.concat(df_cov_mx_list)"
   ]
  },
  {
   "cell_type": "code",
   "execution_count": 109,
   "id": "likely-creature",
   "metadata": {
    "ExecuteTime": {
     "end_time": "2021-10-31T03:08:38.145537Z",
     "start_time": "2021-10-31T03:08:38.139516Z"
    }
   },
   "outputs": [],
   "source": [
    "portfolios = {\n",
    "    1:'Hang Seng - Hong Kong',\n",
    "    2:'DAX - German Blue Chips',\n",
    "    3:'FTSE - London',\n",
    "    4:\"S&P - Standard and Poor's 500 - US\",\n",
    "    5:'Nikkei - Tokyo'\n",
    "}\n",
    "df_stats['portfolio'] = df_stats.port.map(portfolios)\n",
    "df_cov_mx['portfolio'] = df_cov_mx.port.map(portfolios)"
   ]
  },
  {
   "cell_type": "code",
   "execution_count": 110,
   "metadata": {},
   "outputs": [
    {
     "data": {
      "text/html": [
       "<div>\n",
       "<style scoped>\n",
       "    .dataframe tbody tr th:only-of-type {\n",
       "        vertical-align: middle;\n",
       "    }\n",
       "\n",
       "    .dataframe tbody tr th {\n",
       "        vertical-align: top;\n",
       "    }\n",
       "\n",
       "    .dataframe thead th {\n",
       "        text-align: right;\n",
       "    }\n",
       "</style>\n",
       "<table border=\"1\" class=\"dataframe\">\n",
       "  <thead>\n",
       "    <tr style=\"text-align: right;\">\n",
       "      <th></th>\n",
       "      <th>mean_return</th>\n",
       "      <th>var_return</th>\n",
       "      <th>port</th>\n",
       "      <th>portfolio</th>\n",
       "    </tr>\n",
       "  </thead>\n",
       "  <tbody>\n",
       "    <tr>\n",
       "      <th>0</th>\n",
       "      <td>0.010865</td>\n",
       "      <td>0.004776</td>\n",
       "      <td>1</td>\n",
       "      <td>Hang Seng - Hong Kong</td>\n",
       "    </tr>\n",
       "    <tr>\n",
       "      <th>1</th>\n",
       "      <td>0.010861</td>\n",
       "      <td>0.004768</td>\n",
       "      <td>1</td>\n",
       "      <td>Hang Seng - Hong Kong</td>\n",
       "    </tr>\n",
       "    <tr>\n",
       "      <th>2</th>\n",
       "      <td>0.010857</td>\n",
       "      <td>0.004760</td>\n",
       "      <td>1</td>\n",
       "      <td>Hang Seng - Hong Kong</td>\n",
       "    </tr>\n",
       "    <tr>\n",
       "      <th>3</th>\n",
       "      <td>0.010853</td>\n",
       "      <td>0.004752</td>\n",
       "      <td>1</td>\n",
       "      <td>Hang Seng - Hong Kong</td>\n",
       "    </tr>\n",
       "    <tr>\n",
       "      <th>4</th>\n",
       "      <td>0.010849</td>\n",
       "      <td>0.004745</td>\n",
       "      <td>1</td>\n",
       "      <td>Hang Seng - Hong Kong</td>\n",
       "    </tr>\n",
       "  </tbody>\n",
       "</table>\n",
       "</div>"
      ],
      "text/plain": [
       "   mean_return  var_return  port              portfolio\n",
       "0     0.010865    0.004776     1  Hang Seng - Hong Kong\n",
       "1     0.010861    0.004768     1  Hang Seng - Hong Kong\n",
       "2     0.010857    0.004760     1  Hang Seng - Hong Kong\n",
       "3     0.010853    0.004752     1  Hang Seng - Hong Kong\n",
       "4     0.010849    0.004745     1  Hang Seng - Hong Kong"
      ]
     },
     "execution_count": 110,
     "metadata": {},
     "output_type": "execute_result"
    }
   ],
   "source": [
    "uefs = []\n",
    "for port in range(5):\n",
    "    uef = pd.read_csv(Path(RAW_PATH, 'portef' + str(port+1) + '.txt'), header=None, sep='\\s+')\n",
    "    uef.columns = ['mean_return', 'var_return']\n",
    "    uef['port'] = port + 1\n",
    "    uefs.append(uef)\n",
    "uef = pd.concat(uefs, ignore_index=True).reset_index(drop=True)\n",
    "uef['portfolio'] = uef.port.map(portfolios)\n",
    "uef.head()"
   ]
  },
  {
   "cell_type": "code",
   "execution_count": 111,
   "id": "surprised-pastor",
   "metadata": {
    "ExecuteTime": {
     "end_time": "2021-10-31T03:08:37.806127Z",
     "start_time": "2021-10-31T03:08:31.011392Z"
    }
   },
   "outputs": [
    {
     "name": "stdout",
     "output_type": "stream",
     "text": [
      "Importados 1 arquivos\n"
     ]
    }
   ],
   "source": [
    "all_dfs = []\n",
    "best_dfs = []\n",
    "LOGs = str(LOG_PATH) + '/*.csv'\n",
    "\n",
    "c = 0\n",
    "for file in glob.glob(str(LOGs)):\n",
    "    filename = file[file.find('/log/')+5:]\n",
    "    try:\n",
    "        df = pd.read_csv(file, low_memory=False, sep=',', quotechar='\"')\n",
    "        c = c + 1\n",
    "    except:\n",
    "        print('Arquivo não importado: {}'.format(filename))\n",
    "    df['filename'] = filename\n",
    "    # df['Z'] = df.Z.apply(lambda x: literal_eval(x))\n",
    "    # df['X'] = df.X.apply(lambda x: literal_eval(x))\n",
    "    # df['k'] = df.Z.apply(lambda x: len(x))\n",
    "    all_dfs.append(df)\n",
    "    best_dfs.append(df.iloc[-1:])\n",
    "\n",
    "all_data = pd.concat(all_dfs, ignore_index=True).reset_index(drop=True)\n",
    "all_data.rename({'move_strategy':'move_str',\n",
    "                 'selection_strategy':'selec_str'}, axis=1, inplace=True)\n",
    "\n",
    "best_data = pd.concat(best_dfs, ignore_index=True).reset_index(drop=True)\n",
    "best_data.rename({'move_strategy':'move_str',\n",
    "                  'selection_strategy':'selec_str'}, axis=1, inplace=True)\n",
    "\n",
    "print('Importados {} arquivos'.format(c))\n",
    "\n",
    "# for col in all_data.columns:\n",
    "#     all_data[col] = pd.to_numeric(all_data[col])\n",
    "\n",
    "# for col in best_data.columns:\n",
    "#     best_data[col] = pd.to_numeric(best_data[col])"
   ]
  },
  {
   "cell_type": "code",
   "execution_count": 112,
   "id": "0dd24cc6",
   "metadata": {},
   "outputs": [
    {
     "name": "stdout",
     "output_type": "stream",
     "text": [
      "<class 'pandas.core.frame.DataFrame'>\n",
      "RangeIndex: 100 entries, 0 to 99\n",
      "Data columns (total 13 columns):\n",
      " #   Column      Non-Null Count  Dtype  \n",
      "---  ------      --------------  -----  \n",
      " 0   iter        100 non-null    int64  \n",
      " 1   obj         100 non-null    float64\n",
      " 2   return      100 non-null    float64\n",
      " 3   max_iter    100 non-null    int64  \n",
      " 4   neighbours  100 non-null    int64  \n",
      " 5   alpha       100 non-null    float64\n",
      " 6   exp_return  100 non-null    float64\n",
      " 7   n_port      100 non-null    int64  \n",
      " 8   k           100 non-null    int64  \n",
      " 9   move_str    100 non-null    object \n",
      " 10  seed        0 non-null      float64\n",
      " 11  selec_str   100 non-null    object \n",
      " 12  filename    100 non-null    object \n",
      "dtypes: float64(5), int64(5), object(3)\n",
      "memory usage: 10.3+ KB\n"
     ]
    }
   ],
   "source": [
    "all_data.info()"
   ]
  },
  {
   "cell_type": "code",
   "execution_count": 113,
   "id": "rental-airport",
   "metadata": {
    "ExecuteTime": {
     "end_time": "2021-10-31T03:08:38.135832Z",
     "start_time": "2021-10-31T03:08:37.883828Z"
    }
   },
   "outputs": [],
   "source": [
    "# all_data.describe(include='all').T"
   ]
  },
  {
   "cell_type": "markdown",
   "id": "signed-papua",
   "metadata": {},
   "source": [
    "## Portfólios"
   ]
  },
  {
   "cell_type": "markdown",
   "metadata": {},
   "source": [
    "### Geral"
   ]
  },
  {
   "cell_type": "code",
   "execution_count": 114,
   "id": "available-renewal",
   "metadata": {
    "ExecuteTime": {
     "end_time": "2021-10-31T03:08:38.400788Z",
     "start_time": "2021-10-31T03:08:38.147553Z"
    }
   },
   "outputs": [
    {
     "data": {
      "image/png": "[encoded data removed]",
      "text/plain": [
       "<Figure size 864x288 with 2 Axes>"
      ]
     },
     "metadata": {
      "needs_background": "light"
     },
     "output_type": "display_data"
    }
   ],
   "source": [
    "fig, ax = plt.subplots(1, 2, figsize=(12,4), gridspec_kw={'width_ratios': [1, 1.5]})\n",
    "sns.countplot(data=df_stats, y='portfolio', ax=ax[0])\n",
    "ax[0].title.set_text('Qtd de Ativos')\n",
    "sns.boxplot(data=df_stats, y='portfolio', x='r_mean', ax=ax[1])\n",
    "ax[1].title.set_text(\"Retorno Médio\")\n",
    "ax[1].get_yaxis().set_ticks([])\n",
    "ax[1].set_ylabel('')\n",
    "fig.tight_layout()"
   ]
  },
  {
   "cell_type": "markdown",
   "metadata": {},
   "source": [
    "### Matriz de Covariância"
   ]
  },
  {
   "cell_type": "code",
   "execution_count": 115,
   "id": "ed750ac4",
   "metadata": {},
   "outputs": [
    {
     "data": {
      "text/html": [
       "<div>\n",
       "<style scoped>\n",
       "    .dataframe tbody tr th:only-of-type {\n",
       "        vertical-align: middle;\n",
       "    }\n",
       "\n",
       "    .dataframe tbody tr th {\n",
       "        vertical-align: top;\n",
       "    }\n",
       "\n",
       "    .dataframe thead th {\n",
       "        text-align: right;\n",
       "    }\n",
       "</style>\n",
       "<table border=\"1\" class=\"dataframe\">\n",
       "  <thead>\n",
       "    <tr style=\"text-align: right;\">\n",
       "      <th></th>\n",
       "      <th>count</th>\n",
       "      <th>mean</th>\n",
       "      <th>std</th>\n",
       "      <th>min</th>\n",
       "      <th>25%</th>\n",
       "      <th>50%</th>\n",
       "      <th>75%</th>\n",
       "      <th>max</th>\n",
       "    </tr>\n",
       "  </thead>\n",
       "  <tbody>\n",
       "    <tr>\n",
       "      <th>port</th>\n",
       "      <td>37904.0</td>\n",
       "      <td>4.336350</td>\n",
       "      <td>1.068738</td>\n",
       "      <td>1.000000</td>\n",
       "      <td>4.000000</td>\n",
       "      <td>5.000000</td>\n",
       "      <td>5.00000</td>\n",
       "      <td>5.000000</td>\n",
       "    </tr>\n",
       "    <tr>\n",
       "      <th>i</th>\n",
       "      <td>37904.0</td>\n",
       "      <td>60.152728</td>\n",
       "      <td>49.736086</td>\n",
       "      <td>1.000000</td>\n",
       "      <td>20.000000</td>\n",
       "      <td>46.000000</td>\n",
       "      <td>88.00000</td>\n",
       "      <td>224.000000</td>\n",
       "    </tr>\n",
       "    <tr>\n",
       "      <th>j</th>\n",
       "      <td>37904.0</td>\n",
       "      <td>120.305456</td>\n",
       "      <td>62.150969</td>\n",
       "      <td>2.000000</td>\n",
       "      <td>68.000000</td>\n",
       "      <td>113.000000</td>\n",
       "      <td>178.00000</td>\n",
       "      <td>225.000000</td>\n",
       "    </tr>\n",
       "    <tr>\n",
       "      <th>cov</th>\n",
       "      <td>37904.0</td>\n",
       "      <td>0.388782</td>\n",
       "      <td>0.166550</td>\n",
       "      <td>-0.145815</td>\n",
       "      <td>0.258983</td>\n",
       "      <td>0.419793</td>\n",
       "      <td>0.51717</td>\n",
       "      <td>0.909412</td>\n",
       "    </tr>\n",
       "  </tbody>\n",
       "</table>\n",
       "</div>"
      ],
      "text/plain": [
       "        count        mean        std       min        25%         50%  \\\n",
       "port  37904.0    4.336350   1.068738  1.000000   4.000000    5.000000   \n",
       "i     37904.0   60.152728  49.736086  1.000000  20.000000   46.000000   \n",
       "j     37904.0  120.305456  62.150969  2.000000  68.000000  113.000000   \n",
       "cov   37904.0    0.388782   0.166550 -0.145815   0.258983    0.419793   \n",
       "\n",
       "            75%         max  \n",
       "port    5.00000    5.000000  \n",
       "i      88.00000  224.000000  \n",
       "j     178.00000  225.000000  \n",
       "cov     0.51717    0.909412  "
      ]
     },
     "execution_count": 115,
     "metadata": {},
     "output_type": "execute_result"
    }
   ],
   "source": [
    "df_cov_mx[df_cov_mx.i!=df_cov_mx.j].describe().T"
   ]
  },
  {
   "cell_type": "code",
   "execution_count": 116,
   "id": "ed750ac4",
   "metadata": {},
   "outputs": [
    {
     "data": {
      "text/plain": [
       "<AxesSubplot:>"
      ]
     },
     "execution_count": 116,
     "metadata": {},
     "output_type": "execute_result"
    },
    {
     "data": {
      "image/png": "[encoded data removed]",
      "text/plain": [
       "<Figure size 432x288 with 1 Axes>"
      ]
     },
     "metadata": {
      "needs_background": "light"
     },
     "output_type": "display_data"
    }
   ],
   "source": [
    "df_cov_mx[df_cov_mx.i!=df_cov_mx.j]['cov'].hist()"
   ]
  },
  {
   "cell_type": "code",
   "execution_count": 117,
   "id": "little-quebec",
   "metadata": {
    "ExecuteTime": {
     "end_time": "2021-10-31T03:08:38.695099Z",
     "start_time": "2021-10-31T03:08:38.402269Z"
    }
   },
   "outputs": [
    {
     "data": {
      "image/png": "[encoded data removed]",
      "text/plain": [
       "<Figure size 432x288 with 2 Axes>"
      ]
     },
     "metadata": {
      "needs_background": "light"
     },
     "output_type": "display_data"
    }
   ],
   "source": [
    "portfolio = 1\n",
    "df_cov_pivot = df_cov_mx[df_cov_mx.port==portfolio].pivot(index='i', columns='j', values='cov')\n",
    "sns.heatmap(df_cov_pivot.iloc[::-1], cmap=\"YlGnBu\") \n",
    "plt.title(portfolios[portfolio])\n",
    "ax=ax"
   ]
  },
  {
   "cell_type": "markdown",
   "metadata": {},
   "source": [
    "### Fronteiras de Eficiência Irrestrira - UEF"
   ]
  },
  {
   "cell_type": "code",
   "execution_count": 118,
   "metadata": {},
   "outputs": [
    {
     "data": {
      "text/html": [
       "<div>\n",
       "<style scoped>\n",
       "    .dataframe tbody tr th:only-of-type {\n",
       "        vertical-align: middle;\n",
       "    }\n",
       "\n",
       "    .dataframe tbody tr th {\n",
       "        vertical-align: top;\n",
       "    }\n",
       "\n",
       "    .dataframe thead th {\n",
       "        text-align: right;\n",
       "    }\n",
       "</style>\n",
       "<table border=\"1\" class=\"dataframe\">\n",
       "  <thead>\n",
       "    <tr style=\"text-align: right;\">\n",
       "      <th></th>\n",
       "      <th>mean_return</th>\n",
       "      <th>var_return</th>\n",
       "      <th>port</th>\n",
       "      <th>portfolio</th>\n",
       "    </tr>\n",
       "  </thead>\n",
       "  <tbody>\n",
       "    <tr>\n",
       "      <th>0</th>\n",
       "      <td>0.010865</td>\n",
       "      <td>0.004776</td>\n",
       "      <td>1</td>\n",
       "      <td>Hang Seng - Hong Kong</td>\n",
       "    </tr>\n",
       "    <tr>\n",
       "      <th>1</th>\n",
       "      <td>0.010861</td>\n",
       "      <td>0.004768</td>\n",
       "      <td>1</td>\n",
       "      <td>Hang Seng - Hong Kong</td>\n",
       "    </tr>\n",
       "    <tr>\n",
       "      <th>2</th>\n",
       "      <td>0.010857</td>\n",
       "      <td>0.004760</td>\n",
       "      <td>1</td>\n",
       "      <td>Hang Seng - Hong Kong</td>\n",
       "    </tr>\n",
       "    <tr>\n",
       "      <th>3</th>\n",
       "      <td>0.010853</td>\n",
       "      <td>0.004752</td>\n",
       "      <td>1</td>\n",
       "      <td>Hang Seng - Hong Kong</td>\n",
       "    </tr>\n",
       "    <tr>\n",
       "      <th>4</th>\n",
       "      <td>0.010849</td>\n",
       "      <td>0.004745</td>\n",
       "      <td>1</td>\n",
       "      <td>Hang Seng - Hong Kong</td>\n",
       "    </tr>\n",
       "  </tbody>\n",
       "</table>\n",
       "</div>"
      ],
      "text/plain": [
       "   mean_return  var_return  port              portfolio\n",
       "0     0.010865    0.004776     1  Hang Seng - Hong Kong\n",
       "1     0.010861    0.004768     1  Hang Seng - Hong Kong\n",
       "2     0.010857    0.004760     1  Hang Seng - Hong Kong\n",
       "3     0.010853    0.004752     1  Hang Seng - Hong Kong\n",
       "4     0.010849    0.004745     1  Hang Seng - Hong Kong"
      ]
     },
     "execution_count": 118,
     "metadata": {},
     "output_type": "execute_result"
    }
   ],
   "source": [
    "uef.head()"
   ]
  },
  {
   "cell_type": "code",
   "execution_count": 119,
   "metadata": {},
   "outputs": [
    {
     "data": {
      "image/png": "[encoded data removed]",
      "text/plain": [
       "<Figure size 1080x216 with 5 Axes>"
      ]
     },
     "metadata": {
      "needs_background": "light"
     },
     "output_type": "display_data"
    }
   ],
   "source": [
    "g = sns.relplot(data=uef, y='mean_return', x='var_return', col='portfolio', kind='line', height=3)\n",
    "ax=ax"
   ]
  },
  {
   "cell_type": "markdown",
   "id": "available-equivalent",
   "metadata": {},
   "source": [
    "## Curvas de Aprendizado"
   ]
  },
  {
   "cell_type": "markdown",
   "id": "frozen-agreement",
   "metadata": {},
   "source": [
    "### Avaliação do Impacto da Seed"
   ]
  },
  {
   "cell_type": "code",
   "execution_count": 120,
   "id": "8a777e9c",
   "metadata": {},
   "outputs": [
    {
     "data": {
      "text/html": [
       "<div>\n",
       "<style scoped>\n",
       "    .dataframe tbody tr th:only-of-type {\n",
       "        vertical-align: middle;\n",
       "    }\n",
       "\n",
       "    .dataframe tbody tr th {\n",
       "        vertical-align: top;\n",
       "    }\n",
       "\n",
       "    .dataframe thead th {\n",
       "        text-align: right;\n",
       "    }\n",
       "</style>\n",
       "<table border=\"1\" class=\"dataframe\">\n",
       "  <thead>\n",
       "    <tr style=\"text-align: right;\">\n",
       "      <th></th>\n",
       "      <th>iter</th>\n",
       "      <th>obj</th>\n",
       "      <th>return</th>\n",
       "      <th>max_iter</th>\n",
       "      <th>neighbours</th>\n",
       "      <th>alpha</th>\n",
       "      <th>exp_return</th>\n",
       "      <th>n_port</th>\n",
       "      <th>k</th>\n",
       "      <th>move_str</th>\n",
       "      <th>seed</th>\n",
       "      <th>selec_str</th>\n",
       "      <th>filename</th>\n",
       "    </tr>\n",
       "  </thead>\n",
       "  <tbody>\n",
       "    <tr>\n",
       "      <th>0</th>\n",
       "      <td>0</td>\n",
       "      <td>0.181318</td>\n",
       "      <td>0.003336</td>\n",
       "      <td>100</td>\n",
       "      <td>1000</td>\n",
       "      <td>0.1</td>\n",
       "      <td>0.001</td>\n",
       "      <td>1</td>\n",
       "      <td>5</td>\n",
       "      <td>best</td>\n",
       "      <td>NaN</td>\n",
       "      <td>best</td>\n",
       "      <td>log_gls_20211115_171729_646502.csv</td>\n",
       "    </tr>\n",
       "    <tr>\n",
       "      <th>1</th>\n",
       "      <td>1</td>\n",
       "      <td>0.114889</td>\n",
       "      <td>0.002894</td>\n",
       "      <td>100</td>\n",
       "      <td>1000</td>\n",
       "      <td>0.1</td>\n",
       "      <td>0.001</td>\n",
       "      <td>1</td>\n",
       "      <td>5</td>\n",
       "      <td>best</td>\n",
       "      <td>NaN</td>\n",
       "      <td>best</td>\n",
       "      <td>log_gls_20211115_171729_646502.csv</td>\n",
       "    </tr>\n",
       "    <tr>\n",
       "      <th>2</th>\n",
       "      <td>2</td>\n",
       "      <td>0.083337</td>\n",
       "      <td>0.002723</td>\n",
       "      <td>100</td>\n",
       "      <td>1000</td>\n",
       "      <td>0.1</td>\n",
       "      <td>0.001</td>\n",
       "      <td>1</td>\n",
       "      <td>5</td>\n",
       "      <td>best</td>\n",
       "      <td>NaN</td>\n",
       "      <td>best</td>\n",
       "      <td>log_gls_20211115_171729_646502.csv</td>\n",
       "    </tr>\n",
       "    <tr>\n",
       "      <th>3</th>\n",
       "      <td>3</td>\n",
       "      <td>0.065272</td>\n",
       "      <td>0.002633</td>\n",
       "      <td>100</td>\n",
       "      <td>1000</td>\n",
       "      <td>0.1</td>\n",
       "      <td>0.001</td>\n",
       "      <td>1</td>\n",
       "      <td>5</td>\n",
       "      <td>best</td>\n",
       "      <td>NaN</td>\n",
       "      <td>best</td>\n",
       "      <td>log_gls_20211115_171729_646502.csv</td>\n",
       "    </tr>\n",
       "    <tr>\n",
       "      <th>4</th>\n",
       "      <td>4</td>\n",
       "      <td>0.060956</td>\n",
       "      <td>0.002612</td>\n",
       "      <td>100</td>\n",
       "      <td>1000</td>\n",
       "      <td>0.1</td>\n",
       "      <td>0.001</td>\n",
       "      <td>1</td>\n",
       "      <td>5</td>\n",
       "      <td>best</td>\n",
       "      <td>NaN</td>\n",
       "      <td>best</td>\n",
       "      <td>log_gls_20211115_171729_646502.csv</td>\n",
       "    </tr>\n",
       "    <tr>\n",
       "      <th>...</th>\n",
       "      <td>...</td>\n",
       "      <td>...</td>\n",
       "      <td>...</td>\n",
       "      <td>...</td>\n",
       "      <td>...</td>\n",
       "      <td>...</td>\n",
       "      <td>...</td>\n",
       "      <td>...</td>\n",
       "      <td>...</td>\n",
       "      <td>...</td>\n",
       "      <td>...</td>\n",
       "      <td>...</td>\n",
       "      <td>...</td>\n",
       "    </tr>\n",
       "    <tr>\n",
       "      <th>95</th>\n",
       "      <td>95</td>\n",
       "      <td>0.007207</td>\n",
       "      <td>0.002475</td>\n",
       "      <td>100</td>\n",
       "      <td>1000</td>\n",
       "      <td>0.1</td>\n",
       "      <td>0.001</td>\n",
       "      <td>1</td>\n",
       "      <td>5</td>\n",
       "      <td>best</td>\n",
       "      <td>NaN</td>\n",
       "      <td>best</td>\n",
       "      <td>log_gls_20211115_171729_646502.csv</td>\n",
       "    </tr>\n",
       "    <tr>\n",
       "      <th>96</th>\n",
       "      <td>96</td>\n",
       "      <td>0.009802</td>\n",
       "      <td>0.002475</td>\n",
       "      <td>100</td>\n",
       "      <td>1000</td>\n",
       "      <td>0.1</td>\n",
       "      <td>0.001</td>\n",
       "      <td>1</td>\n",
       "      <td>5</td>\n",
       "      <td>best</td>\n",
       "      <td>NaN</td>\n",
       "      <td>best</td>\n",
       "      <td>log_gls_20211115_171729_646502.csv</td>\n",
       "    </tr>\n",
       "    <tr>\n",
       "      <th>97</th>\n",
       "      <td>97</td>\n",
       "      <td>0.007316</td>\n",
       "      <td>0.002459</td>\n",
       "      <td>100</td>\n",
       "      <td>1000</td>\n",
       "      <td>0.1</td>\n",
       "      <td>0.001</td>\n",
       "      <td>1</td>\n",
       "      <td>5</td>\n",
       "      <td>best</td>\n",
       "      <td>NaN</td>\n",
       "      <td>best</td>\n",
       "      <td>log_gls_20211115_171729_646502.csv</td>\n",
       "    </tr>\n",
       "    <tr>\n",
       "      <th>98</th>\n",
       "      <td>98</td>\n",
       "      <td>0.010242</td>\n",
       "      <td>0.002459</td>\n",
       "      <td>100</td>\n",
       "      <td>1000</td>\n",
       "      <td>0.1</td>\n",
       "      <td>0.001</td>\n",
       "      <td>1</td>\n",
       "      <td>5</td>\n",
       "      <td>best</td>\n",
       "      <td>NaN</td>\n",
       "      <td>best</td>\n",
       "      <td>log_gls_20211115_171729_646502.csv</td>\n",
       "    </tr>\n",
       "    <tr>\n",
       "      <th>99</th>\n",
       "      <td>99</td>\n",
       "      <td>0.007207</td>\n",
       "      <td>0.002475</td>\n",
       "      <td>100</td>\n",
       "      <td>1000</td>\n",
       "      <td>0.1</td>\n",
       "      <td>0.001</td>\n",
       "      <td>1</td>\n",
       "      <td>5</td>\n",
       "      <td>best</td>\n",
       "      <td>NaN</td>\n",
       "      <td>best</td>\n",
       "      <td>log_gls_20211115_171729_646502.csv</td>\n",
       "    </tr>\n",
       "  </tbody>\n",
       "</table>\n",
       "<p>100 rows × 13 columns</p>\n",
       "</div>"
      ],
      "text/plain": [
       "    iter       obj    return  max_iter  neighbours  alpha  exp_return  n_port  \\\n",
       "0      0  0.181318  0.003336       100        1000    0.1       0.001       1   \n",
       "1      1  0.114889  0.002894       100        1000    0.1       0.001       1   \n",
       "2      2  0.083337  0.002723       100        1000    0.1       0.001       1   \n",
       "3      3  0.065272  0.002633       100        1000    0.1       0.001       1   \n",
       "4      4  0.060956  0.002612       100        1000    0.1       0.001       1   \n",
       "..   ...       ...       ...       ...         ...    ...         ...     ...   \n",
       "95    95  0.007207  0.002475       100        1000    0.1       0.001       1   \n",
       "96    96  0.009802  0.002475       100        1000    0.1       0.001       1   \n",
       "97    97  0.007316  0.002459       100        1000    0.1       0.001       1   \n",
       "98    98  0.010242  0.002459       100        1000    0.1       0.001       1   \n",
       "99    99  0.007207  0.002475       100        1000    0.1       0.001       1   \n",
       "\n",
       "    k move_str  seed selec_str                            filename  \n",
       "0   5     best   NaN      best  log_gls_20211115_171729_646502.csv  \n",
       "1   5     best   NaN      best  log_gls_20211115_171729_646502.csv  \n",
       "2   5     best   NaN      best  log_gls_20211115_171729_646502.csv  \n",
       "3   5     best   NaN      best  log_gls_20211115_171729_646502.csv  \n",
       "4   5     best   NaN      best  log_gls_20211115_171729_646502.csv  \n",
       ".. ..      ...   ...       ...                                 ...  \n",
       "95  5     best   NaN      best  log_gls_20211115_171729_646502.csv  \n",
       "96  5     best   NaN      best  log_gls_20211115_171729_646502.csv  \n",
       "97  5     best   NaN      best  log_gls_20211115_171729_646502.csv  \n",
       "98  5     best   NaN      best  log_gls_20211115_171729_646502.csv  \n",
       "99  5     best   NaN      best  log_gls_20211115_171729_646502.csv  \n",
       "\n",
       "[100 rows x 13 columns]"
      ]
     },
     "execution_count": 120,
     "metadata": {},
     "output_type": "execute_result"
    }
   ],
   "source": [
    "all_data"
   ]
  },
  {
   "cell_type": "code",
   "execution_count": 121,
   "id": "effective-narrative",
   "metadata": {
    "ExecuteTime": {
     "start_time": "2021-10-31T03:08:56.421Z"
    }
   },
   "outputs": [
    {
     "data": {
      "image/png": "[encoded data removed]",
      "text/plain": [
       "<Figure size 280.125x216 with 1 Axes>"
      ]
     },
     "metadata": {
      "needs_background": "light"
     },
     "output_type": "display_data"
    }
   ],
   "source": [
    "g = sns.FacetGrid(\n",
    "    data=all_data, col='move_str', hue='neighbours')\n",
    "g.map(sns.lineplot, 'iter', 'obj')\n",
    "g.add_legend()\n",
    "g=g"
   ]
  },
  {
   "cell_type": "code",
   "execution_count": 122,
   "id": "effective-narrative",
   "metadata": {
    "ExecuteTime": {
     "start_time": "2021-10-31T03:08:56.421Z"
    }
   },
   "outputs": [],
   "source": [
    "# g = sns.FacetGrid(\n",
    "#     data=all_data, row='seed', col='selec_str', hue='alpha')\n",
    "# g.map(sns.lineplot, 'iter', 'obj')\n",
    "# g.add_legend()\n",
    "# g=g"
   ]
  },
  {
   "cell_type": "markdown",
   "id": "reasonable-raising",
   "metadata": {},
   "source": [
    "### Avaliação do Tipo de Move"
   ]
  },
  {
   "cell_type": "code",
   "execution_count": 123,
   "id": "unlike-glucose",
   "metadata": {
    "ExecuteTime": {
     "end_time": "2021-10-31T03:08:40.860344Z",
     "start_time": "2021-10-31T03:08:30.907Z"
    }
   },
   "outputs": [],
   "source": [
    "# g = sns.FacetGrid(\n",
    "#     data=all_data, row='selec_str', col='move_str', hue='alpha')\n",
    "# g.map(sns.lineplot, 'iter', 'obj')\n",
    "# g.add_legend()\n",
    "# g=g"
   ]
  },
  {
   "cell_type": "markdown",
   "id": "noted-houston",
   "metadata": {},
   "source": [
    "### Avaliação do Impacto do Retorno Experado"
   ]
  },
  {
   "cell_type": "code",
   "execution_count": 124,
   "id": "demonstrated-sacrifice",
   "metadata": {
    "ExecuteTime": {
     "end_time": "2021-10-31T03:08:40.861206Z",
     "start_time": "2021-10-31T03:08:30.908Z"
    }
   },
   "outputs": [],
   "source": [
    "# g = sns.FacetGrid(\n",
    "#     data=all_data, row='exp_return', col='move_str', hue='alpha')\n",
    "# g.map(sns.lineplot, 'iter', 'obj')\n",
    "# g.add_legend()\n",
    "# g=g"
   ]
  },
  {
   "cell_type": "markdown",
   "id": "helpful-audience",
   "metadata": {},
   "source": [
    "## Análise Best - Portfólio 1"
   ]
  },
  {
   "cell_type": "code",
   "execution_count": 125,
   "metadata": {},
   "outputs": [
    {
     "data": {
      "text/html": [
       "<div>\n",
       "<style scoped>\n",
       "    .dataframe tbody tr th:only-of-type {\n",
       "        vertical-align: middle;\n",
       "    }\n",
       "\n",
       "    .dataframe tbody tr th {\n",
       "        vertical-align: top;\n",
       "    }\n",
       "\n",
       "    .dataframe thead th {\n",
       "        text-align: right;\n",
       "    }\n",
       "</style>\n",
       "<table border=\"1\" class=\"dataframe\">\n",
       "  <thead>\n",
       "    <tr style=\"text-align: right;\">\n",
       "      <th></th>\n",
       "      <th>count</th>\n",
       "      <th>mean</th>\n",
       "      <th>std</th>\n",
       "      <th>min</th>\n",
       "      <th>25%</th>\n",
       "      <th>50%</th>\n",
       "      <th>75%</th>\n",
       "      <th>max</th>\n",
       "    </tr>\n",
       "  </thead>\n",
       "  <tbody>\n",
       "    <tr>\n",
       "      <th>port</th>\n",
       "      <td>31.0</td>\n",
       "      <td>1.000000</td>\n",
       "      <td>0.000000</td>\n",
       "      <td>1.000000</td>\n",
       "      <td>1.000000</td>\n",
       "      <td>1.000000</td>\n",
       "      <td>1.000000</td>\n",
       "      <td>1.000000</td>\n",
       "    </tr>\n",
       "    <tr>\n",
       "      <th>i</th>\n",
       "      <td>31.0</td>\n",
       "      <td>16.000000</td>\n",
       "      <td>9.092121</td>\n",
       "      <td>1.000000</td>\n",
       "      <td>8.500000</td>\n",
       "      <td>16.000000</td>\n",
       "      <td>23.500000</td>\n",
       "      <td>31.000000</td>\n",
       "    </tr>\n",
       "    <tr>\n",
       "      <th>r_mean</th>\n",
       "      <td>31.0</td>\n",
       "      <td>0.003504</td>\n",
       "      <td>0.002186</td>\n",
       "      <td>0.000141</td>\n",
       "      <td>0.002043</td>\n",
       "      <td>0.003286</td>\n",
       "      <td>0.004725</td>\n",
       "      <td>0.010865</td>\n",
       "    </tr>\n",
       "    <tr>\n",
       "      <th>r_std</th>\n",
       "      <td>31.0</td>\n",
       "      <td>0.045723</td>\n",
       "      <td>0.007296</td>\n",
       "      <td>0.035848</td>\n",
       "      <td>0.040043</td>\n",
       "      <td>0.045450</td>\n",
       "      <td>0.050112</td>\n",
       "      <td>0.069105</td>\n",
       "    </tr>\n",
       "  </tbody>\n",
       "</table>\n",
       "</div>"
      ],
      "text/plain": [
       "        count       mean       std       min       25%        50%        75%  \\\n",
       "port     31.0   1.000000  0.000000  1.000000  1.000000   1.000000   1.000000   \n",
       "i        31.0  16.000000  9.092121  1.000000  8.500000  16.000000  23.500000   \n",
       "r_mean   31.0   0.003504  0.002186  0.000141  0.002043   0.003286   0.004725   \n",
       "r_std    31.0   0.045723  0.007296  0.035848  0.040043   0.045450   0.050112   \n",
       "\n",
       "              max  \n",
       "port     1.000000  \n",
       "i       31.000000  \n",
       "r_mean   0.010865  \n",
       "r_std    0.069105  "
      ]
     },
     "execution_count": 125,
     "metadata": {},
     "output_type": "execute_result"
    }
   ],
   "source": [
    "df_stats[df_stats.port==1].describe().T"
   ]
  },
  {
   "cell_type": "code",
   "execution_count": 126,
   "metadata": {},
   "outputs": [
    {
     "name": "stdout",
     "output_type": "stream",
     "text": [
      "(1, 13)\n"
     ]
    },
    {
     "data": {
      "text/html": [
       "<div>\n",
       "<style scoped>\n",
       "    .dataframe tbody tr th:only-of-type {\n",
       "        vertical-align: middle;\n",
       "    }\n",
       "\n",
       "    .dataframe tbody tr th {\n",
       "        vertical-align: top;\n",
       "    }\n",
       "\n",
       "    .dataframe thead th {\n",
       "        text-align: right;\n",
       "    }\n",
       "</style>\n",
       "<table border=\"1\" class=\"dataframe\">\n",
       "  <thead>\n",
       "    <tr style=\"text-align: right;\">\n",
       "      <th></th>\n",
       "      <th>iter</th>\n",
       "      <th>obj</th>\n",
       "      <th>return</th>\n",
       "      <th>max_iter</th>\n",
       "      <th>neighbours</th>\n",
       "      <th>alpha</th>\n",
       "      <th>exp_return</th>\n",
       "      <th>n_port</th>\n",
       "      <th>k</th>\n",
       "      <th>move_str</th>\n",
       "      <th>seed</th>\n",
       "      <th>selec_str</th>\n",
       "      <th>filename</th>\n",
       "    </tr>\n",
       "  </thead>\n",
       "  <tbody>\n",
       "    <tr>\n",
       "      <th>0</th>\n",
       "      <td>99</td>\n",
       "      <td>0.007207</td>\n",
       "      <td>0.002475</td>\n",
       "      <td>100</td>\n",
       "      <td>1000</td>\n",
       "      <td>0.1</td>\n",
       "      <td>0.001</td>\n",
       "      <td>1</td>\n",
       "      <td>5</td>\n",
       "      <td>best</td>\n",
       "      <td>NaN</td>\n",
       "      <td>best</td>\n",
       "      <td>log_gls_20211115_171729_646502.csv</td>\n",
       "    </tr>\n",
       "  </tbody>\n",
       "</table>\n",
       "</div>"
      ],
      "text/plain": [
       "   iter       obj    return  max_iter  neighbours  alpha  exp_return  n_port  \\\n",
       "0    99  0.007207  0.002475       100        1000    0.1       0.001       1   \n",
       "\n",
       "   k move_str  seed selec_str                            filename  \n",
       "0  5     best   NaN      best  log_gls_20211115_171729_646502.csv  "
      ]
     },
     "execution_count": 126,
     "metadata": {},
     "output_type": "execute_result"
    }
   ],
   "source": [
    "print(best_data.shape)\n",
    "best_data.head()"
   ]
  },
  {
   "cell_type": "code",
   "execution_count": 127,
   "metadata": {},
   "outputs": [
    {
     "data": {
      "text/html": [
       "<div>\n",
       "<style scoped>\n",
       "    .dataframe tbody tr th:only-of-type {\n",
       "        vertical-align: middle;\n",
       "    }\n",
       "\n",
       "    .dataframe tbody tr th {\n",
       "        vertical-align: top;\n",
       "    }\n",
       "\n",
       "    .dataframe thead th {\n",
       "        text-align: right;\n",
       "    }\n",
       "</style>\n",
       "<table border=\"1\" class=\"dataframe\">\n",
       "  <thead>\n",
       "    <tr style=\"text-align: right;\">\n",
       "      <th></th>\n",
       "      <th>count</th>\n",
       "      <th>mean</th>\n",
       "      <th>std</th>\n",
       "      <th>min</th>\n",
       "      <th>25%</th>\n",
       "      <th>50%</th>\n",
       "      <th>75%</th>\n",
       "      <th>max</th>\n",
       "    </tr>\n",
       "  </thead>\n",
       "  <tbody>\n",
       "    <tr>\n",
       "      <th>iter</th>\n",
       "      <td>1.0</td>\n",
       "      <td>99.000000</td>\n",
       "      <td>NaN</td>\n",
       "      <td>99.000000</td>\n",
       "      <td>99.000000</td>\n",
       "      <td>99.000000</td>\n",
       "      <td>99.000000</td>\n",
       "      <td>99.000000</td>\n",
       "    </tr>\n",
       "    <tr>\n",
       "      <th>obj</th>\n",
       "      <td>1.0</td>\n",
       "      <td>0.007207</td>\n",
       "      <td>NaN</td>\n",
       "      <td>0.007207</td>\n",
       "      <td>0.007207</td>\n",
       "      <td>0.007207</td>\n",
       "      <td>0.007207</td>\n",
       "      <td>0.007207</td>\n",
       "    </tr>\n",
       "    <tr>\n",
       "      <th>return</th>\n",
       "      <td>1.0</td>\n",
       "      <td>0.002475</td>\n",
       "      <td>NaN</td>\n",
       "      <td>0.002475</td>\n",
       "      <td>0.002475</td>\n",
       "      <td>0.002475</td>\n",
       "      <td>0.002475</td>\n",
       "      <td>0.002475</td>\n",
       "    </tr>\n",
       "    <tr>\n",
       "      <th>max_iter</th>\n",
       "      <td>1.0</td>\n",
       "      <td>100.000000</td>\n",
       "      <td>NaN</td>\n",
       "      <td>100.000000</td>\n",
       "      <td>100.000000</td>\n",
       "      <td>100.000000</td>\n",
       "      <td>100.000000</td>\n",
       "      <td>100.000000</td>\n",
       "    </tr>\n",
       "    <tr>\n",
       "      <th>neighbours</th>\n",
       "      <td>1.0</td>\n",
       "      <td>1000.000000</td>\n",
       "      <td>NaN</td>\n",
       "      <td>1000.000000</td>\n",
       "      <td>1000.000000</td>\n",
       "      <td>1000.000000</td>\n",
       "      <td>1000.000000</td>\n",
       "      <td>1000.000000</td>\n",
       "    </tr>\n",
       "    <tr>\n",
       "      <th>alpha</th>\n",
       "      <td>1.0</td>\n",
       "      <td>0.100000</td>\n",
       "      <td>NaN</td>\n",
       "      <td>0.100000</td>\n",
       "      <td>0.100000</td>\n",
       "      <td>0.100000</td>\n",
       "      <td>0.100000</td>\n",
       "      <td>0.100000</td>\n",
       "    </tr>\n",
       "    <tr>\n",
       "      <th>exp_return</th>\n",
       "      <td>1.0</td>\n",
       "      <td>0.001000</td>\n",
       "      <td>NaN</td>\n",
       "      <td>0.001000</td>\n",
       "      <td>0.001000</td>\n",
       "      <td>0.001000</td>\n",
       "      <td>0.001000</td>\n",
       "      <td>0.001000</td>\n",
       "    </tr>\n",
       "    <tr>\n",
       "      <th>n_port</th>\n",
       "      <td>1.0</td>\n",
       "      <td>1.000000</td>\n",
       "      <td>NaN</td>\n",
       "      <td>1.000000</td>\n",
       "      <td>1.000000</td>\n",
       "      <td>1.000000</td>\n",
       "      <td>1.000000</td>\n",
       "      <td>1.000000</td>\n",
       "    </tr>\n",
       "    <tr>\n",
       "      <th>k</th>\n",
       "      <td>1.0</td>\n",
       "      <td>5.000000</td>\n",
       "      <td>NaN</td>\n",
       "      <td>5.000000</td>\n",
       "      <td>5.000000</td>\n",
       "      <td>5.000000</td>\n",
       "      <td>5.000000</td>\n",
       "      <td>5.000000</td>\n",
       "    </tr>\n",
       "    <tr>\n",
       "      <th>seed</th>\n",
       "      <td>0.0</td>\n",
       "      <td>NaN</td>\n",
       "      <td>NaN</td>\n",
       "      <td>NaN</td>\n",
       "      <td>NaN</td>\n",
       "      <td>NaN</td>\n",
       "      <td>NaN</td>\n",
       "      <td>NaN</td>\n",
       "    </tr>\n",
       "  </tbody>\n",
       "</table>\n",
       "</div>"
      ],
      "text/plain": [
       "            count         mean  std          min          25%          50%  \\\n",
       "iter          1.0    99.000000  NaN    99.000000    99.000000    99.000000   \n",
       "obj           1.0     0.007207  NaN     0.007207     0.007207     0.007207   \n",
       "return        1.0     0.002475  NaN     0.002475     0.002475     0.002475   \n",
       "max_iter      1.0   100.000000  NaN   100.000000   100.000000   100.000000   \n",
       "neighbours    1.0  1000.000000  NaN  1000.000000  1000.000000  1000.000000   \n",
       "alpha         1.0     0.100000  NaN     0.100000     0.100000     0.100000   \n",
       "exp_return    1.0     0.001000  NaN     0.001000     0.001000     0.001000   \n",
       "n_port        1.0     1.000000  NaN     1.000000     1.000000     1.000000   \n",
       "k             1.0     5.000000  NaN     5.000000     5.000000     5.000000   \n",
       "seed          0.0          NaN  NaN          NaN          NaN          NaN   \n",
       "\n",
       "                    75%          max  \n",
       "iter          99.000000    99.000000  \n",
       "obj            0.007207     0.007207  \n",
       "return         0.002475     0.002475  \n",
       "max_iter     100.000000   100.000000  \n",
       "neighbours  1000.000000  1000.000000  \n",
       "alpha          0.100000     0.100000  \n",
       "exp_return     0.001000     0.001000  \n",
       "n_port         1.000000     1.000000  \n",
       "k              5.000000     5.000000  \n",
       "seed                NaN          NaN  "
      ]
     },
     "execution_count": 127,
     "metadata": {},
     "output_type": "execute_result"
    }
   ],
   "source": [
    "best_data.describe().T"
   ]
  },
  {
   "cell_type": "code",
   "execution_count": 128,
   "metadata": {},
   "outputs": [
    {
     "data": {
      "text/plain": [
       "<seaborn.axisgrid.JointGrid at 0x7fcfe369f6a0>"
      ]
     },
     "execution_count": 128,
     "metadata": {},
     "output_type": "execute_result"
    },
    {
     "data": {
      "image/png": "[encoded data removed]",
      "text/plain": [
       "<Figure size 432x432 with 3 Axes>"
      ]
     },
     "metadata": {
      "needs_background": "light"
     },
     "output_type": "display_data"
    }
   ],
   "source": [
    "sns.jointplot(data=best_data, x='obj', y='return', palette='bright')"
   ]
  },
  {
   "cell_type": "code",
   "execution_count": 129,
   "metadata": {},
   "outputs": [
    {
     "data": {
      "text/plain": [
       "<seaborn.axisgrid.FacetGrid at 0x7fcfe570cbb0>"
      ]
     },
     "execution_count": 129,
     "metadata": {},
     "output_type": "execute_result"
    },
    {
     "data": {
      "image/png": "[encoded data removed]",
      "text/plain": [
       "<Figure size 402.375x360 with 1 Axes>"
      ]
     },
     "metadata": {
      "needs_background": "light"
     },
     "output_type": "display_data"
    }
   ],
   "source": [
    "sns.relplot(data=best_data, x='obj', y='return', hue='k', palette='flare')"
   ]
  },
  {
   "cell_type": "code",
   "execution_count": 130,
   "metadata": {},
   "outputs": [
    {
     "data": {
      "image/png": "[encoded data removed]",
      "text/plain": [
       "<Figure size 268x216 with 1 Axes>"
      ]
     },
     "metadata": {
      "needs_background": "light"
     },
     "output_type": "display_data"
    }
   ],
   "source": [
    "g = sns.FacetGrid(data=best_data, col='move_str', hue='alpha')\n",
    "g.map(sns.scatterplot, 'return', 'obj')\n",
    "g.add_legend()\n",
    "g=g"
   ]
  },
  {
   "cell_type": "code",
   "execution_count": 131,
   "metadata": {},
   "outputs": [
    {
     "data": {
      "image/png": "[encoded data removed]",
      "text/plain": [
       "<Figure size 268x216 with 1 Axes>"
      ]
     },
     "metadata": {
      "needs_background": "light"
     },
     "output_type": "display_data"
    }
   ],
   "source": [
    "g = sns.FacetGrid(data=best_data, col='selec_str', hue='alpha')\n",
    "g.map(sns.scatterplot, 'return', 'obj')\n",
    "g.add_legend()\n",
    "g=g"
   ]
  },
  {
   "cell_type": "code",
   "execution_count": 132,
   "metadata": {},
   "outputs": [
    {
     "data": {
      "image/png": "[encoded data removed]",
      "text/plain": [
       "<Figure size 258.375x216 with 1 Axes>"
      ]
     },
     "metadata": {
      "needs_background": "light"
     },
     "output_type": "display_data"
    }
   ],
   "source": [
    "g = sns.FacetGrid(data=best_data, hue='k')\n",
    "g.map(sns.scatterplot, 'return', 'obj')\n",
    "g.add_legend()\n",
    "g=g"
   ]
  },
  {
   "cell_type": "code",
   "execution_count": 133,
   "id": "d62033cd",
   "metadata": {},
   "outputs": [
    {
     "data": {
      "text/html": [
       "<div>\n",
       "<style scoped>\n",
       "    .dataframe tbody tr th:only-of-type {\n",
       "        vertical-align: middle;\n",
       "    }\n",
       "\n",
       "    .dataframe tbody tr th {\n",
       "        vertical-align: top;\n",
       "    }\n",
       "\n",
       "    .dataframe thead th {\n",
       "        text-align: right;\n",
       "    }\n",
       "</style>\n",
       "<table border=\"1\" class=\"dataframe\">\n",
       "  <thead>\n",
       "    <tr style=\"text-align: right;\">\n",
       "      <th></th>\n",
       "      <th>count</th>\n",
       "      <th>mean</th>\n",
       "      <th>std</th>\n",
       "      <th>min</th>\n",
       "      <th>25%</th>\n",
       "      <th>50%</th>\n",
       "      <th>75%</th>\n",
       "      <th>max</th>\n",
       "    </tr>\n",
       "  </thead>\n",
       "  <tbody>\n",
       "    <tr>\n",
       "      <th>iter</th>\n",
       "      <td>1.0</td>\n",
       "      <td>99.000000</td>\n",
       "      <td>NaN</td>\n",
       "      <td>99.000000</td>\n",
       "      <td>99.000000</td>\n",
       "      <td>99.000000</td>\n",
       "      <td>99.000000</td>\n",
       "      <td>99.000000</td>\n",
       "    </tr>\n",
       "    <tr>\n",
       "      <th>obj</th>\n",
       "      <td>1.0</td>\n",
       "      <td>0.007207</td>\n",
       "      <td>NaN</td>\n",
       "      <td>0.007207</td>\n",
       "      <td>0.007207</td>\n",
       "      <td>0.007207</td>\n",
       "      <td>0.007207</td>\n",
       "      <td>0.007207</td>\n",
       "    </tr>\n",
       "    <tr>\n",
       "      <th>return</th>\n",
       "      <td>1.0</td>\n",
       "      <td>0.002475</td>\n",
       "      <td>NaN</td>\n",
       "      <td>0.002475</td>\n",
       "      <td>0.002475</td>\n",
       "      <td>0.002475</td>\n",
       "      <td>0.002475</td>\n",
       "      <td>0.002475</td>\n",
       "    </tr>\n",
       "    <tr>\n",
       "      <th>max_iter</th>\n",
       "      <td>1.0</td>\n",
       "      <td>100.000000</td>\n",
       "      <td>NaN</td>\n",
       "      <td>100.000000</td>\n",
       "      <td>100.000000</td>\n",
       "      <td>100.000000</td>\n",
       "      <td>100.000000</td>\n",
       "      <td>100.000000</td>\n",
       "    </tr>\n",
       "    <tr>\n",
       "      <th>neighbours</th>\n",
       "      <td>1.0</td>\n",
       "      <td>1000.000000</td>\n",
       "      <td>NaN</td>\n",
       "      <td>1000.000000</td>\n",
       "      <td>1000.000000</td>\n",
       "      <td>1000.000000</td>\n",
       "      <td>1000.000000</td>\n",
       "      <td>1000.000000</td>\n",
       "    </tr>\n",
       "    <tr>\n",
       "      <th>alpha</th>\n",
       "      <td>1.0</td>\n",
       "      <td>0.100000</td>\n",
       "      <td>NaN</td>\n",
       "      <td>0.100000</td>\n",
       "      <td>0.100000</td>\n",
       "      <td>0.100000</td>\n",
       "      <td>0.100000</td>\n",
       "      <td>0.100000</td>\n",
       "    </tr>\n",
       "    <tr>\n",
       "      <th>exp_return</th>\n",
       "      <td>1.0</td>\n",
       "      <td>0.001000</td>\n",
       "      <td>NaN</td>\n",
       "      <td>0.001000</td>\n",
       "      <td>0.001000</td>\n",
       "      <td>0.001000</td>\n",
       "      <td>0.001000</td>\n",
       "      <td>0.001000</td>\n",
       "    </tr>\n",
       "    <tr>\n",
       "      <th>n_port</th>\n",
       "      <td>1.0</td>\n",
       "      <td>1.000000</td>\n",
       "      <td>NaN</td>\n",
       "      <td>1.000000</td>\n",
       "      <td>1.000000</td>\n",
       "      <td>1.000000</td>\n",
       "      <td>1.000000</td>\n",
       "      <td>1.000000</td>\n",
       "    </tr>\n",
       "    <tr>\n",
       "      <th>k</th>\n",
       "      <td>1.0</td>\n",
       "      <td>5.000000</td>\n",
       "      <td>NaN</td>\n",
       "      <td>5.000000</td>\n",
       "      <td>5.000000</td>\n",
       "      <td>5.000000</td>\n",
       "      <td>5.000000</td>\n",
       "      <td>5.000000</td>\n",
       "    </tr>\n",
       "    <tr>\n",
       "      <th>seed</th>\n",
       "      <td>0.0</td>\n",
       "      <td>NaN</td>\n",
       "      <td>NaN</td>\n",
       "      <td>NaN</td>\n",
       "      <td>NaN</td>\n",
       "      <td>NaN</td>\n",
       "      <td>NaN</td>\n",
       "      <td>NaN</td>\n",
       "    </tr>\n",
       "  </tbody>\n",
       "</table>\n",
       "</div>"
      ],
      "text/plain": [
       "            count         mean  std          min          25%          50%  \\\n",
       "iter          1.0    99.000000  NaN    99.000000    99.000000    99.000000   \n",
       "obj           1.0     0.007207  NaN     0.007207     0.007207     0.007207   \n",
       "return        1.0     0.002475  NaN     0.002475     0.002475     0.002475   \n",
       "max_iter      1.0   100.000000  NaN   100.000000   100.000000   100.000000   \n",
       "neighbours    1.0  1000.000000  NaN  1000.000000  1000.000000  1000.000000   \n",
       "alpha         1.0     0.100000  NaN     0.100000     0.100000     0.100000   \n",
       "exp_return    1.0     0.001000  NaN     0.001000     0.001000     0.001000   \n",
       "n_port        1.0     1.000000  NaN     1.000000     1.000000     1.000000   \n",
       "k             1.0     5.000000  NaN     5.000000     5.000000     5.000000   \n",
       "seed          0.0          NaN  NaN          NaN          NaN          NaN   \n",
       "\n",
       "                    75%          max  \n",
       "iter          99.000000    99.000000  \n",
       "obj            0.007207     0.007207  \n",
       "return         0.002475     0.002475  \n",
       "max_iter     100.000000   100.000000  \n",
       "neighbours  1000.000000  1000.000000  \n",
       "alpha          0.100000     0.100000  \n",
       "exp_return     0.001000     0.001000  \n",
       "n_port         1.000000     1.000000  \n",
       "k              5.000000     5.000000  \n",
       "seed                NaN          NaN  "
      ]
     },
     "execution_count": 133,
     "metadata": {},
     "output_type": "execute_result"
    }
   ],
   "source": [
    "best_data.describe().T"
   ]
  },
  {
   "cell_type": "code",
   "execution_count": 134,
   "id": "9d88caac",
   "metadata": {},
   "outputs": [
    {
     "data": {
      "text/html": [
       "<div>\n",
       "<style scoped>\n",
       "    .dataframe tbody tr th:only-of-type {\n",
       "        vertical-align: middle;\n",
       "    }\n",
       "\n",
       "    .dataframe tbody tr th {\n",
       "        vertical-align: top;\n",
       "    }\n",
       "\n",
       "    .dataframe thead th {\n",
       "        text-align: right;\n",
       "    }\n",
       "</style>\n",
       "<table border=\"1\" class=\"dataframe\">\n",
       "  <thead>\n",
       "    <tr style=\"text-align: right;\">\n",
       "      <th></th>\n",
       "      <th>count</th>\n",
       "      <th>mean</th>\n",
       "      <th>std</th>\n",
       "      <th>min</th>\n",
       "      <th>25%</th>\n",
       "      <th>50%</th>\n",
       "      <th>75%</th>\n",
       "      <th>max</th>\n",
       "    </tr>\n",
       "  </thead>\n",
       "  <tbody>\n",
       "    <tr>\n",
       "      <th>port</th>\n",
       "      <td>31.0</td>\n",
       "      <td>1.000000</td>\n",
       "      <td>0.000000</td>\n",
       "      <td>1.000000</td>\n",
       "      <td>1.000000</td>\n",
       "      <td>1.000000</td>\n",
       "      <td>1.000000</td>\n",
       "      <td>1.000000</td>\n",
       "    </tr>\n",
       "    <tr>\n",
       "      <th>i</th>\n",
       "      <td>31.0</td>\n",
       "      <td>16.000000</td>\n",
       "      <td>9.092121</td>\n",
       "      <td>1.000000</td>\n",
       "      <td>8.500000</td>\n",
       "      <td>16.000000</td>\n",
       "      <td>23.500000</td>\n",
       "      <td>31.000000</td>\n",
       "    </tr>\n",
       "    <tr>\n",
       "      <th>r_mean</th>\n",
       "      <td>31.0</td>\n",
       "      <td>0.003504</td>\n",
       "      <td>0.002186</td>\n",
       "      <td>0.000141</td>\n",
       "      <td>0.002043</td>\n",
       "      <td>0.003286</td>\n",
       "      <td>0.004725</td>\n",
       "      <td>0.010865</td>\n",
       "    </tr>\n",
       "    <tr>\n",
       "      <th>r_std</th>\n",
       "      <td>31.0</td>\n",
       "      <td>0.045723</td>\n",
       "      <td>0.007296</td>\n",
       "      <td>0.035848</td>\n",
       "      <td>0.040043</td>\n",
       "      <td>0.045450</td>\n",
       "      <td>0.050112</td>\n",
       "      <td>0.069105</td>\n",
       "    </tr>\n",
       "  </tbody>\n",
       "</table>\n",
       "</div>"
      ],
      "text/plain": [
       "        count       mean       std       min       25%        50%        75%  \\\n",
       "port     31.0   1.000000  0.000000  1.000000  1.000000   1.000000   1.000000   \n",
       "i        31.0  16.000000  9.092121  1.000000  8.500000  16.000000  23.500000   \n",
       "r_mean   31.0   0.003504  0.002186  0.000141  0.002043   0.003286   0.004725   \n",
       "r_std    31.0   0.045723  0.007296  0.035848  0.040043   0.045450   0.050112   \n",
       "\n",
       "              max  \n",
       "port     1.000000  \n",
       "i       31.000000  \n",
       "r_mean   0.010865  \n",
       "r_std    0.069105  "
      ]
     },
     "execution_count": 134,
     "metadata": {},
     "output_type": "execute_result"
    }
   ],
   "source": [
    "df_stats[df_stats.port==1].describe().T"
   ]
  },
  {
   "cell_type": "code",
   "execution_count": 135,
   "id": "03f8da2e",
   "metadata": {},
   "outputs": [
    {
     "data": {
      "text/html": [
       "<div>\n",
       "<style scoped>\n",
       "    .dataframe tbody tr th:only-of-type {\n",
       "        vertical-align: middle;\n",
       "    }\n",
       "\n",
       "    .dataframe tbody tr th {\n",
       "        vertical-align: top;\n",
       "    }\n",
       "\n",
       "    .dataframe thead th {\n",
       "        text-align: right;\n",
       "    }\n",
       "</style>\n",
       "<table border=\"1\" class=\"dataframe\">\n",
       "  <thead>\n",
       "    <tr style=\"text-align: right;\">\n",
       "      <th></th>\n",
       "      <th>count</th>\n",
       "      <th>mean</th>\n",
       "      <th>std</th>\n",
       "      <th>min</th>\n",
       "      <th>25%</th>\n",
       "      <th>50%</th>\n",
       "      <th>75%</th>\n",
       "      <th>max</th>\n",
       "    </tr>\n",
       "  </thead>\n",
       "  <tbody>\n",
       "    <tr>\n",
       "      <th>mean_return</th>\n",
       "      <td>2000.0</td>\n",
       "      <td>0.006825</td>\n",
       "      <td>0.002334</td>\n",
       "      <td>0.002784</td>\n",
       "      <td>0.004804</td>\n",
       "      <td>0.006825</td>\n",
       "      <td>0.008845</td>\n",
       "      <td>0.010865</td>\n",
       "    </tr>\n",
       "    <tr>\n",
       "      <th>var_return</th>\n",
       "      <td>2000.0</td>\n",
       "      <td>0.001579</td>\n",
       "      <td>0.001116</td>\n",
       "      <td>0.000642</td>\n",
       "      <td>0.000716</td>\n",
       "      <td>0.001058</td>\n",
       "      <td>0.002150</td>\n",
       "      <td>0.004776</td>\n",
       "    </tr>\n",
       "    <tr>\n",
       "      <th>port</th>\n",
       "      <td>2000.0</td>\n",
       "      <td>1.000000</td>\n",
       "      <td>0.000000</td>\n",
       "      <td>1.000000</td>\n",
       "      <td>1.000000</td>\n",
       "      <td>1.000000</td>\n",
       "      <td>1.000000</td>\n",
       "      <td>1.000000</td>\n",
       "    </tr>\n",
       "  </tbody>\n",
       "</table>\n",
       "</div>"
      ],
      "text/plain": [
       "              count      mean       std       min       25%       50%  \\\n",
       "mean_return  2000.0  0.006825  0.002334  0.002784  0.004804  0.006825   \n",
       "var_return   2000.0  0.001579  0.001116  0.000642  0.000716  0.001058   \n",
       "port         2000.0  1.000000  0.000000  1.000000  1.000000  1.000000   \n",
       "\n",
       "                  75%       max  \n",
       "mean_return  0.008845  0.010865  \n",
       "var_return   0.002150  0.004776  \n",
       "port         1.000000  1.000000  "
      ]
     },
     "execution_count": 135,
     "metadata": {},
     "output_type": "execute_result"
    }
   ],
   "source": [
    "uef[uef.port==1].describe().T"
   ]
  },
  {
   "cell_type": "code",
   "execution_count": 136,
   "metadata": {},
   "outputs": [
    {
     "data": {
      "text/plain": [
       "Text(0, 0.5, 'mean_return')"
      ]
     },
     "execution_count": 136,
     "metadata": {},
     "output_type": "execute_result"
    },
    {
     "data": {
      "image/png": "[encoded data removed]",
      "text/plain": [
       "<Figure size 432x288 with 1 Axes>"
      ]
     },
     "metadata": {
      "needs_background": "light"
     },
     "output_type": "display_data"
    }
   ],
   "source": [
    "data = best_data[best_data['obj']<0.05]\n",
    "plt.plot(uef[uef.port==1].var_return, uef[uef.port==1].mean_return)\n",
    "plt.scatter(data.obj, data['return'])\n",
    "plt.xlabel(\"var_return\")\n",
    "plt.ylabel(\"mean_return\")"
   ]
  },
  {
   "cell_type": "code",
   "execution_count": 91,
   "metadata": {},
   "outputs": [
    {
     "data": {
      "text/plain": [
       "Text(0, 0.5, 'mean_return')"
      ]
     },
     "execution_count": 91,
     "metadata": {},
     "output_type": "execute_result"
    },
    {
     "data": {
      "image/png": "[encoded data removed]",
      "text/plain": [
       "<Figure size 432x288 with 1 Axes>"
      ]
     },
     "metadata": {
      "needs_background": "light"
     },
     "output_type": "display_data"
    }
   ],
   "source": [
    "data = best_data[best_data['obj']<0.005]\n",
    "plt.plot(uef[uef.port==1].var_return, uef[uef.port==1].mean_return)\n",
    "plt.scatter(data.obj, data['return'])\n",
    "plt.xlabel(\"var_return\")\n",
    "plt.ylabel(\"mean_return\")"
   ]
  },
  {
   "cell_type": "code",
   "execution_count": 92,
   "metadata": {},
   "outputs": [
    {
     "data": {
      "text/html": [
       "<div>\n",
       "<style scoped>\n",
       "    .dataframe tbody tr th:only-of-type {\n",
       "        vertical-align: middle;\n",
       "    }\n",
       "\n",
       "    .dataframe tbody tr th {\n",
       "        vertical-align: top;\n",
       "    }\n",
       "\n",
       "    .dataframe thead th {\n",
       "        text-align: right;\n",
       "    }\n",
       "</style>\n",
       "<table border=\"1\" class=\"dataframe\">\n",
       "  <thead>\n",
       "    <tr style=\"text-align: right;\">\n",
       "      <th></th>\n",
       "      <th>exp_return</th>\n",
       "      <th>0.001</th>\n",
       "    </tr>\n",
       "    <tr>\n",
       "      <th>move_str</th>\n",
       "      <th>selec_str</th>\n",
       "      <th></th>\n",
       "    </tr>\n",
       "  </thead>\n",
       "  <tbody>\n",
       "    <tr>\n",
       "      <th>best</th>\n",
       "      <th>best</th>\n",
       "      <td>2</td>\n",
       "    </tr>\n",
       "  </tbody>\n",
       "</table>\n",
       "</div>"
      ],
      "text/plain": [
       "exp_return          0.001\n",
       "move_str selec_str       \n",
       "best     best           2"
      ]
     },
     "execution_count": 92,
     "metadata": {},
     "output_type": "execute_result"
    }
   ],
   "source": [
    "best_data.groupby(['exp_return', 'move_str', 'selec_str'], as_index=False)['obj']\\\n",
    "    .count()\\\n",
    "    .pivot(index=['move_str', 'selec_str'], columns='exp_return', values='obj')"
   ]
  },
  {
   "cell_type": "code",
   "execution_count": 93,
   "metadata": {},
   "outputs": [
    {
     "data": {
      "text/html": [
       "<div>\n",
       "<style scoped>\n",
       "    .dataframe tbody tr th:only-of-type {\n",
       "        vertical-align: middle;\n",
       "    }\n",
       "\n",
       "    .dataframe tbody tr th {\n",
       "        vertical-align: top;\n",
       "    }\n",
       "\n",
       "    .dataframe thead th {\n",
       "        text-align: right;\n",
       "    }\n",
       "</style>\n",
       "<table border=\"1\" class=\"dataframe\">\n",
       "  <thead>\n",
       "    <tr style=\"text-align: right;\">\n",
       "      <th></th>\n",
       "      <th>exp_return</th>\n",
       "      <th>0.001</th>\n",
       "    </tr>\n",
       "    <tr>\n",
       "      <th>move_str</th>\n",
       "      <th>selec_str</th>\n",
       "      <th></th>\n",
       "    </tr>\n",
       "  </thead>\n",
       "  <tbody>\n",
       "    <tr>\n",
       "      <th>best</th>\n",
       "      <th>best</th>\n",
       "      <td>0.000013</td>\n",
       "    </tr>\n",
       "  </tbody>\n",
       "</table>\n",
       "</div>"
      ],
      "text/plain": [
       "exp_return             0.001\n",
       "move_str selec_str          \n",
       "best     best       0.000013"
      ]
     },
     "execution_count": 93,
     "metadata": {},
     "output_type": "execute_result"
    }
   ],
   "source": [
    "best_data.groupby(['exp_return', 'move_str', 'selec_str'], as_index=False)['obj']\\\n",
    "    .min()\\\n",
    "    .pivot(index=['move_str', 'selec_str'], columns='exp_return', values='obj')"
   ]
  },
  {
   "cell_type": "code",
   "execution_count": 94,
   "id": "empty-fisher",
   "metadata": {},
   "outputs": [
    {
     "name": "stdout",
     "output_type": "stream",
     "text": [
      "(1, 2)\n"
     ]
    },
    {
     "data": {
      "text/html": [
       "<div>\n",
       "<style scoped>\n",
       "    .dataframe tbody tr th:only-of-type {\n",
       "        vertical-align: middle;\n",
       "    }\n",
       "\n",
       "    .dataframe tbody tr th {\n",
       "        vertical-align: top;\n",
       "    }\n",
       "\n",
       "    .dataframe thead th {\n",
       "        text-align: right;\n",
       "    }\n",
       "</style>\n",
       "<table border=\"1\" class=\"dataframe\">\n",
       "  <thead>\n",
       "    <tr style=\"text-align: right;\">\n",
       "      <th></th>\n",
       "      <th>exp_return</th>\n",
       "      <th>obj</th>\n",
       "    </tr>\n",
       "  </thead>\n",
       "  <tbody>\n",
       "    <tr>\n",
       "      <th>0</th>\n",
       "      <td>0.001</td>\n",
       "      <td>0.000013</td>\n",
       "    </tr>\n",
       "  </tbody>\n",
       "</table>\n",
       "</div>"
      ],
      "text/plain": [
       "   exp_return       obj\n",
       "0       0.001  0.000013"
      ]
     },
     "execution_count": 94,
     "metadata": {},
     "output_type": "execute_result"
    }
   ],
   "source": [
    "best_best_data = best_data.groupby(['exp_return'], as_index=False)['obj'].min()\n",
    "print(best_best_data.shape)\n",
    "best_best_data.head()"
   ]
  },
  {
   "cell_type": "code",
   "execution_count": 95,
   "metadata": {},
   "outputs": [
    {
     "data": {
      "text/plain": [
       "[<matplotlib.lines.Line2D at 0x7fcfe4611b20>]"
      ]
     },
     "execution_count": 95,
     "metadata": {},
     "output_type": "execute_result"
    },
    {
     "data": {
      "image/png": "[encoded data removed]",
      "text/plain": [
       "<Figure size 432x288 with 1 Axes>"
      ]
     },
     "metadata": {
      "needs_background": "light"
     },
     "output_type": "display_data"
    }
   ],
   "source": [
    "plt.plot(uef[uef.port==1].mean_return, uef[uef.port==1].var_return)\n",
    "plt.plot(best_best_data.exp_return, best_best_data.obj)"
   ]
  }
 ],
 "metadata": {
  "interpreter": {
   "hash": "f6cb668b59e4b046a7e38bbc755e07d52764e1df270e17944c28cd2019a15cbc"
  },
  "kernelspec": {
   "display_name": "Python 3.8.12 64-bit ('abradee': conda)",
   "name": "python3"
  },
  "language_info": {
   "codemirror_mode": {
    "name": "ipython",
    "version": 3
   },
   "file_extension": ".py",
   "mimetype": "text/x-python",
   "name": "python",
   "nbconvert_exporter": "python",
   "pygments_lexer": "ipython3",
   "version": "3.8.12"
  }
 },
 "nbformat": 4,
 "nbformat_minor": 5
}
