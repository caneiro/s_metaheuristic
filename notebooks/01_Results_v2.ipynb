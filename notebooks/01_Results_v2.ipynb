{
 "cells": [
  {
   "cell_type": "markdown",
   "id": "sublime-clock",
   "metadata": {},
   "source": [
    "# LOCAL SEARCH - ANÁLISE DE RESULTADOS\n",
    "\n",
    " - ITA | PG-CTE-S | TE-282 - Meta-heurísticas\n",
    " - Professor Dr. Angelo Passaro\n",
    " - Aluno: Rafael Caneiro de Oliveira\n",
    " - Versao: 0.1\n",
    " - Data: 26/10/2021"
   ]
  },
  {
   "cell_type": "markdown",
   "id": "popular-garlic",
   "metadata": {},
   "source": [
    "## Bibliotecas | Parâmetros | Funções"
   ]
  },
  {
   "cell_type": "code",
   "execution_count": 1,
   "id": "dac73a11",
   "metadata": {
    "ExecuteTime": {
     "end_time": "2021-10-31T03:08:30.893148Z",
     "start_time": "2021-10-31T03:08:30.889405Z"
    },
    "scrolled": false
   },
   "outputs": [
    {
     "name": "stdout",
     "output_type": "stream",
     "text": [
      "/Users/rco/github/s_metaheuristic/data/log\n"
     ]
    }
   ],
   "source": [
    "import numpy as np\n",
    "import pandas as pd\n",
    "import matplotlib.pyplot as plt\n",
    "import seaborn as sns\n",
    "from pathlib import Path\n",
    "import glob\n",
    "from ast import literal_eval\n",
    "\n",
    "PATH = Path.cwd().parent\n",
    "RAW_PATH = Path(PATH, \"./data/raw/\") \n",
    "LOG_PATH = Path(PATH, \"./data/log/\")\n",
    "print(LOG_PATH)\n"
   ]
  },
  {
   "cell_type": "code",
   "execution_count": 2,
   "id": "boolean-workplace",
   "metadata": {
    "ExecuteTime": {
     "end_time": "2021-10-31T03:08:30.901583Z",
     "start_time": "2021-10-31T03:08:30.895055Z"
    }
   },
   "outputs": [],
   "source": [
    "def read_port_files(n_port):\n",
    "    filepath = Path(RAW_PATH, 'port' + str(n_port) + '.txt')\n",
    "    with open(filepath) as fp:\n",
    "        # quantidade de ativos no portfolio\n",
    "        n_assets = int(fp.readline())\n",
    "        # armazena as estatisticas do ativo\n",
    "        r_mean = []\n",
    "        r_std = []\n",
    "        for n in range(n_assets):\n",
    "            line = fp.readline()\n",
    "            r_mean.append(float(line.strip().split()[0]))\n",
    "            r_std.append(float(line.strip().split()[1]))\n",
    "\n",
    "        # obtem o restante da matriz de covariancia\n",
    "        cnt = 32\n",
    "        i = []\n",
    "        j = []\n",
    "        cov = []\n",
    "        line = fp.readline()\n",
    "        while line:\n",
    "            i.append(int(line.strip().split(' ')[0]))\n",
    "            j.append(int(line.strip().split(' ')[1]))\n",
    "            cov.append(float(line.strip().split(' ')[2]))\n",
    "            line = fp.readline()\n",
    "    fp.close()\n",
    "    # retorna dataframe com estatisticas dos ativos do portfolio\n",
    "    df_stats = pd.DataFrame({'port':n_port,\n",
    "                             'i':[i_+1 for i_ in range(n_assets)],\n",
    "                             'r_mean':r_mean,\n",
    "                             'r_std':r_std})\n",
    "    print(df_stats.shape)\n",
    "\n",
    "    # retorna dataframe com matriz de covariancia dos ativos do portfolio\n",
    "    df_cov_mx = pd.DataFrame({'port':n_port,\n",
    "                             'i':i,\n",
    "                             'j':j,\n",
    "                             'cov':cov})\n",
    "    print(df_cov_mx.shape)\n",
    "    return df_stats, df_cov_mx"
   ]
  },
  {
   "cell_type": "markdown",
   "id": "legislative-leisure",
   "metadata": {},
   "source": [
    "## Carrega Dados"
   ]
  },
  {
   "cell_type": "code",
   "execution_count": 3,
   "id": "above-programming",
   "metadata": {
    "ExecuteTime": {
     "end_time": "2021-10-31T03:08:31.008947Z",
     "start_time": "2021-10-31T03:08:30.904027Z"
    }
   },
   "outputs": [
    {
     "name": "stdout",
     "output_type": "stream",
     "text": [
      "(31, 4)\n",
      "(496, 4)\n",
      "(85, 4)\n",
      "(3655, 4)\n",
      "(89, 4)\n",
      "(4005, 4)\n",
      "(98, 4)\n",
      "(4851, 4)\n",
      "(225, 4)\n",
      "(25425, 4)\n"
     ]
    }
   ],
   "source": [
    "df_stats_list = []\n",
    "df_cov_mx_list =[]\n",
    "for p in range(1,6,1):\n",
    "    df_stats, df_cov_mx = read_port_files(p)\n",
    "    df_stats_list.append(df_stats)\n",
    "    df_cov_mx_list.append(df_cov_mx)\n",
    "    \n",
    "df_stats = pd.concat(df_stats_list)\n",
    "df_cov_mx = pd.concat(df_cov_mx_list)"
   ]
  },
  {
   "cell_type": "code",
   "execution_count": 4,
   "id": "likely-creature",
   "metadata": {
    "ExecuteTime": {
     "end_time": "2021-10-31T03:08:38.145537Z",
     "start_time": "2021-10-31T03:08:38.139516Z"
    }
   },
   "outputs": [],
   "source": [
    "portfolios = {\n",
    "    1:'Hang Seng - Hong Kong',\n",
    "    2:'DAX - German Blue Chips',\n",
    "    3:'FTSE - London',\n",
    "    4:\"S&P - Standard and Poor's 500 - US\",\n",
    "    5:'Nikkei - Tokyo'\n",
    "}\n",
    "df_stats['portfolio'] = df_stats.port.map(portfolios)\n",
    "df_cov_mx['portfolio'] = df_cov_mx.port.map(portfolios)"
   ]
  },
  {
   "cell_type": "code",
   "execution_count": 5,
   "metadata": {},
   "outputs": [
    {
     "data": {
      "text/html": [
       "<div>\n",
       "<style scoped>\n",
       "    .dataframe tbody tr th:only-of-type {\n",
       "        vertical-align: middle;\n",
       "    }\n",
       "\n",
       "    .dataframe tbody tr th {\n",
       "        vertical-align: top;\n",
       "    }\n",
       "\n",
       "    .dataframe thead th {\n",
       "        text-align: right;\n",
       "    }\n",
       "</style>\n",
       "<table border=\"1\" class=\"dataframe\">\n",
       "  <thead>\n",
       "    <tr style=\"text-align: right;\">\n",
       "      <th></th>\n",
       "      <th>mean_return</th>\n",
       "      <th>var_return</th>\n",
       "      <th>port</th>\n",
       "      <th>portfolio</th>\n",
       "    </tr>\n",
       "  </thead>\n",
       "  <tbody>\n",
       "    <tr>\n",
       "      <th>0</th>\n",
       "      <td>0.010865</td>\n",
       "      <td>0.004776</td>\n",
       "      <td>1</td>\n",
       "      <td>Hang Seng - Hong Kong</td>\n",
       "    </tr>\n",
       "    <tr>\n",
       "      <th>1</th>\n",
       "      <td>0.010861</td>\n",
       "      <td>0.004768</td>\n",
       "      <td>1</td>\n",
       "      <td>Hang Seng - Hong Kong</td>\n",
       "    </tr>\n",
       "    <tr>\n",
       "      <th>2</th>\n",
       "      <td>0.010857</td>\n",
       "      <td>0.004760</td>\n",
       "      <td>1</td>\n",
       "      <td>Hang Seng - Hong Kong</td>\n",
       "    </tr>\n",
       "    <tr>\n",
       "      <th>3</th>\n",
       "      <td>0.010853</td>\n",
       "      <td>0.004752</td>\n",
       "      <td>1</td>\n",
       "      <td>Hang Seng - Hong Kong</td>\n",
       "    </tr>\n",
       "    <tr>\n",
       "      <th>4</th>\n",
       "      <td>0.010849</td>\n",
       "      <td>0.004745</td>\n",
       "      <td>1</td>\n",
       "      <td>Hang Seng - Hong Kong</td>\n",
       "    </tr>\n",
       "  </tbody>\n",
       "</table>\n",
       "</div>"
      ],
      "text/plain": [
       "   mean_return  var_return  port              portfolio\n",
       "0     0.010865    0.004776     1  Hang Seng - Hong Kong\n",
       "1     0.010861    0.004768     1  Hang Seng - Hong Kong\n",
       "2     0.010857    0.004760     1  Hang Seng - Hong Kong\n",
       "3     0.010853    0.004752     1  Hang Seng - Hong Kong\n",
       "4     0.010849    0.004745     1  Hang Seng - Hong Kong"
      ]
     },
     "execution_count": 5,
     "metadata": {},
     "output_type": "execute_result"
    }
   ],
   "source": [
    "uefs = []\n",
    "for port in range(5):\n",
    "    uef = pd.read_csv(Path(RAW_PATH, 'portef' + str(port+1) + '.txt'), header=None, sep='\\s+')\n",
    "    uef.columns = ['mean_return', 'var_return']\n",
    "    uef['port'] = port + 1\n",
    "    uefs.append(uef)\n",
    "uef = pd.concat(uefs, ignore_index=True).reset_index(drop=True)\n",
    "uef['portfolio'] = uef.port.map(portfolios)\n",
    "uef.head()"
   ]
  },
  {
   "cell_type": "code",
   "execution_count": 6,
   "id": "surprised-pastor",
   "metadata": {
    "ExecuteTime": {
     "end_time": "2021-10-31T03:08:37.806127Z",
     "start_time": "2021-10-31T03:08:31.011392Z"
    }
   },
   "outputs": [
    {
     "name": "stdout",
     "output_type": "stream",
     "text": [
      "Importados 3911 arquivos\n"
     ]
    }
   ],
   "source": [
    "all_dfs = []\n",
    "best_dfs = []\n",
    "LOGs = str(LOG_PATH) + '/*.csv'\n",
    "\n",
    "c = 0\n",
    "for file in glob.glob(str(LOGs)):\n",
    "    filename = file[file.find('/log/')+5:]\n",
    "    try:\n",
    "        df = pd.read_csv(file, low_memory=False, sep=',', quotechar='\"')\n",
    "        c = c + 1\n",
    "    except:\n",
    "        print('Arquivo não importado: {}'.format(filename))\n",
    "    df['filename'] = filename\n",
    "    df['Z'] = df.Z.apply(lambda x: literal_eval(x))\n",
    "    df['X'] = df.X.apply(lambda x: literal_eval(x))\n",
    "    df['k'] = df.Z.apply(lambda x: len(x))\n",
    "    all_dfs.append(df)\n",
    "    best_dfs.append(df.iloc[-1:])\n",
    "\n",
    "all_data = pd.concat(all_dfs, ignore_index=True).reset_index(drop=True)\n",
    "all_data.rename({'move_strategy':'move_str',\n",
    "                 'selection_strategy':'selec_str'}, axis=1, inplace=True)\n",
    "\n",
    "best_data = pd.concat(best_dfs, ignore_index=True).reset_index(drop=True)\n",
    "best_data.rename({'move_strategy':'move_str',\n",
    "                  'selection_strategy':'selec_str'}, axis=1, inplace=True)\n",
    "\n",
    "print('Importados {} arquivos'.format(c))\n",
    "\n",
    "# for col in all_data.columns:\n",
    "#     all_data[col] = pd.to_numeric(all_data[col])\n",
    "\n",
    "# for col in best_data.columns:\n",
    "#     best_data[col] = pd.to_numeric(best_data[col])"
   ]
  },
  {
   "cell_type": "code",
   "execution_count": 8,
   "metadata": {},
   "outputs": [
    {
     "data": {
      "text/plain": [
       "0          [1, 3, 4, 7, 15, 24, 28]\n",
       "1         [1, 3, 4, 15, 24, 27, 28]\n",
       "2         [1, 3, 4, 24, 25, 27, 28]\n",
       "3         [1, 3, 4, 16, 24, 25, 27]\n",
       "4         [3, 4, 8, 16, 24, 25, 27]\n",
       "                    ...            \n",
       "198272                   [4, 8, 25]\n",
       "198273                   [4, 8, 25]\n",
       "198274                   [4, 8, 25]\n",
       "198275                   [4, 8, 25]\n",
       "198276                   [4, 8, 25]\n",
       "Name: Z, Length: 198277, dtype: object"
      ]
     },
     "execution_count": 8,
     "metadata": {},
     "output_type": "execute_result"
    }
   ],
   "source": [
    "all_data.Z"
   ]
  },
  {
   "cell_type": "code",
   "execution_count": 9,
   "metadata": {},
   "outputs": [
    {
     "name": "stdout",
     "output_type": "stream",
     "text": [
      "<class 'pandas.core.frame.DataFrame'>\n",
      "RangeIndex: 198277 entries, 0 to 198276\n",
      "Data columns (total 25 columns):\n",
      " #   Column      Non-Null Count   Dtype  \n",
      "---  ------      --------------   -----  \n",
      " 0   iter        198277 non-null  int64  \n",
      " 1   move        198277 non-null  object \n",
      " 2   improve     198277 non-null  bool   \n",
      " 3   obj         198277 non-null  float64\n",
      " 4   return      198277 non-null  float64\n",
      " 5   n_assets    198277 non-null  int64  \n",
      " 6   qX          198277 non-null  int64  \n",
      " 7   qN          198277 non-null  int64  \n",
      " 8   qNv         198277 non-null  int64  \n",
      " 9   iter_time   198277 non-null  float64\n",
      " 10  max_iter    198277 non-null  int64  \n",
      " 11  neighbours  198277 non-null  int64  \n",
      " 12  alpha       198277 non-null  float64\n",
      " 13  exp_return  198277 non-null  float64\n",
      " 14  n_port      196001 non-null  float64\n",
      " 15  k_min       198277 non-null  int64  \n",
      " 16  k_max       198277 non-null  int64  \n",
      " 17  move_str    198277 non-null  object \n",
      " 18  seed        198219 non-null  float64\n",
      " 19  selec_str   198277 non-null  object \n",
      " 20  tag         198277 non-null  object \n",
      " 21  X           198277 non-null  object \n",
      " 22  Z           198277 non-null  object \n",
      " 23  filename    198277 non-null  object \n",
      " 24  k           198277 non-null  int64  \n",
      "dtypes: bool(1), float64(7), int64(10), object(7)\n",
      "memory usage: 36.5+ MB\n"
     ]
    }
   ],
   "source": [
    "all_data.info()"
   ]
  },
  {
   "cell_type": "code",
   "execution_count": 7,
   "id": "rental-airport",
   "metadata": {
    "ExecuteTime": {
     "end_time": "2021-10-31T03:08:38.135832Z",
     "start_time": "2021-10-31T03:08:37.883828Z"
    }
   },
   "outputs": [],
   "source": [
    "# all_data.describe(include='all').T"
   ]
  },
  {
   "cell_type": "markdown",
   "id": "signed-papua",
   "metadata": {},
   "source": [
    "## Portfólios"
   ]
  },
  {
   "cell_type": "markdown",
   "metadata": {},
   "source": [
    "### Geral"
   ]
  },
  {
   "cell_type": "code",
   "execution_count": 8,
   "id": "available-renewal",
   "metadata": {
    "ExecuteTime": {
     "end_time": "2021-10-31T03:08:38.400788Z",
     "start_time": "2021-10-31T03:08:38.147553Z"
    }
   },
   "outputs": [
    {
     "data": {
      "image/png": "[encoded data removed]",
      "text/plain": [
       "<Figure size 864x288 with 2 Axes>"
      ]
     },
     "metadata": {
      "needs_background": "light"
     },
     "output_type": "display_data"
    }
   ],
   "source": [
    "fig, ax = plt.subplots(1, 2, figsize=(12,4), gridspec_kw={'width_ratios': [1, 1.5]})\n",
    "sns.countplot(data=df_stats, y='portfolio', ax=ax[0])\n",
    "ax[0].title.set_text('Qtd de Ativos')\n",
    "sns.boxplot(data=df_stats, y='portfolio', x='r_mean', ax=ax[1])\n",
    "ax[1].title.set_text(\"Retorno Médio\")\n",
    "ax[1].get_yaxis().set_ticks([])\n",
    "ax[1].set_ylabel('')\n",
    "fig.tight_layout()"
   ]
  },
  {
   "cell_type": "markdown",
   "metadata": {},
   "source": [
    "### Matriz de Covariância"
   ]
  },
  {
   "cell_type": "code",
   "execution_count": 10,
   "id": "ed750ac4",
   "metadata": {},
   "outputs": [
    {
     "data": {
      "text/html": [
       "<div>\n",
       "<style scoped>\n",
       "    .dataframe tbody tr th:only-of-type {\n",
       "        vertical-align: middle;\n",
       "    }\n",
       "\n",
       "    .dataframe tbody tr th {\n",
       "        vertical-align: top;\n",
       "    }\n",
       "\n",
       "    .dataframe thead th {\n",
       "        text-align: right;\n",
       "    }\n",
       "</style>\n",
       "<table border=\"1\" class=\"dataframe\">\n",
       "  <thead>\n",
       "    <tr style=\"text-align: right;\">\n",
       "      <th></th>\n",
       "      <th>count</th>\n",
       "      <th>mean</th>\n",
       "      <th>std</th>\n",
       "      <th>min</th>\n",
       "      <th>25%</th>\n",
       "      <th>50%</th>\n",
       "      <th>75%</th>\n",
       "      <th>max</th>\n",
       "    </tr>\n",
       "  </thead>\n",
       "  <tbody>\n",
       "    <tr>\n",
       "      <th>port</th>\n",
       "      <td>37904.0</td>\n",
       "      <td>4.336350</td>\n",
       "      <td>1.068738</td>\n",
       "      <td>1.000000</td>\n",
       "      <td>4.000000</td>\n",
       "      <td>5.000000</td>\n",
       "      <td>5.00000</td>\n",
       "      <td>5.000000</td>\n",
       "    </tr>\n",
       "    <tr>\n",
       "      <th>i</th>\n",
       "      <td>37904.0</td>\n",
       "      <td>60.152728</td>\n",
       "      <td>49.736086</td>\n",
       "      <td>1.000000</td>\n",
       "      <td>20.000000</td>\n",
       "      <td>46.000000</td>\n",
       "      <td>88.00000</td>\n",
       "      <td>224.000000</td>\n",
       "    </tr>\n",
       "    <tr>\n",
       "      <th>j</th>\n",
       "      <td>37904.0</td>\n",
       "      <td>120.305456</td>\n",
       "      <td>62.150969</td>\n",
       "      <td>2.000000</td>\n",
       "      <td>68.000000</td>\n",
       "      <td>113.000000</td>\n",
       "      <td>178.00000</td>\n",
       "      <td>225.000000</td>\n",
       "    </tr>\n",
       "    <tr>\n",
       "      <th>cov</th>\n",
       "      <td>37904.0</td>\n",
       "      <td>0.388782</td>\n",
       "      <td>0.166550</td>\n",
       "      <td>-0.145815</td>\n",
       "      <td>0.258983</td>\n",
       "      <td>0.419793</td>\n",
       "      <td>0.51717</td>\n",
       "      <td>0.909412</td>\n",
       "    </tr>\n",
       "  </tbody>\n",
       "</table>\n",
       "</div>"
      ],
      "text/plain": [
       "        count        mean        std       min        25%         50%  \\\n",
       "port  37904.0    4.336350   1.068738  1.000000   4.000000    5.000000   \n",
       "i     37904.0   60.152728  49.736086  1.000000  20.000000   46.000000   \n",
       "j     37904.0  120.305456  62.150969  2.000000  68.000000  113.000000   \n",
       "cov   37904.0    0.388782   0.166550 -0.145815   0.258983    0.419793   \n",
       "\n",
       "            75%         max  \n",
       "port    5.00000    5.000000  \n",
       "i      88.00000  224.000000  \n",
       "j     178.00000  225.000000  \n",
       "cov     0.51717    0.909412  "
      ]
     },
     "execution_count": 10,
     "metadata": {},
     "output_type": "execute_result"
    }
   ],
   "source": [
    "df_cov_mx[df_cov_mx.i!=df_cov_mx.j].describe().T"
   ]
  },
  {
   "cell_type": "code",
   "execution_count": 14,
   "id": "ed750ac4",
   "metadata": {},
   "outputs": [
    {
     "data": {
      "text/plain": [
       "<AxesSubplot:>"
      ]
     },
     "execution_count": 14,
     "metadata": {},
     "output_type": "execute_result"
    },
    {
     "data": {
      "image/png": "[encoded data removed]",
      "text/plain": [
       "<Figure size 432x288 with 1 Axes>"
      ]
     },
     "metadata": {
      "needs_background": "light"
     },
     "output_type": "display_data"
    }
   ],
   "source": [
    "df_cov_mx[df_cov_mx.i!=df_cov_mx.j]['cov'].hist()"
   ]
  },
  {
   "cell_type": "code",
   "execution_count": 12,
   "id": "little-quebec",
   "metadata": {
    "ExecuteTime": {
     "end_time": "2021-10-31T03:08:38.695099Z",
     "start_time": "2021-10-31T03:08:38.402269Z"
    }
   },
   "outputs": [
    {
     "data": {
      "image/png": "[encoded data removed]",
      "text/plain": [
       "<Figure size 432x288 with 2 Axes>"
      ]
     },
     "metadata": {
      "needs_background": "light"
     },
     "output_type": "display_data"
    }
   ],
   "source": [
    "portfolio = 1\n",
    "df_cov_pivot = df_cov_mx[df_cov_mx.port==portfolio].pivot(index='i', columns='j', values='cov')\n",
    "sns.heatmap(df_cov_pivot.iloc[::-1], cmap=\"YlGnBu\") \n",
    "plt.title(portfolios[portfolio])\n",
    "ax=ax"
   ]
  },
  {
   "cell_type": "markdown",
   "metadata": {},
   "source": [
    "### Fronteiras de Eficiência Irrestrira - UEF"
   ]
  },
  {
   "cell_type": "code",
   "execution_count": 13,
   "metadata": {},
   "outputs": [
    {
     "data": {
      "text/html": [
       "<div>\n",
       "<style scoped>\n",
       "    .dataframe tbody tr th:only-of-type {\n",
       "        vertical-align: middle;\n",
       "    }\n",
       "\n",
       "    .dataframe tbody tr th {\n",
       "        vertical-align: top;\n",
       "    }\n",
       "\n",
       "    .dataframe thead th {\n",
       "        text-align: right;\n",
       "    }\n",
       "</style>\n",
       "<table border=\"1\" class=\"dataframe\">\n",
       "  <thead>\n",
       "    <tr style=\"text-align: right;\">\n",
       "      <th></th>\n",
       "      <th>mean_return</th>\n",
       "      <th>var_return</th>\n",
       "      <th>port</th>\n",
       "      <th>portfolio</th>\n",
       "    </tr>\n",
       "  </thead>\n",
       "  <tbody>\n",
       "    <tr>\n",
       "      <th>0</th>\n",
       "      <td>0.010865</td>\n",
       "      <td>0.004776</td>\n",
       "      <td>1</td>\n",
       "      <td>Hang Seng - Hong Kong</td>\n",
       "    </tr>\n",
       "    <tr>\n",
       "      <th>1</th>\n",
       "      <td>0.010861</td>\n",
       "      <td>0.004768</td>\n",
       "      <td>1</td>\n",
       "      <td>Hang Seng - Hong Kong</td>\n",
       "    </tr>\n",
       "    <tr>\n",
       "      <th>2</th>\n",
       "      <td>0.010857</td>\n",
       "      <td>0.004760</td>\n",
       "      <td>1</td>\n",
       "      <td>Hang Seng - Hong Kong</td>\n",
       "    </tr>\n",
       "    <tr>\n",
       "      <th>3</th>\n",
       "      <td>0.010853</td>\n",
       "      <td>0.004752</td>\n",
       "      <td>1</td>\n",
       "      <td>Hang Seng - Hong Kong</td>\n",
       "    </tr>\n",
       "    <tr>\n",
       "      <th>4</th>\n",
       "      <td>0.010849</td>\n",
       "      <td>0.004745</td>\n",
       "      <td>1</td>\n",
       "      <td>Hang Seng - Hong Kong</td>\n",
       "    </tr>\n",
       "  </tbody>\n",
       "</table>\n",
       "</div>"
      ],
      "text/plain": [
       "   mean_return  var_return  port              portfolio\n",
       "0     0.010865    0.004776     1  Hang Seng - Hong Kong\n",
       "1     0.010861    0.004768     1  Hang Seng - Hong Kong\n",
       "2     0.010857    0.004760     1  Hang Seng - Hong Kong\n",
       "3     0.010853    0.004752     1  Hang Seng - Hong Kong\n",
       "4     0.010849    0.004745     1  Hang Seng - Hong Kong"
      ]
     },
     "execution_count": 13,
     "metadata": {},
     "output_type": "execute_result"
    }
   ],
   "source": [
    "uef.head()"
   ]
  },
  {
   "cell_type": "code",
   "execution_count": 14,
   "metadata": {},
   "outputs": [
    {
     "data": {
      "image/png": "[encoded data removed]",
      "text/plain": [
       "<Figure size 1080x216 with 5 Axes>"
      ]
     },
     "metadata": {
      "needs_background": "light"
     },
     "output_type": "display_data"
    }
   ],
   "source": [
    "g = sns.relplot(data=uef, y='mean_return', x='var_return', col='portfolio', kind='line', height=3)\n",
    "ax=ax"
   ]
  },
  {
   "cell_type": "markdown",
   "id": "available-equivalent",
   "metadata": {},
   "source": [
    "## Curvas de Aprendizado"
   ]
  },
  {
   "cell_type": "markdown",
   "id": "frozen-agreement",
   "metadata": {},
   "source": [
    "### Avaliação do Impacto da Seed"
   ]
  },
  {
   "cell_type": "code",
   "execution_count": 15,
   "id": "effective-narrative",
   "metadata": {
    "ExecuteTime": {
     "start_time": "2021-10-31T03:08:56.421Z"
    }
   },
   "outputs": [],
   "source": [
    "# g = sns.FacetGrid(\n",
    "#     data=all_data, row='seed', col='move_str', hue='alpha')\n",
    "# g.map(sns.lineplot, 'iter', 'obj')\n",
    "# g.add_legend()\n",
    "# g=g"
   ]
  },
  {
   "cell_type": "code",
   "execution_count": 16,
   "id": "effective-narrative",
   "metadata": {
    "ExecuteTime": {
     "start_time": "2021-10-31T03:08:56.421Z"
    }
   },
   "outputs": [],
   "source": [
    "# g = sns.FacetGrid(\n",
    "#     data=all_data, row='seed', col='selec_str', hue='alpha')\n",
    "# g.map(sns.lineplot, 'iter', 'obj')\n",
    "# g.add_legend()\n",
    "# g=g"
   ]
  },
  {
   "cell_type": "markdown",
   "id": "reasonable-raising",
   "metadata": {},
   "source": [
    "### Avaliação do Tipo de Move"
   ]
  },
  {
   "cell_type": "code",
   "execution_count": 17,
   "id": "unlike-glucose",
   "metadata": {
    "ExecuteTime": {
     "end_time": "2021-10-31T03:08:40.860344Z",
     "start_time": "2021-10-31T03:08:30.907Z"
    }
   },
   "outputs": [],
   "source": [
    "# g = sns.FacetGrid(\n",
    "#     data=all_data, row='selec_str', col='move_str', hue='alpha')\n",
    "# g.map(sns.lineplot, 'iter', 'obj')\n",
    "# g.add_legend()\n",
    "# g=g"
   ]
  },
  {
   "cell_type": "markdown",
   "id": "noted-houston",
   "metadata": {},
   "source": [
    "### Avaliação do Impacto do Retorno Experado"
   ]
  },
  {
   "cell_type": "code",
   "execution_count": 18,
   "id": "demonstrated-sacrifice",
   "metadata": {
    "ExecuteTime": {
     "end_time": "2021-10-31T03:08:40.861206Z",
     "start_time": "2021-10-31T03:08:30.908Z"
    }
   },
   "outputs": [],
   "source": [
    "# g = sns.FacetGrid(\n",
    "#     data=all_data, row='exp_return', col='move_str', hue='alpha')\n",
    "# g.map(sns.lineplot, 'iter', 'obj')\n",
    "# g.add_legend()\n",
    "# g=g"
   ]
  },
  {
   "cell_type": "markdown",
   "id": "helpful-audience",
   "metadata": {},
   "source": [
    "## Análise Best - Portfólio 1"
   ]
  },
  {
   "cell_type": "code",
   "execution_count": 19,
   "metadata": {},
   "outputs": [
    {
     "data": {
      "text/html": [
       "<div>\n",
       "<style scoped>\n",
       "    .dataframe tbody tr th:only-of-type {\n",
       "        vertical-align: middle;\n",
       "    }\n",
       "\n",
       "    .dataframe tbody tr th {\n",
       "        vertical-align: top;\n",
       "    }\n",
       "\n",
       "    .dataframe thead th {\n",
       "        text-align: right;\n",
       "    }\n",
       "</style>\n",
       "<table border=\"1\" class=\"dataframe\">\n",
       "  <thead>\n",
       "    <tr style=\"text-align: right;\">\n",
       "      <th></th>\n",
       "      <th>count</th>\n",
       "      <th>mean</th>\n",
       "      <th>std</th>\n",
       "      <th>min</th>\n",
       "      <th>25%</th>\n",
       "      <th>50%</th>\n",
       "      <th>75%</th>\n",
       "      <th>max</th>\n",
       "    </tr>\n",
       "  </thead>\n",
       "  <tbody>\n",
       "    <tr>\n",
       "      <th>port</th>\n",
       "      <td>31.0</td>\n",
       "      <td>1.000000</td>\n",
       "      <td>0.000000</td>\n",
       "      <td>1.000000</td>\n",
       "      <td>1.000000</td>\n",
       "      <td>1.000000</td>\n",
       "      <td>1.000000</td>\n",
       "      <td>1.000000</td>\n",
       "    </tr>\n",
       "    <tr>\n",
       "      <th>i</th>\n",
       "      <td>31.0</td>\n",
       "      <td>16.000000</td>\n",
       "      <td>9.092121</td>\n",
       "      <td>1.000000</td>\n",
       "      <td>8.500000</td>\n",
       "      <td>16.000000</td>\n",
       "      <td>23.500000</td>\n",
       "      <td>31.000000</td>\n",
       "    </tr>\n",
       "    <tr>\n",
       "      <th>r_mean</th>\n",
       "      <td>31.0</td>\n",
       "      <td>0.003504</td>\n",
       "      <td>0.002186</td>\n",
       "      <td>0.000141</td>\n",
       "      <td>0.002043</td>\n",
       "      <td>0.003286</td>\n",
       "      <td>0.004725</td>\n",
       "      <td>0.010865</td>\n",
       "    </tr>\n",
       "    <tr>\n",
       "      <th>r_std</th>\n",
       "      <td>31.0</td>\n",
       "      <td>0.045723</td>\n",
       "      <td>0.007296</td>\n",
       "      <td>0.035848</td>\n",
       "      <td>0.040043</td>\n",
       "      <td>0.045450</td>\n",
       "      <td>0.050112</td>\n",
       "      <td>0.069105</td>\n",
       "    </tr>\n",
       "  </tbody>\n",
       "</table>\n",
       "</div>"
      ],
      "text/plain": [
       "        count       mean       std       min       25%        50%        75%  \\\n",
       "port     31.0   1.000000  0.000000  1.000000  1.000000   1.000000   1.000000   \n",
       "i        31.0  16.000000  9.092121  1.000000  8.500000  16.000000  23.500000   \n",
       "r_mean   31.0   0.003504  0.002186  0.000141  0.002043   0.003286   0.004725   \n",
       "r_std    31.0   0.045723  0.007296  0.035848  0.040043   0.045450   0.050112   \n",
       "\n",
       "              max  \n",
       "port     1.000000  \n",
       "i       31.000000  \n",
       "r_mean   0.010865  \n",
       "r_std    0.069105  "
      ]
     },
     "execution_count": 19,
     "metadata": {},
     "output_type": "execute_result"
    }
   ],
   "source": [
    "df_stats[df_stats.port==1].describe().T"
   ]
  },
  {
   "cell_type": "code",
   "execution_count": 20,
   "metadata": {},
   "outputs": [
    {
     "name": "stdout",
     "output_type": "stream",
     "text": [
      "(3911, 25)\n"
     ]
    },
    {
     "data": {
      "text/html": [
       "<div>\n",
       "<style scoped>\n",
       "    .dataframe tbody tr th:only-of-type {\n",
       "        vertical-align: middle;\n",
       "    }\n",
       "\n",
       "    .dataframe tbody tr th {\n",
       "        vertical-align: top;\n",
       "    }\n",
       "\n",
       "    .dataframe thead th {\n",
       "        text-align: right;\n",
       "    }\n",
       "</style>\n",
       "<table border=\"1\" class=\"dataframe\">\n",
       "  <thead>\n",
       "    <tr style=\"text-align: right;\">\n",
       "      <th></th>\n",
       "      <th>iter</th>\n",
       "      <th>move</th>\n",
       "      <th>improve</th>\n",
       "      <th>obj</th>\n",
       "      <th>return</th>\n",
       "      <th>n_assets</th>\n",
       "      <th>qX</th>\n",
       "      <th>qN</th>\n",
       "      <th>qNv</th>\n",
       "      <th>iter_time</th>\n",
       "      <th>...</th>\n",
       "      <th>k_min</th>\n",
       "      <th>k_max</th>\n",
       "      <th>move_str</th>\n",
       "      <th>seed</th>\n",
       "      <th>selec_str</th>\n",
       "      <th>tag</th>\n",
       "      <th>X</th>\n",
       "      <th>Z</th>\n",
       "      <th>filename</th>\n",
       "      <th>k</th>\n",
       "    </tr>\n",
       "  </thead>\n",
       "  <tbody>\n",
       "    <tr>\n",
       "      <th>0</th>\n",
       "      <td>25</td>\n",
       "      <td>iDR</td>\n",
       "      <td>False</td>\n",
       "      <td>0.003226</td>\n",
       "      <td>0.002686</td>\n",
       "      <td>2</td>\n",
       "      <td>2</td>\n",
       "      <td>100</td>\n",
       "      <td>94</td>\n",
       "      <td>0.131089</td>\n",
       "      <td>...</td>\n",
       "      <td>2</td>\n",
       "      <td>15</td>\n",
       "      <td>best</td>\n",
       "      <td>64.0</td>\n",
       "      <td>best</td>\n",
       "      <td>bench_local</td>\n",
       "      <td>[0.989964, 0.010036]</td>\n",
       "      <td>[24, 27]</td>\n",
       "      <td>log_local_search_20211102_172418_761663.csv</td>\n",
       "      <td>2</td>\n",
       "    </tr>\n",
       "    <tr>\n",
       "      <th>1</th>\n",
       "      <td>52</td>\n",
       "      <td>iDR</td>\n",
       "      <td>False</td>\n",
       "      <td>0.001835</td>\n",
       "      <td>0.007087</td>\n",
       "      <td>2</td>\n",
       "      <td>2</td>\n",
       "      <td>100</td>\n",
       "      <td>98</td>\n",
       "      <td>0.120435</td>\n",
       "      <td>...</td>\n",
       "      <td>2</td>\n",
       "      <td>15</td>\n",
       "      <td>best</td>\n",
       "      <td>11.0</td>\n",
       "      <td>random</td>\n",
       "      <td>bench_local</td>\n",
       "      <td>[0.989275, 0.01]</td>\n",
       "      <td>[8, 25]</td>\n",
       "      <td>log_local_search_20211102_170053_508157.csv</td>\n",
       "      <td>2</td>\n",
       "    </tr>\n",
       "    <tr>\n",
       "      <th>2</th>\n",
       "      <td>46</td>\n",
       "      <td>iDR</td>\n",
       "      <td>False</td>\n",
       "      <td>0.002273</td>\n",
       "      <td>0.002463</td>\n",
       "      <td>2</td>\n",
       "      <td>2</td>\n",
       "      <td>100</td>\n",
       "      <td>46</td>\n",
       "      <td>0.035174</td>\n",
       "      <td>...</td>\n",
       "      <td>2</td>\n",
       "      <td>15</td>\n",
       "      <td>random</td>\n",
       "      <td>90.0</td>\n",
       "      <td>first</td>\n",
       "      <td>bench_local</td>\n",
       "      <td>[0.01, 0.989119]</td>\n",
       "      <td>[4, 30]</td>\n",
       "      <td>log_local_search_20211102_172029_555390.csv</td>\n",
       "      <td>2</td>\n",
       "    </tr>\n",
       "    <tr>\n",
       "      <th>3</th>\n",
       "      <td>30</td>\n",
       "      <td>iDR</td>\n",
       "      <td>False</td>\n",
       "      <td>0.001381</td>\n",
       "      <td>0.002363</td>\n",
       "      <td>2</td>\n",
       "      <td>2</td>\n",
       "      <td>100</td>\n",
       "      <td>100</td>\n",
       "      <td>0.145836</td>\n",
       "      <td>...</td>\n",
       "      <td>2</td>\n",
       "      <td>15</td>\n",
       "      <td>best</td>\n",
       "      <td>59.0</td>\n",
       "      <td>first</td>\n",
       "      <td>bench_local</td>\n",
       "      <td>[0.01, 0.99]</td>\n",
       "      <td>[25, 27]</td>\n",
       "      <td>log_local_search_20211102_165622_939237.csv</td>\n",
       "      <td>2</td>\n",
       "    </tr>\n",
       "    <tr>\n",
       "      <th>4</th>\n",
       "      <td>38</td>\n",
       "      <td>iDR</td>\n",
       "      <td>False</td>\n",
       "      <td>0.001712</td>\n",
       "      <td>0.010777</td>\n",
       "      <td>2</td>\n",
       "      <td>2</td>\n",
       "      <td>100</td>\n",
       "      <td>99</td>\n",
       "      <td>0.118368</td>\n",
       "      <td>...</td>\n",
       "      <td>2</td>\n",
       "      <td>15</td>\n",
       "      <td>best</td>\n",
       "      <td>20.0</td>\n",
       "      <td>random</td>\n",
       "      <td>bench_local</td>\n",
       "      <td>[0.989654, 0.010346]</td>\n",
       "      <td>[4, 27]</td>\n",
       "      <td>log_local_search_20211102_164714_961978.csv</td>\n",
       "      <td>2</td>\n",
       "    </tr>\n",
       "  </tbody>\n",
       "</table>\n",
       "<p>5 rows × 25 columns</p>\n",
       "</div>"
      ],
      "text/plain": [
       "   iter move  improve       obj    return  n_assets  qX   qN  qNv  iter_time  \\\n",
       "0    25  iDR    False  0.003226  0.002686         2   2  100   94   0.131089   \n",
       "1    52  iDR    False  0.001835  0.007087         2   2  100   98   0.120435   \n",
       "2    46  iDR    False  0.002273  0.002463         2   2  100   46   0.035174   \n",
       "3    30  iDR    False  0.001381  0.002363         2   2  100  100   0.145836   \n",
       "4    38  iDR    False  0.001712  0.010777         2   2  100   99   0.118368   \n",
       "\n",
       "   ...  k_min  k_max  move_str  seed  selec_str          tag  \\\n",
       "0  ...      2     15      best  64.0       best  bench_local   \n",
       "1  ...      2     15      best  11.0     random  bench_local   \n",
       "2  ...      2     15    random  90.0      first  bench_local   \n",
       "3  ...      2     15      best  59.0      first  bench_local   \n",
       "4  ...      2     15      best  20.0     random  bench_local   \n",
       "\n",
       "                      X         Z  \\\n",
       "0  [0.989964, 0.010036]  [24, 27]   \n",
       "1      [0.989275, 0.01]   [8, 25]   \n",
       "2      [0.01, 0.989119]   [4, 30]   \n",
       "3          [0.01, 0.99]  [25, 27]   \n",
       "4  [0.989654, 0.010346]   [4, 27]   \n",
       "\n",
       "                                      filename  k  \n",
       "0  log_local_search_20211102_172418_761663.csv  2  \n",
       "1  log_local_search_20211102_170053_508157.csv  2  \n",
       "2  log_local_search_20211102_172029_555390.csv  2  \n",
       "3  log_local_search_20211102_165622_939237.csv  2  \n",
       "4  log_local_search_20211102_164714_961978.csv  2  \n",
       "\n",
       "[5 rows x 25 columns]"
      ]
     },
     "execution_count": 20,
     "metadata": {},
     "output_type": "execute_result"
    }
   ],
   "source": [
    "print(best_data.shape)\n",
    "best_data.head()"
   ]
  },
  {
   "cell_type": "code",
   "execution_count": 21,
   "metadata": {},
   "outputs": [
    {
     "data": {
      "text/html": [
       "<div>\n",
       "<style scoped>\n",
       "    .dataframe tbody tr th:only-of-type {\n",
       "        vertical-align: middle;\n",
       "    }\n",
       "\n",
       "    .dataframe tbody tr th {\n",
       "        vertical-align: top;\n",
       "    }\n",
       "\n",
       "    .dataframe thead th {\n",
       "        text-align: right;\n",
       "    }\n",
       "</style>\n",
       "<table border=\"1\" class=\"dataframe\">\n",
       "  <thead>\n",
       "    <tr style=\"text-align: right;\">\n",
       "      <th></th>\n",
       "      <th>count</th>\n",
       "      <th>mean</th>\n",
       "      <th>std</th>\n",
       "      <th>min</th>\n",
       "      <th>25%</th>\n",
       "      <th>50%</th>\n",
       "      <th>75%</th>\n",
       "      <th>max</th>\n",
       "    </tr>\n",
       "  </thead>\n",
       "  <tbody>\n",
       "    <tr>\n",
       "      <th>iter</th>\n",
       "      <td>3911.0</td>\n",
       "      <td>49.697264</td>\n",
       "      <td>2.322524e+01</td>\n",
       "      <td>10.000000</td>\n",
       "      <td>28.000000</td>\n",
       "      <td>48.000000</td>\n",
       "      <td>61.000000</td>\n",
       "      <td>99.000000</td>\n",
       "    </tr>\n",
       "    <tr>\n",
       "      <th>obj</th>\n",
       "      <td>3911.0</td>\n",
       "      <td>0.005845</td>\n",
       "      <td>1.844747e-02</td>\n",
       "      <td>0.000247</td>\n",
       "      <td>0.001455</td>\n",
       "      <td>0.001659</td>\n",
       "      <td>0.002631</td>\n",
       "      <td>0.233801</td>\n",
       "    </tr>\n",
       "    <tr>\n",
       "      <th>return</th>\n",
       "      <td>3911.0</td>\n",
       "      <td>0.005817</td>\n",
       "      <td>3.105766e-03</td>\n",
       "      <td>0.001000</td>\n",
       "      <td>0.003277</td>\n",
       "      <td>0.004768</td>\n",
       "      <td>0.007092</td>\n",
       "      <td>0.010803</td>\n",
       "    </tr>\n",
       "    <tr>\n",
       "      <th>n_assets</th>\n",
       "      <td>3911.0</td>\n",
       "      <td>2.447712</td>\n",
       "      <td>1.335245e+00</td>\n",
       "      <td>2.000000</td>\n",
       "      <td>2.000000</td>\n",
       "      <td>2.000000</td>\n",
       "      <td>2.000000</td>\n",
       "      <td>14.000000</td>\n",
       "    </tr>\n",
       "    <tr>\n",
       "      <th>qX</th>\n",
       "      <td>3911.0</td>\n",
       "      <td>2.447712</td>\n",
       "      <td>1.335245e+00</td>\n",
       "      <td>2.000000</td>\n",
       "      <td>2.000000</td>\n",
       "      <td>2.000000</td>\n",
       "      <td>2.000000</td>\n",
       "      <td>14.000000</td>\n",
       "    </tr>\n",
       "    <tr>\n",
       "      <th>qN</th>\n",
       "      <td>3911.0</td>\n",
       "      <td>101.380721</td>\n",
       "      <td>3.522868e+01</td>\n",
       "      <td>100.000000</td>\n",
       "      <td>100.000000</td>\n",
       "      <td>100.000000</td>\n",
       "      <td>100.000000</td>\n",
       "      <td>1000.000000</td>\n",
       "    </tr>\n",
       "    <tr>\n",
       "      <th>qNv</th>\n",
       "      <td>3911.0</td>\n",
       "      <td>79.770136</td>\n",
       "      <td>4.086533e+01</td>\n",
       "      <td>0.000000</td>\n",
       "      <td>55.000000</td>\n",
       "      <td>97.000000</td>\n",
       "      <td>99.000000</td>\n",
       "      <td>904.000000</td>\n",
       "    </tr>\n",
       "    <tr>\n",
       "      <th>iter_time</th>\n",
       "      <td>3911.0</td>\n",
       "      <td>0.082703</td>\n",
       "      <td>4.676758e-02</td>\n",
       "      <td>0.018174</td>\n",
       "      <td>0.040467</td>\n",
       "      <td>0.060154</td>\n",
       "      <td>0.121712</td>\n",
       "      <td>0.552831</td>\n",
       "    </tr>\n",
       "    <tr>\n",
       "      <th>max_iter</th>\n",
       "      <td>3911.0</td>\n",
       "      <td>100.000000</td>\n",
       "      <td>0.000000e+00</td>\n",
       "      <td>100.000000</td>\n",
       "      <td>100.000000</td>\n",
       "      <td>100.000000</td>\n",
       "      <td>100.000000</td>\n",
       "      <td>100.000000</td>\n",
       "    </tr>\n",
       "    <tr>\n",
       "      <th>neighbours</th>\n",
       "      <td>3911.0</td>\n",
       "      <td>101.380721</td>\n",
       "      <td>3.522868e+01</td>\n",
       "      <td>100.000000</td>\n",
       "      <td>100.000000</td>\n",
       "      <td>100.000000</td>\n",
       "      <td>100.000000</td>\n",
       "      <td>1000.000000</td>\n",
       "    </tr>\n",
       "    <tr>\n",
       "      <th>alpha</th>\n",
       "      <td>3911.0</td>\n",
       "      <td>0.100000</td>\n",
       "      <td>1.387956e-17</td>\n",
       "      <td>0.100000</td>\n",
       "      <td>0.100000</td>\n",
       "      <td>0.100000</td>\n",
       "      <td>0.100000</td>\n",
       "      <td>0.100000</td>\n",
       "    </tr>\n",
       "    <tr>\n",
       "      <th>exp_return</th>\n",
       "      <td>3911.0</td>\n",
       "      <td>0.002720</td>\n",
       "      <td>1.436593e-03</td>\n",
       "      <td>0.001000</td>\n",
       "      <td>0.001500</td>\n",
       "      <td>0.002500</td>\n",
       "      <td>0.003500</td>\n",
       "      <td>0.008000</td>\n",
       "    </tr>\n",
       "    <tr>\n",
       "      <th>n_port</th>\n",
       "      <td>3814.0</td>\n",
       "      <td>1.000000</td>\n",
       "      <td>0.000000e+00</td>\n",
       "      <td>1.000000</td>\n",
       "      <td>1.000000</td>\n",
       "      <td>1.000000</td>\n",
       "      <td>1.000000</td>\n",
       "      <td>1.000000</td>\n",
       "    </tr>\n",
       "    <tr>\n",
       "      <th>k_min</th>\n",
       "      <td>3911.0</td>\n",
       "      <td>2.066735</td>\n",
       "      <td>4.424942e-01</td>\n",
       "      <td>2.000000</td>\n",
       "      <td>2.000000</td>\n",
       "      <td>2.000000</td>\n",
       "      <td>2.000000</td>\n",
       "      <td>5.000000</td>\n",
       "    </tr>\n",
       "    <tr>\n",
       "      <th>k_max</th>\n",
       "      <td>3911.0</td>\n",
       "      <td>15.000000</td>\n",
       "      <td>0.000000e+00</td>\n",
       "      <td>15.000000</td>\n",
       "      <td>15.000000</td>\n",
       "      <td>15.000000</td>\n",
       "      <td>15.000000</td>\n",
       "      <td>15.000000</td>\n",
       "    </tr>\n",
       "    <tr>\n",
       "      <th>seed</th>\n",
       "      <td>3908.0</td>\n",
       "      <td>50.619754</td>\n",
       "      <td>2.883385e+01</td>\n",
       "      <td>0.000000</td>\n",
       "      <td>25.000000</td>\n",
       "      <td>52.000000</td>\n",
       "      <td>77.000000</td>\n",
       "      <td>99.000000</td>\n",
       "    </tr>\n",
       "    <tr>\n",
       "      <th>k</th>\n",
       "      <td>3911.0</td>\n",
       "      <td>2.447712</td>\n",
       "      <td>1.335245e+00</td>\n",
       "      <td>2.000000</td>\n",
       "      <td>2.000000</td>\n",
       "      <td>2.000000</td>\n",
       "      <td>2.000000</td>\n",
       "      <td>14.000000</td>\n",
       "    </tr>\n",
       "  </tbody>\n",
       "</table>\n",
       "</div>"
      ],
      "text/plain": [
       "             count        mean           std         min         25%  \\\n",
       "iter        3911.0   49.697264  2.322524e+01   10.000000   28.000000   \n",
       "obj         3911.0    0.005845  1.844747e-02    0.000247    0.001455   \n",
       "return      3911.0    0.005817  3.105766e-03    0.001000    0.003277   \n",
       "n_assets    3911.0    2.447712  1.335245e+00    2.000000    2.000000   \n",
       "qX          3911.0    2.447712  1.335245e+00    2.000000    2.000000   \n",
       "qN          3911.0  101.380721  3.522868e+01  100.000000  100.000000   \n",
       "qNv         3911.0   79.770136  4.086533e+01    0.000000   55.000000   \n",
       "iter_time   3911.0    0.082703  4.676758e-02    0.018174    0.040467   \n",
       "max_iter    3911.0  100.000000  0.000000e+00  100.000000  100.000000   \n",
       "neighbours  3911.0  101.380721  3.522868e+01  100.000000  100.000000   \n",
       "alpha       3911.0    0.100000  1.387956e-17    0.100000    0.100000   \n",
       "exp_return  3911.0    0.002720  1.436593e-03    0.001000    0.001500   \n",
       "n_port      3814.0    1.000000  0.000000e+00    1.000000    1.000000   \n",
       "k_min       3911.0    2.066735  4.424942e-01    2.000000    2.000000   \n",
       "k_max       3911.0   15.000000  0.000000e+00   15.000000   15.000000   \n",
       "seed        3908.0   50.619754  2.883385e+01    0.000000   25.000000   \n",
       "k           3911.0    2.447712  1.335245e+00    2.000000    2.000000   \n",
       "\n",
       "                   50%         75%          max  \n",
       "iter         48.000000   61.000000    99.000000  \n",
       "obj           0.001659    0.002631     0.233801  \n",
       "return        0.004768    0.007092     0.010803  \n",
       "n_assets      2.000000    2.000000    14.000000  \n",
       "qX            2.000000    2.000000    14.000000  \n",
       "qN          100.000000  100.000000  1000.000000  \n",
       "qNv          97.000000   99.000000   904.000000  \n",
       "iter_time     0.060154    0.121712     0.552831  \n",
       "max_iter    100.000000  100.000000   100.000000  \n",
       "neighbours  100.000000  100.000000  1000.000000  \n",
       "alpha         0.100000    0.100000     0.100000  \n",
       "exp_return    0.002500    0.003500     0.008000  \n",
       "n_port        1.000000    1.000000     1.000000  \n",
       "k_min         2.000000    2.000000     5.000000  \n",
       "k_max        15.000000   15.000000    15.000000  \n",
       "seed         52.000000   77.000000    99.000000  \n",
       "k             2.000000    2.000000    14.000000  "
      ]
     },
     "execution_count": 21,
     "metadata": {},
     "output_type": "execute_result"
    }
   ],
   "source": [
    "best_data.describe().T"
   ]
  },
  {
   "cell_type": "code",
   "execution_count": 22,
   "metadata": {},
   "outputs": [
    {
     "data": {
      "text/plain": [
       "<seaborn.axisgrid.JointGrid at 0x7fa3e77e4a90>"
      ]
     },
     "execution_count": 22,
     "metadata": {},
     "output_type": "execute_result"
    },
    {
     "data": {
      "image/png": "[encoded data removed]",
      "text/plain": [
       "<Figure size 432x432 with 3 Axes>"
      ]
     },
     "metadata": {
      "needs_background": "light"
     },
     "output_type": "display_data"
    }
   ],
   "source": [
    "sns.jointplot(data=best_data, x='obj', y='return', palette='bright')"
   ]
  },
  {
   "cell_type": "code",
   "execution_count": 23,
   "metadata": {},
   "outputs": [
    {
     "data": {
      "text/plain": [
       "<seaborn.axisgrid.FacetGrid at 0x7fa3e81f9c10>"
      ]
     },
     "execution_count": 23,
     "metadata": {},
     "output_type": "execute_result"
    },
    {
     "data": {
      "image/png": "[encoded data removed]",
      "text/plain": [
       "<Figure size 408.75x360 with 1 Axes>"
      ]
     },
     "metadata": {
      "needs_background": "light"
     },
     "output_type": "display_data"
    }
   ],
   "source": [
    "sns.relplot(data=best_data, x='obj', y='return', hue='k', palette='flare')"
   ]
  },
  {
   "cell_type": "code",
   "execution_count": 24,
   "metadata": {},
   "outputs": [
    {
     "data": {
      "image/png": "[encoded data removed]",
      "text/plain": [
       "<Figure size 484x216 with 2 Axes>"
      ]
     },
     "metadata": {
      "needs_background": "light"
     },
     "output_type": "display_data"
    }
   ],
   "source": [
    "g = sns.FacetGrid(data=best_data, col='move_str', hue='alpha')\n",
    "g.map(sns.scatterplot, 'return', 'obj')\n",
    "g.add_legend()\n",
    "g=g"
   ]
  },
  {
   "cell_type": "code",
   "execution_count": 25,
   "metadata": {},
   "outputs": [
    {
     "data": {
      "image/png": "[encoded data removed]",
      "text/plain": [
       "<Figure size 700x216 with 3 Axes>"
      ]
     },
     "metadata": {
      "needs_background": "light"
     },
     "output_type": "display_data"
    }
   ],
   "source": [
    "g = sns.FacetGrid(data=best_data, col='selec_str', hue='alpha')\n",
    "g.map(sns.scatterplot, 'return', 'obj')\n",
    "g.add_legend()\n",
    "g=g"
   ]
  },
  {
   "cell_type": "code",
   "execution_count": 26,
   "metadata": {},
   "outputs": [
    {
     "data": {
      "image/png": "[encoded data removed]",
      "text/plain": [
       "<Figure size 264.75x216 with 1 Axes>"
      ]
     },
     "metadata": {
      "needs_background": "light"
     },
     "output_type": "display_data"
    }
   ],
   "source": [
    "g = sns.FacetGrid(data=best_data, hue='k')\n",
    "g.map(sns.scatterplot, 'return', 'obj')\n",
    "g.add_legend()\n",
    "g=g"
   ]
  },
  {
   "cell_type": "code",
   "execution_count": 27,
   "metadata": {},
   "outputs": [
    {
     "data": {
      "text/plain": [
       "<matplotlib.collections.PathCollection at 0x7fa3e945ef40>"
      ]
     },
     "execution_count": 27,
     "metadata": {},
     "output_type": "execute_result"
    },
    {
     "data": {
      "image/png": "[encoded data removed]",
      "text/plain": [
       "<Figure size 432x288 with 1 Axes>"
      ]
     },
     "metadata": {
      "needs_background": "light"
     },
     "output_type": "display_data"
    }
   ],
   "source": [
    "data = best_data[best_data['obj']<0.05]\n",
    "plt.plot(uef[uef.port==1].var_return, uef[uef.port==1].mean_return)\n",
    "plt.scatter(data.obj, data['return'])"
   ]
  },
  {
   "cell_type": "code",
   "execution_count": 28,
   "metadata": {},
   "outputs": [
    {
     "data": {
      "text/plain": [
       "Text(0, 0.5, 'mean_return')"
      ]
     },
     "execution_count": 28,
     "metadata": {},
     "output_type": "execute_result"
    },
    {
     "data": {
      "image/png": "[encoded data removed]",
      "text/plain": [
       "<Figure size 432x288 with 1 Axes>"
      ]
     },
     "metadata": {
      "needs_background": "light"
     },
     "output_type": "display_data"
    }
   ],
   "source": [
    "data = best_data[best_data['obj']<0.005]\n",
    "plt.plot(uef[uef.port==1].var_return, uef[uef.port==1].mean_return)\n",
    "plt.scatter(data.obj, data['return'])\n",
    "plt.xlabel(\"var_return\")\n",
    "plt.ylabel(\"mean_return\")"
   ]
  },
  {
   "cell_type": "code",
   "execution_count": 28,
   "metadata": {},
   "outputs": [
    {
     "data": {
      "text/html": [
       "<div>\n",
       "<style scoped>\n",
       "    .dataframe tbody tr th:only-of-type {\n",
       "        vertical-align: middle;\n",
       "    }\n",
       "\n",
       "    .dataframe tbody tr th {\n",
       "        vertical-align: top;\n",
       "    }\n",
       "\n",
       "    .dataframe thead th {\n",
       "        text-align: right;\n",
       "    }\n",
       "</style>\n",
       "<table border=\"1\" class=\"dataframe\">\n",
       "  <thead>\n",
       "    <tr style=\"text-align: right;\">\n",
       "      <th></th>\n",
       "      <th>exp_return</th>\n",
       "      <th>0.0010</th>\n",
       "      <th>0.0015</th>\n",
       "      <th>0.0020</th>\n",
       "      <th>0.0025</th>\n",
       "      <th>0.0030</th>\n",
       "      <th>0.0035</th>\n",
       "      <th>0.0040</th>\n",
       "      <th>0.0045</th>\n",
       "      <th>0.0050</th>\n",
       "      <th>0.0055</th>\n",
       "      <th>0.0060</th>\n",
       "      <th>0.0065</th>\n",
       "      <th>0.0070</th>\n",
       "      <th>0.0075</th>\n",
       "      <th>0.0080</th>\n",
       "    </tr>\n",
       "    <tr>\n",
       "      <th>move_str</th>\n",
       "      <th>selec_str</th>\n",
       "      <th></th>\n",
       "      <th></th>\n",
       "      <th></th>\n",
       "      <th></th>\n",
       "      <th></th>\n",
       "      <th></th>\n",
       "      <th></th>\n",
       "      <th></th>\n",
       "      <th></th>\n",
       "      <th></th>\n",
       "      <th></th>\n",
       "      <th></th>\n",
       "      <th></th>\n",
       "      <th></th>\n",
       "      <th></th>\n",
       "    </tr>\n",
       "  </thead>\n",
       "  <tbody>\n",
       "    <tr>\n",
       "      <th rowspan=\"3\" valign=\"top\">best</th>\n",
       "      <th>best</th>\n",
       "      <td>95</td>\n",
       "      <td>95</td>\n",
       "      <td>93</td>\n",
       "      <td>88</td>\n",
       "      <td>85</td>\n",
       "      <td>60</td>\n",
       "      <td>42</td>\n",
       "      <td>25</td>\n",
       "      <td>17</td>\n",
       "      <td>12</td>\n",
       "      <td>9</td>\n",
       "      <td>9</td>\n",
       "      <td>7</td>\n",
       "      <td>5</td>\n",
       "      <td>1</td>\n",
       "    </tr>\n",
       "    <tr>\n",
       "      <th>first</th>\n",
       "      <td>95</td>\n",
       "      <td>95</td>\n",
       "      <td>93</td>\n",
       "      <td>88</td>\n",
       "      <td>77</td>\n",
       "      <td>60</td>\n",
       "      <td>42</td>\n",
       "      <td>25</td>\n",
       "      <td>17</td>\n",
       "      <td>12</td>\n",
       "      <td>9</td>\n",
       "      <td>9</td>\n",
       "      <td>7</td>\n",
       "      <td>5</td>\n",
       "      <td>1</td>\n",
       "    </tr>\n",
       "    <tr>\n",
       "      <th>random</th>\n",
       "      <td>95</td>\n",
       "      <td>95</td>\n",
       "      <td>93</td>\n",
       "      <td>88</td>\n",
       "      <td>77</td>\n",
       "      <td>60</td>\n",
       "      <td>42</td>\n",
       "      <td>25</td>\n",
       "      <td>17</td>\n",
       "      <td>12</td>\n",
       "      <td>9</td>\n",
       "      <td>9</td>\n",
       "      <td>7</td>\n",
       "      <td>5</td>\n",
       "      <td>1</td>\n",
       "    </tr>\n",
       "    <tr>\n",
       "      <th rowspan=\"3\" valign=\"top\">random</th>\n",
       "      <th>best</th>\n",
       "      <td>95</td>\n",
       "      <td>95</td>\n",
       "      <td>93</td>\n",
       "      <td>88</td>\n",
       "      <td>77</td>\n",
       "      <td>60</td>\n",
       "      <td>42</td>\n",
       "      <td>25</td>\n",
       "      <td>17</td>\n",
       "      <td>12</td>\n",
       "      <td>9</td>\n",
       "      <td>9</td>\n",
       "      <td>7</td>\n",
       "      <td>5</td>\n",
       "      <td>1</td>\n",
       "    </tr>\n",
       "    <tr>\n",
       "      <th>first</th>\n",
       "      <td>95</td>\n",
       "      <td>95</td>\n",
       "      <td>93</td>\n",
       "      <td>88</td>\n",
       "      <td>77</td>\n",
       "      <td>60</td>\n",
       "      <td>42</td>\n",
       "      <td>25</td>\n",
       "      <td>17</td>\n",
       "      <td>12</td>\n",
       "      <td>9</td>\n",
       "      <td>9</td>\n",
       "      <td>7</td>\n",
       "      <td>5</td>\n",
       "      <td>1</td>\n",
       "    </tr>\n",
       "    <tr>\n",
       "      <th>random</th>\n",
       "      <td>95</td>\n",
       "      <td>95</td>\n",
       "      <td>93</td>\n",
       "      <td>88</td>\n",
       "      <td>77</td>\n",
       "      <td>60</td>\n",
       "      <td>42</td>\n",
       "      <td>25</td>\n",
       "      <td>17</td>\n",
       "      <td>12</td>\n",
       "      <td>9</td>\n",
       "      <td>9</td>\n",
       "      <td>7</td>\n",
       "      <td>5</td>\n",
       "      <td>1</td>\n",
       "    </tr>\n",
       "  </tbody>\n",
       "</table>\n",
       "</div>"
      ],
      "text/plain": [
       "exp_return          0.0010  0.0015  0.0020  0.0025  0.0030  0.0035  0.0040  \\\n",
       "move_str selec_str                                                           \n",
       "best     best           95      95      93      88      85      60      42   \n",
       "         first          95      95      93      88      77      60      42   \n",
       "         random         95      95      93      88      77      60      42   \n",
       "random   best           95      95      93      88      77      60      42   \n",
       "         first          95      95      93      88      77      60      42   \n",
       "         random         95      95      93      88      77      60      42   \n",
       "\n",
       "exp_return          0.0045  0.0050  0.0055  0.0060  0.0065  0.0070  0.0075  \\\n",
       "move_str selec_str                                                           \n",
       "best     best           25      17      12       9       9       7       5   \n",
       "         first          25      17      12       9       9       7       5   \n",
       "         random         25      17      12       9       9       7       5   \n",
       "random   best           25      17      12       9       9       7       5   \n",
       "         first          25      17      12       9       9       7       5   \n",
       "         random         25      17      12       9       9       7       5   \n",
       "\n",
       "exp_return          0.0080  \n",
       "move_str selec_str          \n",
       "best     best            1  \n",
       "         first           1  \n",
       "         random          1  \n",
       "random   best            1  \n",
       "         first           1  \n",
       "         random          1  "
      ]
     },
     "execution_count": 28,
     "metadata": {},
     "output_type": "execute_result"
    }
   ],
   "source": [
    "best_data.groupby(['exp_return', 'move_str', 'selec_str'], as_index=False)['obj']\\\n",
    "    .count()\\\n",
    "    .pivot(index=['move_str', 'selec_str'], columns='exp_return', values='obj')"
   ]
  },
  {
   "cell_type": "code",
   "execution_count": 29,
   "metadata": {},
   "outputs": [
    {
     "data": {
      "text/html": [
       "<div>\n",
       "<style scoped>\n",
       "    .dataframe tbody tr th:only-of-type {\n",
       "        vertical-align: middle;\n",
       "    }\n",
       "\n",
       "    .dataframe tbody tr th {\n",
       "        vertical-align: top;\n",
       "    }\n",
       "\n",
       "    .dataframe thead th {\n",
       "        text-align: right;\n",
       "    }\n",
       "</style>\n",
       "<table border=\"1\" class=\"dataframe\">\n",
       "  <thead>\n",
       "    <tr style=\"text-align: right;\">\n",
       "      <th></th>\n",
       "      <th>exp_return</th>\n",
       "      <th>0.0010</th>\n",
       "      <th>0.0015</th>\n",
       "      <th>0.0020</th>\n",
       "      <th>0.0025</th>\n",
       "      <th>0.0030</th>\n",
       "      <th>0.0035</th>\n",
       "      <th>0.0040</th>\n",
       "      <th>0.0045</th>\n",
       "      <th>0.0050</th>\n",
       "      <th>0.0055</th>\n",
       "      <th>0.0060</th>\n",
       "      <th>0.0065</th>\n",
       "      <th>0.0070</th>\n",
       "      <th>0.0075</th>\n",
       "      <th>0.0080</th>\n",
       "    </tr>\n",
       "    <tr>\n",
       "      <th>move_str</th>\n",
       "      <th>selec_str</th>\n",
       "      <th></th>\n",
       "      <th></th>\n",
       "      <th></th>\n",
       "      <th></th>\n",
       "      <th></th>\n",
       "      <th></th>\n",
       "      <th></th>\n",
       "      <th></th>\n",
       "      <th></th>\n",
       "      <th></th>\n",
       "      <th></th>\n",
       "      <th></th>\n",
       "      <th></th>\n",
       "      <th></th>\n",
       "      <th></th>\n",
       "    </tr>\n",
       "  </thead>\n",
       "  <tbody>\n",
       "    <tr>\n",
       "      <th rowspan=\"3\" valign=\"top\">best</th>\n",
       "      <th>best</th>\n",
       "      <td>0.000293</td>\n",
       "      <td>0.000386</td>\n",
       "      <td>0.000532</td>\n",
       "      <td>0.000416</td>\n",
       "      <td>0.000473</td>\n",
       "      <td>0.000547</td>\n",
       "      <td>0.000626</td>\n",
       "      <td>0.001383</td>\n",
       "      <td>0.001653</td>\n",
       "      <td>0.001654</td>\n",
       "      <td>0.001655</td>\n",
       "      <td>0.001655</td>\n",
       "      <td>0.001655</td>\n",
       "      <td>0.001655</td>\n",
       "      <td>0.001718</td>\n",
       "    </tr>\n",
       "    <tr>\n",
       "      <th>first</th>\n",
       "      <td>0.000293</td>\n",
       "      <td>0.000386</td>\n",
       "      <td>0.000532</td>\n",
       "      <td>0.000416</td>\n",
       "      <td>0.000473</td>\n",
       "      <td>0.000547</td>\n",
       "      <td>0.000626</td>\n",
       "      <td>0.001383</td>\n",
       "      <td>0.001653</td>\n",
       "      <td>0.001654</td>\n",
       "      <td>0.001655</td>\n",
       "      <td>0.001655</td>\n",
       "      <td>0.001655</td>\n",
       "      <td>0.001655</td>\n",
       "      <td>0.001718</td>\n",
       "    </tr>\n",
       "    <tr>\n",
       "      <th>random</th>\n",
       "      <td>0.000648</td>\n",
       "      <td>0.000383</td>\n",
       "      <td>0.001235</td>\n",
       "      <td>0.000662</td>\n",
       "      <td>0.000487</td>\n",
       "      <td>0.001381</td>\n",
       "      <td>0.001380</td>\n",
       "      <td>0.001381</td>\n",
       "      <td>0.001258</td>\n",
       "      <td>0.001654</td>\n",
       "      <td>0.001654</td>\n",
       "      <td>0.001654</td>\n",
       "      <td>0.001654</td>\n",
       "      <td>0.001654</td>\n",
       "      <td>0.001655</td>\n",
       "    </tr>\n",
       "    <tr>\n",
       "      <th rowspan=\"3\" valign=\"top\">random</th>\n",
       "      <th>best</th>\n",
       "      <td>0.001380</td>\n",
       "      <td>0.001380</td>\n",
       "      <td>0.001380</td>\n",
       "      <td>0.000405</td>\n",
       "      <td>0.001381</td>\n",
       "      <td>0.001381</td>\n",
       "      <td>0.001381</td>\n",
       "      <td>0.001381</td>\n",
       "      <td>0.001654</td>\n",
       "      <td>0.001654</td>\n",
       "      <td>0.001654</td>\n",
       "      <td>0.001654</td>\n",
       "      <td>0.001654</td>\n",
       "      <td>0.001654</td>\n",
       "      <td>0.001654</td>\n",
       "    </tr>\n",
       "    <tr>\n",
       "      <th>first</th>\n",
       "      <td>0.001380</td>\n",
       "      <td>0.001380</td>\n",
       "      <td>0.001380</td>\n",
       "      <td>0.000405</td>\n",
       "      <td>0.001381</td>\n",
       "      <td>0.001381</td>\n",
       "      <td>0.001381</td>\n",
       "      <td>0.001381</td>\n",
       "      <td>0.001654</td>\n",
       "      <td>0.001654</td>\n",
       "      <td>0.001654</td>\n",
       "      <td>0.001654</td>\n",
       "      <td>0.001654</td>\n",
       "      <td>0.001654</td>\n",
       "      <td>0.001654</td>\n",
       "    </tr>\n",
       "    <tr>\n",
       "      <th>random</th>\n",
       "      <td>0.000978</td>\n",
       "      <td>0.000247</td>\n",
       "      <td>0.001381</td>\n",
       "      <td>0.001220</td>\n",
       "      <td>0.001381</td>\n",
       "      <td>0.001381</td>\n",
       "      <td>0.001381</td>\n",
       "      <td>0.001381</td>\n",
       "      <td>0.001654</td>\n",
       "      <td>0.001654</td>\n",
       "      <td>0.001654</td>\n",
       "      <td>0.001654</td>\n",
       "      <td>0.001654</td>\n",
       "      <td>0.001655</td>\n",
       "      <td>0.001655</td>\n",
       "    </tr>\n",
       "  </tbody>\n",
       "</table>\n",
       "</div>"
      ],
      "text/plain": [
       "exp_return            0.0010    0.0015    0.0020    0.0025    0.0030  \\\n",
       "move_str selec_str                                                     \n",
       "best     best       0.000293  0.000386  0.000532  0.000416  0.000473   \n",
       "         first      0.000293  0.000386  0.000532  0.000416  0.000473   \n",
       "         random     0.000648  0.000383  0.001235  0.000662  0.000487   \n",
       "random   best       0.001380  0.001380  0.001380  0.000405  0.001381   \n",
       "         first      0.001380  0.001380  0.001380  0.000405  0.001381   \n",
       "         random     0.000978  0.000247  0.001381  0.001220  0.001381   \n",
       "\n",
       "exp_return            0.0035    0.0040    0.0045    0.0050    0.0055  \\\n",
       "move_str selec_str                                                     \n",
       "best     best       0.000547  0.000626  0.001383  0.001653  0.001654   \n",
       "         first      0.000547  0.000626  0.001383  0.001653  0.001654   \n",
       "         random     0.001381  0.001380  0.001381  0.001258  0.001654   \n",
       "random   best       0.001381  0.001381  0.001381  0.001654  0.001654   \n",
       "         first      0.001381  0.001381  0.001381  0.001654  0.001654   \n",
       "         random     0.001381  0.001381  0.001381  0.001654  0.001654   \n",
       "\n",
       "exp_return            0.0060    0.0065    0.0070    0.0075    0.0080  \n",
       "move_str selec_str                                                    \n",
       "best     best       0.001655  0.001655  0.001655  0.001655  0.001718  \n",
       "         first      0.001655  0.001655  0.001655  0.001655  0.001718  \n",
       "         random     0.001654  0.001654  0.001654  0.001654  0.001655  \n",
       "random   best       0.001654  0.001654  0.001654  0.001654  0.001654  \n",
       "         first      0.001654  0.001654  0.001654  0.001654  0.001654  \n",
       "         random     0.001654  0.001654  0.001654  0.001655  0.001655  "
      ]
     },
     "execution_count": 29,
     "metadata": {},
     "output_type": "execute_result"
    }
   ],
   "source": [
    "best_data.groupby(['exp_return', 'move_str', 'selec_str'], as_index=False)['obj']\\\n",
    "    .min()\\\n",
    "    .pivot(index=['move_str', 'selec_str'], columns='exp_return', values='obj')"
   ]
  },
  {
   "cell_type": "code",
   "execution_count": 30,
   "id": "empty-fisher",
   "metadata": {},
   "outputs": [
    {
     "name": "stdout",
     "output_type": "stream",
     "text": [
      "(15, 2)\n"
     ]
    },
    {
     "data": {
      "text/html": [
       "<div>\n",
       "<style scoped>\n",
       "    .dataframe tbody tr th:only-of-type {\n",
       "        vertical-align: middle;\n",
       "    }\n",
       "\n",
       "    .dataframe tbody tr th {\n",
       "        vertical-align: top;\n",
       "    }\n",
       "\n",
       "    .dataframe thead th {\n",
       "        text-align: right;\n",
       "    }\n",
       "</style>\n",
       "<table border=\"1\" class=\"dataframe\">\n",
       "  <thead>\n",
       "    <tr style=\"text-align: right;\">\n",
       "      <th></th>\n",
       "      <th>exp_return</th>\n",
       "      <th>obj</th>\n",
       "    </tr>\n",
       "  </thead>\n",
       "  <tbody>\n",
       "    <tr>\n",
       "      <th>0</th>\n",
       "      <td>0.0010</td>\n",
       "      <td>0.000293</td>\n",
       "    </tr>\n",
       "    <tr>\n",
       "      <th>1</th>\n",
       "      <td>0.0015</td>\n",
       "      <td>0.000247</td>\n",
       "    </tr>\n",
       "    <tr>\n",
       "      <th>2</th>\n",
       "      <td>0.0020</td>\n",
       "      <td>0.000532</td>\n",
       "    </tr>\n",
       "    <tr>\n",
       "      <th>3</th>\n",
       "      <td>0.0025</td>\n",
       "      <td>0.000405</td>\n",
       "    </tr>\n",
       "    <tr>\n",
       "      <th>4</th>\n",
       "      <td>0.0030</td>\n",
       "      <td>0.000473</td>\n",
       "    </tr>\n",
       "  </tbody>\n",
       "</table>\n",
       "</div>"
      ],
      "text/plain": [
       "   exp_return       obj\n",
       "0      0.0010  0.000293\n",
       "1      0.0015  0.000247\n",
       "2      0.0020  0.000532\n",
       "3      0.0025  0.000405\n",
       "4      0.0030  0.000473"
      ]
     },
     "execution_count": 30,
     "metadata": {},
     "output_type": "execute_result"
    }
   ],
   "source": [
    "best_best_data = best_data.groupby(['exp_return'], as_index=False)['obj'].min()\n",
    "print(best_best_data.shape)\n",
    "best_best_data.head()"
   ]
  },
  {
   "cell_type": "code",
   "execution_count": 31,
   "metadata": {},
   "outputs": [
    {
     "data": {
      "text/plain": [
       "[<matplotlib.lines.Line2D at 0x7fe7d6ea8100>]"
      ]
     },
     "execution_count": 31,
     "metadata": {},
     "output_type": "execute_result"
    },
    {
     "data": {
      "image/png": "[encoded data removed]",
      "text/plain": [
       "<Figure size 432x288 with 1 Axes>"
      ]
     },
     "metadata": {
      "needs_background": "light"
     },
     "output_type": "display_data"
    }
   ],
   "source": [
    "plt.plot(uef[uef.port==1].mean_return, uef[uef.port==1].var_return)\n",
    "plt.plot(best_best_data.exp_return, best_best_data.obj)"
   ]
  }
 ],
 "metadata": {
  "interpreter": {
   "hash": "f6cb668b59e4b046a7e38bbc755e07d52764e1df270e17944c28cd2019a15cbc"
  },
  "kernelspec": {
   "display_name": "Python 3.8.12 64-bit ('abradee': conda)",
   "name": "python3"
  },
  "language_info": {
   "codemirror_mode": {
    "name": "ipython",
    "version": 3
   },
   "file_extension": ".py",
   "mimetype": "text/x-python",
   "name": "python",
   "nbconvert_exporter": "python",
   "pygments_lexer": "ipython3",
   "version": "3.8.12"
  }
 },
 "nbformat": 4,
 "nbformat_minor": 5
}
