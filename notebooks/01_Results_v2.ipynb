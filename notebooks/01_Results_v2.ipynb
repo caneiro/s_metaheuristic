{
 "cells": [
  {
   "cell_type": "markdown",
   "id": "sublime-clock",
   "metadata": {},
   "source": [
    "# LOCAL SEARCH - ANÁLISE DE RESULTADOS\n",
    "\n",
    " - ITA | PG-CTE-S | TE-282 - Meta-heurísticas\n",
    " - Professor Dr. Angelo Passaro\n",
    " - Aluno: Rafael Caneiro de Oliveira\n",
    " - Versao: 0.1\n",
    " - Data: 26/10/2021"
   ]
  },
  {
   "cell_type": "markdown",
   "id": "popular-garlic",
   "metadata": {},
   "source": [
    "## Bibliotecas | Parâmetros | Funções"
   ]
  },
  {
   "cell_type": "code",
   "execution_count": 25,
   "id": "dac73a11",
   "metadata": {
    "ExecuteTime": {
     "end_time": "2021-10-31T03:08:30.893148Z",
     "start_time": "2021-10-31T03:08:30.889405Z"
    },
    "scrolled": false
   },
   "outputs": [
    {
     "name": "stdout",
     "output_type": "stream",
     "text": [
      "/home/rco/github/s_metaheuristic/data/log\n"
     ]
    }
   ],
   "source": [
    "import numpy as np\n",
    "import pandas as pd\n",
    "import matplotlib.pyplot as plt\n",
    "import seaborn as sns\n",
    "from pathlib import Path\n",
    "import glob\n",
    "from ast import literal_eval\n",
    "\n",
    "PATH = Path.cwd().parent\n",
    "RAW_PATH = Path(PATH, \"./data/raw/\") \n",
    "LOG_PATH = Path(PATH, \"./data/log/\")\n",
    "print(LOG_PATH)\n"
   ]
  },
  {
   "cell_type": "code",
   "execution_count": 26,
   "id": "boolean-workplace",
   "metadata": {
    "ExecuteTime": {
     "end_time": "2021-10-31T03:08:30.901583Z",
     "start_time": "2021-10-31T03:08:30.895055Z"
    }
   },
   "outputs": [],
   "source": [
    "def read_port_files(n_port):\n",
    "    filepath = Path(RAW_PATH, 'port' + str(n_port) + '.txt')\n",
    "    with open(filepath) as fp:\n",
    "        # quantidade de ativos no portfolio\n",
    "        n_assets = int(fp.readline())\n",
    "        # armazena as estatisticas do ativo\n",
    "        r_mean = []\n",
    "        r_std = []\n",
    "        for n in range(n_assets):\n",
    "            line = fp.readline()\n",
    "            r_mean.append(float(line.strip().split()[0]))\n",
    "            r_std.append(float(line.strip().split()[1]))\n",
    "\n",
    "        # obtem o restante da matriz de covariancia\n",
    "        cnt = 32\n",
    "        i = []\n",
    "        j = []\n",
    "        cov = []\n",
    "        line = fp.readline()\n",
    "        while line:\n",
    "            i.append(int(line.strip().split(' ')[0]))\n",
    "            j.append(int(line.strip().split(' ')[1]))\n",
    "            cov.append(float(line.strip().split(' ')[2]))\n",
    "            line = fp.readline()\n",
    "    fp.close()\n",
    "    # retorna dataframe com estatisticas dos ativos do portfolio\n",
    "    df_stats = pd.DataFrame({'port':n_port,\n",
    "                             'i':[i_+1 for i_ in range(n_assets)],\n",
    "                             'r_mean':r_mean,\n",
    "                             'r_std':r_std})\n",
    "    print(df_stats.shape)\n",
    "\n",
    "    # retorna dataframe com matriz de covariancia dos ativos do portfolio\n",
    "    df_cov_mx = pd.DataFrame({'port':n_port,\n",
    "                             'i':i,\n",
    "                             'j':j,\n",
    "                             'cov':cov})\n",
    "    print(df_cov_mx.shape)\n",
    "    return df_stats, df_cov_mx"
   ]
  },
  {
   "cell_type": "markdown",
   "id": "legislative-leisure",
   "metadata": {},
   "source": [
    "## Carrega Dados"
   ]
  },
  {
   "cell_type": "code",
   "execution_count": 27,
   "id": "above-programming",
   "metadata": {
    "ExecuteTime": {
     "end_time": "2021-10-31T03:08:31.008947Z",
     "start_time": "2021-10-31T03:08:30.904027Z"
    }
   },
   "outputs": [
    {
     "name": "stdout",
     "output_type": "stream",
     "text": [
      "(31, 4)\n",
      "(496, 4)\n",
      "(85, 4)\n",
      "(3655, 4)\n",
      "(89, 4)\n",
      "(4005, 4)\n",
      "(98, 4)\n",
      "(4851, 4)\n",
      "(225, 4)\n",
      "(25425, 4)\n"
     ]
    }
   ],
   "source": [
    "df_stats_list = []\n",
    "df_cov_mx_list =[]\n",
    "for p in range(1,6,1):\n",
    "    df_stats, df_cov_mx = read_port_files(p)\n",
    "    df_stats_list.append(df_stats)\n",
    "    df_cov_mx_list.append(df_cov_mx)\n",
    "    \n",
    "df_stats = pd.concat(df_stats_list)\n",
    "df_cov_mx = pd.concat(df_cov_mx_list)"
   ]
  },
  {
   "cell_type": "code",
   "execution_count": 28,
   "id": "likely-creature",
   "metadata": {
    "ExecuteTime": {
     "end_time": "2021-10-31T03:08:38.145537Z",
     "start_time": "2021-10-31T03:08:38.139516Z"
    }
   },
   "outputs": [],
   "source": [
    "portfolios = {\n",
    "    1:'Hang Seng - Hong Kong',\n",
    "    2:'DAX - German Blue Chips',\n",
    "    3:'FTSE - London',\n",
    "    4:\"S&P - Standard and Poor's 500 - US\",\n",
    "    5:'Nikkei - Tokyo'\n",
    "}\n",
    "df_stats['portfolio'] = df_stats.port.map(portfolios)\n",
    "df_cov_mx['portfolio'] = df_cov_mx.port.map(portfolios)"
   ]
  },
  {
   "cell_type": "code",
   "execution_count": 29,
   "metadata": {},
   "outputs": [
    {
     "data": {
      "text/html": [
       "<div>\n",
       "<style scoped>\n",
       "    .dataframe tbody tr th:only-of-type {\n",
       "        vertical-align: middle;\n",
       "    }\n",
       "\n",
       "    .dataframe tbody tr th {\n",
       "        vertical-align: top;\n",
       "    }\n",
       "\n",
       "    .dataframe thead th {\n",
       "        text-align: right;\n",
       "    }\n",
       "</style>\n",
       "<table border=\"1\" class=\"dataframe\">\n",
       "  <thead>\n",
       "    <tr style=\"text-align: right;\">\n",
       "      <th></th>\n",
       "      <th>mean_return</th>\n",
       "      <th>var_return</th>\n",
       "      <th>port</th>\n",
       "      <th>portfolio</th>\n",
       "    </tr>\n",
       "  </thead>\n",
       "  <tbody>\n",
       "    <tr>\n",
       "      <th>0</th>\n",
       "      <td>0.010865</td>\n",
       "      <td>0.004776</td>\n",
       "      <td>1</td>\n",
       "      <td>Hang Seng - Hong Kong</td>\n",
       "    </tr>\n",
       "    <tr>\n",
       "      <th>1</th>\n",
       "      <td>0.010861</td>\n",
       "      <td>0.004768</td>\n",
       "      <td>1</td>\n",
       "      <td>Hang Seng - Hong Kong</td>\n",
       "    </tr>\n",
       "    <tr>\n",
       "      <th>2</th>\n",
       "      <td>0.010857</td>\n",
       "      <td>0.004760</td>\n",
       "      <td>1</td>\n",
       "      <td>Hang Seng - Hong Kong</td>\n",
       "    </tr>\n",
       "    <tr>\n",
       "      <th>3</th>\n",
       "      <td>0.010853</td>\n",
       "      <td>0.004752</td>\n",
       "      <td>1</td>\n",
       "      <td>Hang Seng - Hong Kong</td>\n",
       "    </tr>\n",
       "    <tr>\n",
       "      <th>4</th>\n",
       "      <td>0.010849</td>\n",
       "      <td>0.004745</td>\n",
       "      <td>1</td>\n",
       "      <td>Hang Seng - Hong Kong</td>\n",
       "    </tr>\n",
       "  </tbody>\n",
       "</table>\n",
       "</div>"
      ],
      "text/plain": [
       "   mean_return  var_return  port              portfolio\n",
       "0     0.010865    0.004776     1  Hang Seng - Hong Kong\n",
       "1     0.010861    0.004768     1  Hang Seng - Hong Kong\n",
       "2     0.010857    0.004760     1  Hang Seng - Hong Kong\n",
       "3     0.010853    0.004752     1  Hang Seng - Hong Kong\n",
       "4     0.010849    0.004745     1  Hang Seng - Hong Kong"
      ]
     },
     "execution_count": 29,
     "metadata": {},
     "output_type": "execute_result"
    }
   ],
   "source": [
    "uefs = []\n",
    "for port in range(5):\n",
    "    uef = pd.read_csv(Path(RAW_PATH, 'portef' + str(port+1) + '.txt'), header=None, sep='\\s+')\n",
    "    uef.columns = ['mean_return', 'var_return']\n",
    "    uef['port'] = port + 1\n",
    "    uefs.append(uef)\n",
    "uef = pd.concat(uefs, ignore_index=True).reset_index(drop=True)\n",
    "uef['portfolio'] = uef.port.map(portfolios)\n",
    "uef.head()"
   ]
  },
  {
   "cell_type": "code",
   "execution_count": 30,
   "id": "surprised-pastor",
   "metadata": {
    "ExecuteTime": {
     "end_time": "2021-10-31T03:08:37.806127Z",
     "start_time": "2021-10-31T03:08:31.011392Z"
    }
   },
   "outputs": [
    {
     "name": "stdout",
     "output_type": "stream",
     "text": [
      "Importados 870 arquivos\n"
     ]
    }
   ],
   "source": [
    "all_dfs = []\n",
    "best_dfs = []\n",
    "LOGs = str(LOG_PATH) + '/*.csv'\n",
    "\n",
    "c = 0\n",
    "for file in glob.glob(str(LOGs)):\n",
    "    filename = file[file.find('/log/')+5:]\n",
    "    try:\n",
    "        df = pd.read_csv(file, low_memory=False, sep=',', quotechar='\"')\n",
    "        c = c + 1\n",
    "    except:\n",
    "        print('Arquivo não importado: {}'.format(filename))\n",
    "    df['filename'] = filename\n",
    "    df['Z'] = df.Z.apply(lambda x: literal_eval(x))\n",
    "    df['X'] = df.X.apply(lambda x: literal_eval(x))\n",
    "    df['k'] = df.Z.apply(lambda x: len(x))\n",
    "    all_dfs.append(df)\n",
    "    best_dfs.append(df.iloc[-1:])\n",
    "\n",
    "all_data = pd.concat(all_dfs, ignore_index=True).reset_index(drop=True)\n",
    "all_data.rename({'move_strategy':'move_str',\n",
    "                 'selection_strategy':'selec_str'}, axis=1, inplace=True)\n",
    "\n",
    "best_data = pd.concat(best_dfs, ignore_index=True).reset_index(drop=True)\n",
    "best_data.rename({'move_strategy':'move_str',\n",
    "                  'selection_strategy':'selec_str'}, axis=1, inplace=True)\n",
    "\n",
    "print('Importados {} arquivos'.format(c))\n",
    "\n",
    "# for col in all_data.columns:\n",
    "#     all_data[col] = pd.to_numeric(all_data[col])\n",
    "\n",
    "# for col in best_data.columns:\n",
    "#     best_data[col] = pd.to_numeric(best_data[col])"
   ]
  },
  {
   "cell_type": "code",
   "execution_count": 31,
   "metadata": {},
   "outputs": [
    {
     "data": {
      "text/plain": [
       "0                 [1, 3, 19, 20, 21, 22, 27]\n",
       "1                  [1, 3, 4, 19, 20, 21, 27]\n",
       "2                  [1, 3, 4, 13, 20, 21, 27]\n",
       "3                  [1, 4, 6, 13, 20, 21, 27]\n",
       "4                  [1, 4, 6, 13, 20, 27, 29]\n",
       "                         ...                \n",
       "124749    [4, 8, 12, 13, 18, 19, 25, 27, 29]\n",
       "124750    [4, 8, 12, 13, 18, 19, 25, 27, 29]\n",
       "124751    [4, 8, 12, 13, 18, 19, 25, 27, 29]\n",
       "124752    [4, 8, 12, 13, 18, 19, 25, 27, 29]\n",
       "124753    [4, 8, 12, 13, 18, 19, 25, 27, 29]\n",
       "Name: Z, Length: 124754, dtype: object"
      ]
     },
     "execution_count": 31,
     "metadata": {},
     "output_type": "execute_result"
    }
   ],
   "source": [
    "all_data.Z"
   ]
  },
  {
   "cell_type": "code",
   "execution_count": 32,
   "metadata": {},
   "outputs": [
    {
     "name": "stdout",
     "output_type": "stream",
     "text": [
      "<class 'pandas.core.frame.DataFrame'>\n",
      "RangeIndex: 124754 entries, 0 to 124753\n",
      "Data columns (total 25 columns):\n",
      " #   Column      Non-Null Count   Dtype  \n",
      "---  ------      --------------   -----  \n",
      " 0   iter        124754 non-null  int64  \n",
      " 1   move        124754 non-null  object \n",
      " 2   improve     124754 non-null  bool   \n",
      " 3   obj         124754 non-null  float64\n",
      " 4   return      124754 non-null  float64\n",
      " 5   n_assets    124754 non-null  int64  \n",
      " 6   qX          124754 non-null  int64  \n",
      " 7   qN          124754 non-null  int64  \n",
      " 8   qNv         124754 non-null  int64  \n",
      " 9   iter_time   124754 non-null  float64\n",
      " 10  max_iter    124754 non-null  int64  \n",
      " 11  neighbours  124754 non-null  int64  \n",
      " 12  alpha       124754 non-null  float64\n",
      " 13  exp_return  124754 non-null  float64\n",
      " 14  n_port      124754 non-null  int64  \n",
      " 15  k_min       124754 non-null  int64  \n",
      " 16  k_max       124754 non-null  int64  \n",
      " 17  move_str    124754 non-null  object \n",
      " 18  seed        124754 non-null  int64  \n",
      " 19  selec_str   124754 non-null  object \n",
      " 20  tag         124754 non-null  object \n",
      " 21  X           124754 non-null  object \n",
      " 22  Z           124754 non-null  object \n",
      " 23  filename    124754 non-null  object \n",
      " 24  k           124754 non-null  int64  \n",
      "dtypes: bool(1), float64(5), int64(12), object(7)\n",
      "memory usage: 23.0+ MB\n"
     ]
    }
   ],
   "source": [
    "all_data.info()"
   ]
  },
  {
   "cell_type": "code",
   "execution_count": 33,
   "id": "rental-airport",
   "metadata": {
    "ExecuteTime": {
     "end_time": "2021-10-31T03:08:38.135832Z",
     "start_time": "2021-10-31T03:08:37.883828Z"
    }
   },
   "outputs": [],
   "source": [
    "all_data.describe(include='all').T"
   ]
  },
  {
   "cell_type": "markdown",
   "id": "signed-papua",
   "metadata": {},
   "source": [
    "## Portfólios"
   ]
  },
  {
   "cell_type": "markdown",
   "metadata": {},
   "source": [
    "### Geral"
   ]
  },
  {
   "cell_type": "code",
   "execution_count": null,
   "id": "available-renewal",
   "metadata": {
    "ExecuteTime": {
     "end_time": "2021-10-31T03:08:38.400788Z",
     "start_time": "2021-10-31T03:08:38.147553Z"
    }
   },
   "outputs": [
    {
     "data": {
      "image/png": "[encoded data removed]",
      "text/plain": [
       "<Figure size 864x288 with 2 Axes>"
      ]
     },
     "metadata": {
      "needs_background": "light"
     },
     "output_type": "display_data"
    }
   ],
   "source": [
    "fig, ax = plt.subplots(1, 2, figsize=(12,4), gridspec_kw={'width_ratios': [1, 1.5]})\n",
    "sns.countplot(data=df_stats, y='portfolio', ax=ax[0])\n",
    "ax[0].title.set_text('Qtd de Ativos')\n",
    "sns.boxplot(data=df_stats, y='portfolio', x='r_mean', ax=ax[1])\n",
    "ax[1].title.set_text(\"Retorno Médio\")\n",
    "ax[1].get_yaxis().set_ticks([])\n",
    "ax[1].set_ylabel('')\n",
    "fig.tight_layout()"
   ]
  },
  {
   "cell_type": "markdown",
   "metadata": {},
   "source": [
    "### Matriz de Covariância"
   ]
  },
  {
   "cell_type": "code",
   "execution_count": null,
   "id": "little-quebec",
   "metadata": {
    "ExecuteTime": {
     "end_time": "2021-10-31T03:08:38.695099Z",
     "start_time": "2021-10-31T03:08:38.402269Z"
    }
   },
   "outputs": [
    {
     "data": {
      "image/png": "[encoded data removed]",
      "text/plain": [
       "<Figure size 432x288 with 2 Axes>"
      ]
     },
     "metadata": {
      "needs_background": "light"
     },
     "output_type": "display_data"
    }
   ],
   "source": [
    "portfolio = 1\n",
    "df_cov_pivot = df_cov_mx[df_cov_mx.port==portfolio].pivot(index='i', columns='j', values='cov')\n",
    "sns.heatmap(df_cov_pivot.iloc[::-1], cmap=\"YlGnBu\") \n",
    "plt.title(portfolios[portfolio])\n",
    "ax=ax"
   ]
  },
  {
   "cell_type": "markdown",
   "metadata": {},
   "source": [
    "### Fronteiras de Eficiência Irrestrira - UEF"
   ]
  },
  {
   "cell_type": "code",
   "execution_count": null,
   "metadata": {},
   "outputs": [
    {
     "data": {
      "text/html": [
       "<div>\n",
       "<style scoped>\n",
       "    .dataframe tbody tr th:only-of-type {\n",
       "        vertical-align: middle;\n",
       "    }\n",
       "\n",
       "    .dataframe tbody tr th {\n",
       "        vertical-align: top;\n",
       "    }\n",
       "\n",
       "    .dataframe thead th {\n",
       "        text-align: right;\n",
       "    }\n",
       "</style>\n",
       "<table border=\"1\" class=\"dataframe\">\n",
       "  <thead>\n",
       "    <tr style=\"text-align: right;\">\n",
       "      <th></th>\n",
       "      <th>mean_return</th>\n",
       "      <th>var_return</th>\n",
       "      <th>port</th>\n",
       "      <th>portfolio</th>\n",
       "    </tr>\n",
       "  </thead>\n",
       "  <tbody>\n",
       "    <tr>\n",
       "      <th>0</th>\n",
       "      <td>0.010865</td>\n",
       "      <td>0.004776</td>\n",
       "      <td>1</td>\n",
       "      <td>Hang Seng - Hong Kong</td>\n",
       "    </tr>\n",
       "    <tr>\n",
       "      <th>1</th>\n",
       "      <td>0.010861</td>\n",
       "      <td>0.004768</td>\n",
       "      <td>1</td>\n",
       "      <td>Hang Seng - Hong Kong</td>\n",
       "    </tr>\n",
       "    <tr>\n",
       "      <th>2</th>\n",
       "      <td>0.010857</td>\n",
       "      <td>0.004760</td>\n",
       "      <td>1</td>\n",
       "      <td>Hang Seng - Hong Kong</td>\n",
       "    </tr>\n",
       "    <tr>\n",
       "      <th>3</th>\n",
       "      <td>0.010853</td>\n",
       "      <td>0.004752</td>\n",
       "      <td>1</td>\n",
       "      <td>Hang Seng - Hong Kong</td>\n",
       "    </tr>\n",
       "    <tr>\n",
       "      <th>4</th>\n",
       "      <td>0.010849</td>\n",
       "      <td>0.004745</td>\n",
       "      <td>1</td>\n",
       "      <td>Hang Seng - Hong Kong</td>\n",
       "    </tr>\n",
       "  </tbody>\n",
       "</table>\n",
       "</div>"
      ],
      "text/plain": [
       "   mean_return  var_return  port              portfolio\n",
       "0     0.010865    0.004776     1  Hang Seng - Hong Kong\n",
       "1     0.010861    0.004768     1  Hang Seng - Hong Kong\n",
       "2     0.010857    0.004760     1  Hang Seng - Hong Kong\n",
       "3     0.010853    0.004752     1  Hang Seng - Hong Kong\n",
       "4     0.010849    0.004745     1  Hang Seng - Hong Kong"
      ]
     },
     "execution_count": 12,
     "metadata": {},
     "output_type": "execute_result"
    }
   ],
   "source": [
    "uef.head()"
   ]
  },
  {
   "cell_type": "code",
   "execution_count": null,
   "metadata": {},
   "outputs": [
    {
     "data": {
      "image/png": "[encoded data removed]",
      "text/plain": [
       "<Figure size 1080x216 with 5 Axes>"
      ]
     },
     "metadata": {
      "needs_background": "light"
     },
     "output_type": "display_data"
    }
   ],
   "source": [
    "g = sns.relplot(data=uef, y='mean_return', x='var_return', col='portfolio', kind='line', height=3)\n",
    "ax=ax"
   ]
  },
  {
   "cell_type": "markdown",
   "id": "available-equivalent",
   "metadata": {},
   "source": [
    "## Curvas de Aprendizado"
   ]
  },
  {
   "cell_type": "markdown",
   "id": "frozen-agreement",
   "metadata": {},
   "source": [
    "### Avaliação do Impacto da Seed"
   ]
  },
  {
   "cell_type": "code",
   "execution_count": null,
   "id": "effective-narrative",
   "metadata": {
    "ExecuteTime": {
     "start_time": "2021-10-31T03:08:56.421Z"
    }
   },
   "outputs": [],
   "source": [
    "# g = sns.FacetGrid(\n",
    "#     data=all_data, row='seed', col='move_str', hue='alpha')\n",
    "# g.map(sns.lineplot, 'iter', 'obj')\n",
    "# g.add_legend()\n",
    "# g=g"
   ]
  },
  {
   "cell_type": "code",
   "execution_count": null,
   "id": "effective-narrative",
   "metadata": {
    "ExecuteTime": {
     "start_time": "2021-10-31T03:08:56.421Z"
    }
   },
   "outputs": [],
   "source": [
    "# g = sns.FacetGrid(\n",
    "#     data=all_data, row='seed', col='selec_str', hue='alpha')\n",
    "# g.map(sns.lineplot, 'iter', 'obj')\n",
    "# g.add_legend()\n",
    "# g=g"
   ]
  },
  {
   "cell_type": "markdown",
   "id": "reasonable-raising",
   "metadata": {},
   "source": [
    "### Avaliação do Tipo de Move"
   ]
  },
  {
   "cell_type": "code",
   "execution_count": null,
   "id": "unlike-glucose",
   "metadata": {
    "ExecuteTime": {
     "end_time": "2021-10-31T03:08:40.860344Z",
     "start_time": "2021-10-31T03:08:30.907Z"
    }
   },
   "outputs": [],
   "source": [
    "# g = sns.FacetGrid(\n",
    "#     data=all_data, row='selec_str', col='move_str', hue='alpha')\n",
    "# g.map(sns.lineplot, 'iter', 'obj')\n",
    "# g.add_legend()\n",
    "# g=g"
   ]
  },
  {
   "cell_type": "markdown",
   "id": "noted-houston",
   "metadata": {},
   "source": [
    "### Avaliação do Impacto do Retorno Experado"
   ]
  },
  {
   "cell_type": "code",
   "execution_count": null,
   "id": "demonstrated-sacrifice",
   "metadata": {
    "ExecuteTime": {
     "end_time": "2021-10-31T03:08:40.861206Z",
     "start_time": "2021-10-31T03:08:30.908Z"
    }
   },
   "outputs": [],
   "source": [
    "# g = sns.FacetGrid(\n",
    "#     data=all_data, row='exp_return', col='move_str', hue='alpha')\n",
    "# g.map(sns.lineplot, 'iter', 'obj')\n",
    "# g.add_legend()\n",
    "# g=g"
   ]
  },
  {
   "cell_type": "markdown",
   "id": "helpful-audience",
   "metadata": {},
   "source": [
    "## Análise Best - Portfólio 1"
   ]
  },
  {
   "cell_type": "code",
   "execution_count": null,
   "metadata": {},
   "outputs": [
    {
     "data": {
      "text/html": [
       "<div>\n",
       "<style scoped>\n",
       "    .dataframe tbody tr th:only-of-type {\n",
       "        vertical-align: middle;\n",
       "    }\n",
       "\n",
       "    .dataframe tbody tr th {\n",
       "        vertical-align: top;\n",
       "    }\n",
       "\n",
       "    .dataframe thead th {\n",
       "        text-align: right;\n",
       "    }\n",
       "</style>\n",
       "<table border=\"1\" class=\"dataframe\">\n",
       "  <thead>\n",
       "    <tr style=\"text-align: right;\">\n",
       "      <th></th>\n",
       "      <th>count</th>\n",
       "      <th>mean</th>\n",
       "      <th>std</th>\n",
       "      <th>min</th>\n",
       "      <th>25%</th>\n",
       "      <th>50%</th>\n",
       "      <th>75%</th>\n",
       "      <th>max</th>\n",
       "    </tr>\n",
       "  </thead>\n",
       "  <tbody>\n",
       "    <tr>\n",
       "      <th>port</th>\n",
       "      <td>31.0</td>\n",
       "      <td>1.000000</td>\n",
       "      <td>0.000000</td>\n",
       "      <td>1.000000</td>\n",
       "      <td>1.000000</td>\n",
       "      <td>1.000000</td>\n",
       "      <td>1.000000</td>\n",
       "      <td>1.000000</td>\n",
       "    </tr>\n",
       "    <tr>\n",
       "      <th>i</th>\n",
       "      <td>31.0</td>\n",
       "      <td>16.000000</td>\n",
       "      <td>9.092121</td>\n",
       "      <td>1.000000</td>\n",
       "      <td>8.500000</td>\n",
       "      <td>16.000000</td>\n",
       "      <td>23.500000</td>\n",
       "      <td>31.000000</td>\n",
       "    </tr>\n",
       "    <tr>\n",
       "      <th>r_mean</th>\n",
       "      <td>31.0</td>\n",
       "      <td>0.003504</td>\n",
       "      <td>0.002186</td>\n",
       "      <td>0.000141</td>\n",
       "      <td>0.002043</td>\n",
       "      <td>0.003286</td>\n",
       "      <td>0.004725</td>\n",
       "      <td>0.010865</td>\n",
       "    </tr>\n",
       "    <tr>\n",
       "      <th>r_std</th>\n",
       "      <td>31.0</td>\n",
       "      <td>0.045723</td>\n",
       "      <td>0.007296</td>\n",
       "      <td>0.035848</td>\n",
       "      <td>0.040043</td>\n",
       "      <td>0.045450</td>\n",
       "      <td>0.050112</td>\n",
       "      <td>0.069105</td>\n",
       "    </tr>\n",
       "  </tbody>\n",
       "</table>\n",
       "</div>"
      ],
      "text/plain": [
       "        count       mean       std       min       25%        50%        75%  \\\n",
       "port     31.0   1.000000  0.000000  1.000000  1.000000   1.000000   1.000000   \n",
       "i        31.0  16.000000  9.092121  1.000000  8.500000  16.000000  23.500000   \n",
       "r_mean   31.0   0.003504  0.002186  0.000141  0.002043   0.003286   0.004725   \n",
       "r_std    31.0   0.045723  0.007296  0.035848  0.040043   0.045450   0.050112   \n",
       "\n",
       "              max  \n",
       "port     1.000000  \n",
       "i       31.000000  \n",
       "r_mean   0.010865  \n",
       "r_std    0.069105  "
      ]
     },
     "execution_count": 18,
     "metadata": {},
     "output_type": "execute_result"
    }
   ],
   "source": [
    "df_stats[df_stats.port==1].describe().T"
   ]
  },
  {
   "cell_type": "code",
   "execution_count": null,
   "metadata": {},
   "outputs": [
    {
     "name": "stdout",
     "output_type": "stream",
     "text": [
      "(870, 25)\n"
     ]
    },
    {
     "data": {
      "text/html": [
       "<div>\n",
       "<style scoped>\n",
       "    .dataframe tbody tr th:only-of-type {\n",
       "        vertical-align: middle;\n",
       "    }\n",
       "\n",
       "    .dataframe tbody tr th {\n",
       "        vertical-align: top;\n",
       "    }\n",
       "\n",
       "    .dataframe thead th {\n",
       "        text-align: right;\n",
       "    }\n",
       "</style>\n",
       "<table border=\"1\" class=\"dataframe\">\n",
       "  <thead>\n",
       "    <tr style=\"text-align: right;\">\n",
       "      <th></th>\n",
       "      <th>iter</th>\n",
       "      <th>move</th>\n",
       "      <th>improve</th>\n",
       "      <th>obj</th>\n",
       "      <th>return</th>\n",
       "      <th>n_assets</th>\n",
       "      <th>qX</th>\n",
       "      <th>qN</th>\n",
       "      <th>qNv</th>\n",
       "      <th>iter_time</th>\n",
       "      <th>...</th>\n",
       "      <th>k_min</th>\n",
       "      <th>k_max</th>\n",
       "      <th>move_str</th>\n",
       "      <th>seed</th>\n",
       "      <th>selec_str</th>\n",
       "      <th>tag</th>\n",
       "      <th>X</th>\n",
       "      <th>Z</th>\n",
       "      <th>filename</th>\n",
       "      <th>k</th>\n",
       "    </tr>\n",
       "  </thead>\n",
       "  <tbody>\n",
       "    <tr>\n",
       "      <th>0</th>\n",
       "      <td>68</td>\n",
       "      <td>idID</td>\n",
       "      <td>False</td>\n",
       "      <td>0.003177</td>\n",
       "      <td>0.002503</td>\n",
       "      <td>2</td>\n",
       "      <td>2</td>\n",
       "      <td>100</td>\n",
       "      <td>49</td>\n",
       "      <td>0.033963</td>\n",
       "      <td>...</td>\n",
       "      <td>2</td>\n",
       "      <td>15</td>\n",
       "      <td>idID</td>\n",
       "      <td>1</td>\n",
       "      <td>best</td>\n",
       "      <td>ccef</td>\n",
       "      <td>[4, 27]</td>\n",
       "      <td>[4, 27]</td>\n",
       "      <td>log_local_search_20211102_143232_594882.csv</td>\n",
       "      <td>69</td>\n",
       "    </tr>\n",
       "    <tr>\n",
       "      <th>1</th>\n",
       "      <td>183</td>\n",
       "      <td>iDR</td>\n",
       "      <td>False</td>\n",
       "      <td>0.025090</td>\n",
       "      <td>0.010368</td>\n",
       "      <td>8</td>\n",
       "      <td>8</td>\n",
       "      <td>100</td>\n",
       "      <td>50</td>\n",
       "      <td>0.034872</td>\n",
       "      <td>...</td>\n",
       "      <td>2</td>\n",
       "      <td>15</td>\n",
       "      <td>iDR</td>\n",
       "      <td>9</td>\n",
       "      <td>best</td>\n",
       "      <td>ccef</td>\n",
       "      <td>[3, 4, 5, 7, 9, 18, 23, 25]</td>\n",
       "      <td>[3, 4, 5, 7, 9, 18, 23, 25]</td>\n",
       "      <td>log_local_search_20211102_143219_051847.csv</td>\n",
       "      <td>184</td>\n",
       "    </tr>\n",
       "    <tr>\n",
       "      <th>2</th>\n",
       "      <td>67</td>\n",
       "      <td>iDR</td>\n",
       "      <td>False</td>\n",
       "      <td>0.001380</td>\n",
       "      <td>0.002361</td>\n",
       "      <td>2</td>\n",
       "      <td>2</td>\n",
       "      <td>100</td>\n",
       "      <td>99</td>\n",
       "      <td>0.099943</td>\n",
       "      <td>...</td>\n",
       "      <td>2</td>\n",
       "      <td>15</td>\n",
       "      <td>best</td>\n",
       "      <td>0</td>\n",
       "      <td>best</td>\n",
       "      <td>ccef</td>\n",
       "      <td>[25, 27]</td>\n",
       "      <td>[25, 27]</td>\n",
       "      <td>log_local_search_20211102_142817_984242.csv</td>\n",
       "      <td>68</td>\n",
       "    </tr>\n",
       "    <tr>\n",
       "      <th>3</th>\n",
       "      <td>66</td>\n",
       "      <td>idID</td>\n",
       "      <td>False</td>\n",
       "      <td>0.001384</td>\n",
       "      <td>0.002363</td>\n",
       "      <td>2</td>\n",
       "      <td>2</td>\n",
       "      <td>100</td>\n",
       "      <td>67</td>\n",
       "      <td>0.034038</td>\n",
       "      <td>...</td>\n",
       "      <td>2</td>\n",
       "      <td>15</td>\n",
       "      <td>idID</td>\n",
       "      <td>1</td>\n",
       "      <td>best</td>\n",
       "      <td>ccef</td>\n",
       "      <td>[25, 27]</td>\n",
       "      <td>[25, 27]</td>\n",
       "      <td>log_local_search_20211102_142935_954764.csv</td>\n",
       "      <td>67</td>\n",
       "    </tr>\n",
       "    <tr>\n",
       "      <th>4</th>\n",
       "      <td>97</td>\n",
       "      <td>TID</td>\n",
       "      <td>False</td>\n",
       "      <td>0.001454</td>\n",
       "      <td>0.004767</td>\n",
       "      <td>2</td>\n",
       "      <td>2</td>\n",
       "      <td>100</td>\n",
       "      <td>99</td>\n",
       "      <td>0.034404</td>\n",
       "      <td>...</td>\n",
       "      <td>2</td>\n",
       "      <td>15</td>\n",
       "      <td>random</td>\n",
       "      <td>7</td>\n",
       "      <td>best</td>\n",
       "      <td>ccef</td>\n",
       "      <td>[25, 27]</td>\n",
       "      <td>[25, 27]</td>\n",
       "      <td>log_local_search_20211102_143103_356931.csv</td>\n",
       "      <td>98</td>\n",
       "    </tr>\n",
       "  </tbody>\n",
       "</table>\n",
       "<p>5 rows × 25 columns</p>\n",
       "</div>"
      ],
      "text/plain": [
       "   iter  move  improve       obj    return  n_assets  qX   qN  qNv  iter_time  \\\n",
       "0    68  idID    False  0.003177  0.002503         2   2  100   49   0.033963   \n",
       "1   183   iDR    False  0.025090  0.010368         8   8  100   50   0.034872   \n",
       "2    67   iDR    False  0.001380  0.002361         2   2  100   99   0.099943   \n",
       "3    66  idID    False  0.001384  0.002363         2   2  100   67   0.034038   \n",
       "4    97   TID    False  0.001454  0.004767         2   2  100   99   0.034404   \n",
       "\n",
       "   ...  k_min  k_max  move_str  seed  selec_str   tag  \\\n",
       "0  ...      2     15      idID     1       best  ccef   \n",
       "1  ...      2     15       iDR     9       best  ccef   \n",
       "2  ...      2     15      best     0       best  ccef   \n",
       "3  ...      2     15      idID     1       best  ccef   \n",
       "4  ...      2     15    random     7       best  ccef   \n",
       "\n",
       "                             X                            Z  \\\n",
       "0                      [4, 27]                      [4, 27]   \n",
       "1  [3, 4, 5, 7, 9, 18, 23, 25]  [3, 4, 5, 7, 9, 18, 23, 25]   \n",
       "2                     [25, 27]                     [25, 27]   \n",
       "3                     [25, 27]                     [25, 27]   \n",
       "4                     [25, 27]                     [25, 27]   \n",
       "\n",
       "                                      filename    k  \n",
       "0  log_local_search_20211102_143232_594882.csv   69  \n",
       "1  log_local_search_20211102_143219_051847.csv  184  \n",
       "2  log_local_search_20211102_142817_984242.csv   68  \n",
       "3  log_local_search_20211102_142935_954764.csv   67  \n",
       "4  log_local_search_20211102_143103_356931.csv   98  \n",
       "\n",
       "[5 rows x 25 columns]"
      ]
     },
     "execution_count": 19,
     "metadata": {},
     "output_type": "execute_result"
    }
   ],
   "source": [
    "print(best_data.shape)\n",
    "best_data.head()"
   ]
  },
  {
   "cell_type": "code",
   "execution_count": null,
   "metadata": {},
   "outputs": [
    {
     "data": {
      "text/html": [
       "<div>\n",
       "<style scoped>\n",
       "    .dataframe tbody tr th:only-of-type {\n",
       "        vertical-align: middle;\n",
       "    }\n",
       "\n",
       "    .dataframe tbody tr th {\n",
       "        vertical-align: top;\n",
       "    }\n",
       "\n",
       "    .dataframe thead th {\n",
       "        text-align: right;\n",
       "    }\n",
       "</style>\n",
       "<table border=\"1\" class=\"dataframe\">\n",
       "  <thead>\n",
       "    <tr style=\"text-align: right;\">\n",
       "      <th></th>\n",
       "      <th>count</th>\n",
       "      <th>mean</th>\n",
       "      <th>std</th>\n",
       "      <th>min</th>\n",
       "      <th>25%</th>\n",
       "      <th>50%</th>\n",
       "      <th>75%</th>\n",
       "      <th>max</th>\n",
       "    </tr>\n",
       "  </thead>\n",
       "  <tbody>\n",
       "    <tr>\n",
       "      <th>iter</th>\n",
       "      <td>870.0</td>\n",
       "      <td>142.395402</td>\n",
       "      <td>1.081852e+02</td>\n",
       "      <td>50.000000</td>\n",
       "      <td>71.000000</td>\n",
       "      <td>97.000000</td>\n",
       "      <td>171.750000</td>\n",
       "      <td>648.000000</td>\n",
       "    </tr>\n",
       "    <tr>\n",
       "      <th>obj</th>\n",
       "      <td>870.0</td>\n",
       "      <td>0.023886</td>\n",
       "      <td>4.373075e-02</td>\n",
       "      <td>0.000293</td>\n",
       "      <td>0.001655</td>\n",
       "      <td>0.003065</td>\n",
       "      <td>0.026492</td>\n",
       "      <td>0.218159</td>\n",
       "    </tr>\n",
       "    <tr>\n",
       "      <th>return</th>\n",
       "      <td>870.0</td>\n",
       "      <td>0.004449</td>\n",
       "      <td>2.628661e-03</td>\n",
       "      <td>0.001000</td>\n",
       "      <td>0.002364</td>\n",
       "      <td>0.004627</td>\n",
       "      <td>0.005262</td>\n",
       "      <td>0.010780</td>\n",
       "    </tr>\n",
       "    <tr>\n",
       "      <th>n_assets</th>\n",
       "      <td>870.0</td>\n",
       "      <td>4.782759</td>\n",
       "      <td>3.312969e+00</td>\n",
       "      <td>2.000000</td>\n",
       "      <td>2.000000</td>\n",
       "      <td>2.000000</td>\n",
       "      <td>7.000000</td>\n",
       "      <td>15.000000</td>\n",
       "    </tr>\n",
       "    <tr>\n",
       "      <th>qX</th>\n",
       "      <td>870.0</td>\n",
       "      <td>4.782759</td>\n",
       "      <td>3.312969e+00</td>\n",
       "      <td>2.000000</td>\n",
       "      <td>2.000000</td>\n",
       "      <td>2.000000</td>\n",
       "      <td>7.000000</td>\n",
       "      <td>15.000000</td>\n",
       "    </tr>\n",
       "    <tr>\n",
       "      <th>qN</th>\n",
       "      <td>870.0</td>\n",
       "      <td>100.000000</td>\n",
       "      <td>0.000000e+00</td>\n",
       "      <td>100.000000</td>\n",
       "      <td>100.000000</td>\n",
       "      <td>100.000000</td>\n",
       "      <td>100.000000</td>\n",
       "      <td>100.000000</td>\n",
       "    </tr>\n",
       "    <tr>\n",
       "      <th>qNv</th>\n",
       "      <td>870.0</td>\n",
       "      <td>62.194253</td>\n",
       "      <td>2.515229e+01</td>\n",
       "      <td>0.000000</td>\n",
       "      <td>49.000000</td>\n",
       "      <td>61.000000</td>\n",
       "      <td>79.000000</td>\n",
       "      <td>100.000000</td>\n",
       "    </tr>\n",
       "    <tr>\n",
       "      <th>iter_time</th>\n",
       "      <td>870.0</td>\n",
       "      <td>0.048178</td>\n",
       "      <td>2.874976e-02</td>\n",
       "      <td>0.018516</td>\n",
       "      <td>0.033390</td>\n",
       "      <td>0.034518</td>\n",
       "      <td>0.036464</td>\n",
       "      <td>0.204237</td>\n",
       "    </tr>\n",
       "    <tr>\n",
       "      <th>max_iter</th>\n",
       "      <td>870.0</td>\n",
       "      <td>1000.000000</td>\n",
       "      <td>0.000000e+00</td>\n",
       "      <td>1000.000000</td>\n",
       "      <td>1000.000000</td>\n",
       "      <td>1000.000000</td>\n",
       "      <td>1000.000000</td>\n",
       "      <td>1000.000000</td>\n",
       "    </tr>\n",
       "    <tr>\n",
       "      <th>neighbours</th>\n",
       "      <td>870.0</td>\n",
       "      <td>100.000000</td>\n",
       "      <td>0.000000e+00</td>\n",
       "      <td>100.000000</td>\n",
       "      <td>100.000000</td>\n",
       "      <td>100.000000</td>\n",
       "      <td>100.000000</td>\n",
       "      <td>100.000000</td>\n",
       "    </tr>\n",
       "    <tr>\n",
       "      <th>alpha</th>\n",
       "      <td>870.0</td>\n",
       "      <td>0.100000</td>\n",
       "      <td>7.776031e-16</td>\n",
       "      <td>0.100000</td>\n",
       "      <td>0.100000</td>\n",
       "      <td>0.100000</td>\n",
       "      <td>0.100000</td>\n",
       "      <td>0.100000</td>\n",
       "    </tr>\n",
       "    <tr>\n",
       "      <th>exp_return</th>\n",
       "      <td>870.0</td>\n",
       "      <td>0.002405</td>\n",
       "      <td>1.131934e-03</td>\n",
       "      <td>0.001000</td>\n",
       "      <td>0.001500</td>\n",
       "      <td>0.002000</td>\n",
       "      <td>0.003000</td>\n",
       "      <td>0.005500</td>\n",
       "    </tr>\n",
       "    <tr>\n",
       "      <th>n_port</th>\n",
       "      <td>870.0</td>\n",
       "      <td>1.000000</td>\n",
       "      <td>0.000000e+00</td>\n",
       "      <td>1.000000</td>\n",
       "      <td>1.000000</td>\n",
       "      <td>1.000000</td>\n",
       "      <td>1.000000</td>\n",
       "      <td>1.000000</td>\n",
       "    </tr>\n",
       "    <tr>\n",
       "      <th>k_min</th>\n",
       "      <td>870.0</td>\n",
       "      <td>2.000000</td>\n",
       "      <td>0.000000e+00</td>\n",
       "      <td>2.000000</td>\n",
       "      <td>2.000000</td>\n",
       "      <td>2.000000</td>\n",
       "      <td>2.000000</td>\n",
       "      <td>2.000000</td>\n",
       "    </tr>\n",
       "    <tr>\n",
       "      <th>k_max</th>\n",
       "      <td>870.0</td>\n",
       "      <td>15.000000</td>\n",
       "      <td>0.000000e+00</td>\n",
       "      <td>15.000000</td>\n",
       "      <td>15.000000</td>\n",
       "      <td>15.000000</td>\n",
       "      <td>15.000000</td>\n",
       "      <td>15.000000</td>\n",
       "    </tr>\n",
       "    <tr>\n",
       "      <th>seed</th>\n",
       "      <td>870.0</td>\n",
       "      <td>5.000000</td>\n",
       "      <td>3.120149e+00</td>\n",
       "      <td>0.000000</td>\n",
       "      <td>2.000000</td>\n",
       "      <td>6.000000</td>\n",
       "      <td>8.000000</td>\n",
       "      <td>9.000000</td>\n",
       "    </tr>\n",
       "    <tr>\n",
       "      <th>k</th>\n",
       "      <td>870.0</td>\n",
       "      <td>143.395402</td>\n",
       "      <td>1.081852e+02</td>\n",
       "      <td>51.000000</td>\n",
       "      <td>72.000000</td>\n",
       "      <td>98.000000</td>\n",
       "      <td>172.750000</td>\n",
       "      <td>649.000000</td>\n",
       "    </tr>\n",
       "  </tbody>\n",
       "</table>\n",
       "</div>"
      ],
      "text/plain": [
       "            count         mean           std          min          25%  \\\n",
       "iter        870.0   142.395402  1.081852e+02    50.000000    71.000000   \n",
       "obj         870.0     0.023886  4.373075e-02     0.000293     0.001655   \n",
       "return      870.0     0.004449  2.628661e-03     0.001000     0.002364   \n",
       "n_assets    870.0     4.782759  3.312969e+00     2.000000     2.000000   \n",
       "qX          870.0     4.782759  3.312969e+00     2.000000     2.000000   \n",
       "qN          870.0   100.000000  0.000000e+00   100.000000   100.000000   \n",
       "qNv         870.0    62.194253  2.515229e+01     0.000000    49.000000   \n",
       "iter_time   870.0     0.048178  2.874976e-02     0.018516     0.033390   \n",
       "max_iter    870.0  1000.000000  0.000000e+00  1000.000000  1000.000000   \n",
       "neighbours  870.0   100.000000  0.000000e+00   100.000000   100.000000   \n",
       "alpha       870.0     0.100000  7.776031e-16     0.100000     0.100000   \n",
       "exp_return  870.0     0.002405  1.131934e-03     0.001000     0.001500   \n",
       "n_port      870.0     1.000000  0.000000e+00     1.000000     1.000000   \n",
       "k_min       870.0     2.000000  0.000000e+00     2.000000     2.000000   \n",
       "k_max       870.0    15.000000  0.000000e+00    15.000000    15.000000   \n",
       "seed        870.0     5.000000  3.120149e+00     0.000000     2.000000   \n",
       "k           870.0   143.395402  1.081852e+02    51.000000    72.000000   \n",
       "\n",
       "                    50%          75%          max  \n",
       "iter          97.000000   171.750000   648.000000  \n",
       "obj            0.003065     0.026492     0.218159  \n",
       "return         0.004627     0.005262     0.010780  \n",
       "n_assets       2.000000     7.000000    15.000000  \n",
       "qX             2.000000     7.000000    15.000000  \n",
       "qN           100.000000   100.000000   100.000000  \n",
       "qNv           61.000000    79.000000   100.000000  \n",
       "iter_time      0.034518     0.036464     0.204237  \n",
       "max_iter    1000.000000  1000.000000  1000.000000  \n",
       "neighbours   100.000000   100.000000   100.000000  \n",
       "alpha          0.100000     0.100000     0.100000  \n",
       "exp_return     0.002000     0.003000     0.005500  \n",
       "n_port         1.000000     1.000000     1.000000  \n",
       "k_min          2.000000     2.000000     2.000000  \n",
       "k_max         15.000000    15.000000    15.000000  \n",
       "seed           6.000000     8.000000     9.000000  \n",
       "k             98.000000   172.750000   649.000000  "
      ]
     },
     "execution_count": 20,
     "metadata": {},
     "output_type": "execute_result"
    }
   ],
   "source": [
    "best_data.describe().T"
   ]
  },
  {
   "cell_type": "code",
   "execution_count": null,
   "metadata": {},
   "outputs": [
    {
     "data": {
      "text/plain": [
       "<seaborn.axisgrid.JointGrid at 0x7efdb393a670>"
      ]
     },
     "execution_count": 21,
     "metadata": {},
     "output_type": "execute_result"
    },
    {
     "data": {
      "image/png": "[encoded data removed]",
      "text/plain": [
       "<Figure size 432x432 with 3 Axes>"
      ]
     },
     "metadata": {
      "needs_background": "light"
     },
     "output_type": "display_data"
    }
   ],
   "source": [
    "sns.jointplot(data=best_data, x='obj', y='return', hue='alpha', palette='bright')"
   ]
  },
  {
   "cell_type": "code",
   "execution_count": null,
   "metadata": {},
   "outputs": [
    {
     "data": {
      "image/png": "[encoded data removed]",
      "text/plain": [
       "<Figure size 1132x216 with 5 Axes>"
      ]
     },
     "metadata": {
      "needs_background": "light"
     },
     "output_type": "display_data"
    }
   ],
   "source": [
    "g = sns.FacetGrid(data=best_data, col='move_str', hue='alpha')\n",
    "g.map(sns.scatterplot, 'return', 'obj')\n",
    "g.add_legend()\n",
    "g=g"
   ]
  },
  {
   "cell_type": "code",
   "execution_count": null,
   "metadata": {},
   "outputs": [
    {
     "data": {
      "image/png": "[encoded data removed]",
      "text/plain": [
       "<Figure size 700x216 with 3 Axes>"
      ]
     },
     "metadata": {
      "needs_background": "light"
     },
     "output_type": "display_data"
    }
   ],
   "source": [
    "g = sns.FacetGrid(data=best_data, col='selec_str', hue='alpha')\n",
    "g.map(sns.scatterplot, 'return', 'obj')\n",
    "g.add_legend()\n",
    "g=g"
   ]
  },
  {
   "cell_type": "code",
   "execution_count": null,
   "metadata": {},
   "outputs": [],
   "source": [
    "g = sns.FacetGrid(data=best_data, row='k', col='k_max', hue='alpha')\n",
    "g.map(sns.scatterplot, 'return', 'obj')\n",
    "g.add_legend()\n",
    "g=g"
   ]
  },
  {
   "cell_type": "code",
   "execution_count": null,
   "metadata": {},
   "outputs": [
    {
     "data": {
      "text/plain": [
       "<matplotlib.collections.PathCollection at 0x7facb75c5be0>"
      ]
     },
     "execution_count": 51,
     "metadata": {},
     "output_type": "execute_result"
    },
    {
     "data": {
      "image/png": "[encoded data removed]",
      "text/plain": [
       "<Figure size 432x288 with 1 Axes>"
      ]
     },
     "metadata": {
      "needs_background": "light"
     },
     "output_type": "display_data"
    }
   ],
   "source": [
    "data = best_data[best_data['obj']<0.05]\n",
    "plt.plot(uef[uef.port==1].var_return, uef[uef.port==1].mean_return)\n",
    "plt.scatter(data.obj, data['return'])"
   ]
  },
  {
   "cell_type": "code",
   "execution_count": null,
   "metadata": {},
   "outputs": [
    {
     "data": {
      "text/plain": [
       "<matplotlib.collections.PathCollection at 0x7facb9b6cd00>"
      ]
     },
     "execution_count": 52,
     "metadata": {},
     "output_type": "execute_result"
    },
    {
     "data": {
      "image/png": "[encoded data removed]",
      "text/plain": [
       "<Figure size 432x288 with 1 Axes>"
      ]
     },
     "metadata": {
      "needs_background": "light"
     },
     "output_type": "display_data"
    }
   ],
   "source": [
    "data = best_data[best_data['obj']<0.005]\n",
    "plt.plot(uef[uef.port==1].var_return, uef[uef.port==1].mean_return)\n",
    "plt.scatter(data.obj, data['return'])"
   ]
  },
  {
   "cell_type": "code",
   "execution_count": null,
   "metadata": {},
   "outputs": [
    {
     "data": {
      "text/html": [
       "<div>\n",
       "<style scoped>\n",
       "    .dataframe tbody tr th:only-of-type {\n",
       "        vertical-align: middle;\n",
       "    }\n",
       "\n",
       "    .dataframe tbody tr th {\n",
       "        vertical-align: top;\n",
       "    }\n",
       "\n",
       "    .dataframe thead th {\n",
       "        text-align: right;\n",
       "    }\n",
       "</style>\n",
       "<table border=\"1\" class=\"dataframe\">\n",
       "  <thead>\n",
       "    <tr style=\"text-align: right;\">\n",
       "      <th></th>\n",
       "      <th>exp_return</th>\n",
       "      <th>0.0010</th>\n",
       "      <th>0.0015</th>\n",
       "      <th>0.0020</th>\n",
       "      <th>0.0025</th>\n",
       "      <th>0.0030</th>\n",
       "      <th>0.0035</th>\n",
       "      <th>0.0040</th>\n",
       "      <th>0.0045</th>\n",
       "      <th>0.0050</th>\n",
       "      <th>0.0055</th>\n",
       "    </tr>\n",
       "    <tr>\n",
       "      <th>move_str</th>\n",
       "      <th>selec_str</th>\n",
       "      <th></th>\n",
       "      <th></th>\n",
       "      <th></th>\n",
       "      <th></th>\n",
       "      <th></th>\n",
       "      <th></th>\n",
       "      <th></th>\n",
       "      <th></th>\n",
       "      <th></th>\n",
       "      <th></th>\n",
       "    </tr>\n",
       "  </thead>\n",
       "  <tbody>\n",
       "    <tr>\n",
       "      <th rowspan=\"3\" valign=\"top\">TID</th>\n",
       "      <th>best</th>\n",
       "      <td>8.0</td>\n",
       "      <td>10.0</td>\n",
       "      <td>9.0</td>\n",
       "      <td>7.0</td>\n",
       "      <td>6.0</td>\n",
       "      <td>5.0</td>\n",
       "      <td>4.0</td>\n",
       "      <td>1.0</td>\n",
       "      <td>1.0</td>\n",
       "      <td>1.0</td>\n",
       "    </tr>\n",
       "    <tr>\n",
       "      <th>first</th>\n",
       "      <td>9.0</td>\n",
       "      <td>9.0</td>\n",
       "      <td>8.0</td>\n",
       "      <td>6.0</td>\n",
       "      <td>6.0</td>\n",
       "      <td>5.0</td>\n",
       "      <td>4.0</td>\n",
       "      <td>2.0</td>\n",
       "      <td>1.0</td>\n",
       "      <td>1.0</td>\n",
       "    </tr>\n",
       "    <tr>\n",
       "      <th>random</th>\n",
       "      <td>5.0</td>\n",
       "      <td>9.0</td>\n",
       "      <td>10.0</td>\n",
       "      <td>7.0</td>\n",
       "      <td>6.0</td>\n",
       "      <td>3.0</td>\n",
       "      <td>3.0</td>\n",
       "      <td>2.0</td>\n",
       "      <td>1.0</td>\n",
       "      <td>1.0</td>\n",
       "    </tr>\n",
       "    <tr>\n",
       "      <th rowspan=\"3\" valign=\"top\">best</th>\n",
       "      <th>best</th>\n",
       "      <td>8.0</td>\n",
       "      <td>10.0</td>\n",
       "      <td>7.0</td>\n",
       "      <td>6.0</td>\n",
       "      <td>5.0</td>\n",
       "      <td>6.0</td>\n",
       "      <td>4.0</td>\n",
       "      <td>1.0</td>\n",
       "      <td>NaN</td>\n",
       "      <td>1.0</td>\n",
       "    </tr>\n",
       "    <tr>\n",
       "      <th>first</th>\n",
       "      <td>10.0</td>\n",
       "      <td>9.0</td>\n",
       "      <td>8.0</td>\n",
       "      <td>6.0</td>\n",
       "      <td>3.0</td>\n",
       "      <td>6.0</td>\n",
       "      <td>3.0</td>\n",
       "      <td>2.0</td>\n",
       "      <td>NaN</td>\n",
       "      <td>1.0</td>\n",
       "    </tr>\n",
       "    <tr>\n",
       "      <th>random</th>\n",
       "      <td>7.0</td>\n",
       "      <td>9.0</td>\n",
       "      <td>9.0</td>\n",
       "      <td>6.0</td>\n",
       "      <td>6.0</td>\n",
       "      <td>4.0</td>\n",
       "      <td>3.0</td>\n",
       "      <td>2.0</td>\n",
       "      <td>1.0</td>\n",
       "      <td>1.0</td>\n",
       "    </tr>\n",
       "    <tr>\n",
       "      <th rowspan=\"3\" valign=\"top\">iDR</th>\n",
       "      <th>best</th>\n",
       "      <td>9.0</td>\n",
       "      <td>9.0</td>\n",
       "      <td>9.0</td>\n",
       "      <td>8.0</td>\n",
       "      <td>6.0</td>\n",
       "      <td>6.0</td>\n",
       "      <td>4.0</td>\n",
       "      <td>2.0</td>\n",
       "      <td>1.0</td>\n",
       "      <td>1.0</td>\n",
       "    </tr>\n",
       "    <tr>\n",
       "      <th>first</th>\n",
       "      <td>8.0</td>\n",
       "      <td>8.0</td>\n",
       "      <td>10.0</td>\n",
       "      <td>8.0</td>\n",
       "      <td>5.0</td>\n",
       "      <td>5.0</td>\n",
       "      <td>3.0</td>\n",
       "      <td>2.0</td>\n",
       "      <td>1.0</td>\n",
       "      <td>1.0</td>\n",
       "    </tr>\n",
       "    <tr>\n",
       "      <th>random</th>\n",
       "      <td>7.0</td>\n",
       "      <td>10.0</td>\n",
       "      <td>8.0</td>\n",
       "      <td>6.0</td>\n",
       "      <td>6.0</td>\n",
       "      <td>6.0</td>\n",
       "      <td>3.0</td>\n",
       "      <td>1.0</td>\n",
       "      <td>1.0</td>\n",
       "      <td>1.0</td>\n",
       "    </tr>\n",
       "    <tr>\n",
       "      <th rowspan=\"3\" valign=\"top\">idID</th>\n",
       "      <th>best</th>\n",
       "      <td>7.0</td>\n",
       "      <td>7.0</td>\n",
       "      <td>8.0</td>\n",
       "      <td>8.0</td>\n",
       "      <td>5.0</td>\n",
       "      <td>5.0</td>\n",
       "      <td>4.0</td>\n",
       "      <td>NaN</td>\n",
       "      <td>NaN</td>\n",
       "      <td>1.0</td>\n",
       "    </tr>\n",
       "    <tr>\n",
       "      <th>first</th>\n",
       "      <td>9.0</td>\n",
       "      <td>6.0</td>\n",
       "      <td>9.0</td>\n",
       "      <td>7.0</td>\n",
       "      <td>3.0</td>\n",
       "      <td>6.0</td>\n",
       "      <td>4.0</td>\n",
       "      <td>2.0</td>\n",
       "      <td>1.0</td>\n",
       "      <td>1.0</td>\n",
       "    </tr>\n",
       "    <tr>\n",
       "      <th>random</th>\n",
       "      <td>9.0</td>\n",
       "      <td>6.0</td>\n",
       "      <td>9.0</td>\n",
       "      <td>7.0</td>\n",
       "      <td>5.0</td>\n",
       "      <td>6.0</td>\n",
       "      <td>4.0</td>\n",
       "      <td>2.0</td>\n",
       "      <td>NaN</td>\n",
       "      <td>1.0</td>\n",
       "    </tr>\n",
       "    <tr>\n",
       "      <th rowspan=\"3\" valign=\"top\">random</th>\n",
       "      <th>best</th>\n",
       "      <td>9.0</td>\n",
       "      <td>10.0</td>\n",
       "      <td>8.0</td>\n",
       "      <td>5.0</td>\n",
       "      <td>5.0</td>\n",
       "      <td>4.0</td>\n",
       "      <td>3.0</td>\n",
       "      <td>1.0</td>\n",
       "      <td>1.0</td>\n",
       "      <td>1.0</td>\n",
       "    </tr>\n",
       "    <tr>\n",
       "      <th>first</th>\n",
       "      <td>10.0</td>\n",
       "      <td>7.0</td>\n",
       "      <td>9.0</td>\n",
       "      <td>7.0</td>\n",
       "      <td>5.0</td>\n",
       "      <td>6.0</td>\n",
       "      <td>3.0</td>\n",
       "      <td>1.0</td>\n",
       "      <td>1.0</td>\n",
       "      <td>1.0</td>\n",
       "    </tr>\n",
       "    <tr>\n",
       "      <th>random</th>\n",
       "      <td>9.0</td>\n",
       "      <td>8.0</td>\n",
       "      <td>10.0</td>\n",
       "      <td>7.0</td>\n",
       "      <td>6.0</td>\n",
       "      <td>4.0</td>\n",
       "      <td>4.0</td>\n",
       "      <td>1.0</td>\n",
       "      <td>1.0</td>\n",
       "      <td>1.0</td>\n",
       "    </tr>\n",
       "  </tbody>\n",
       "</table>\n",
       "</div>"
      ],
      "text/plain": [
       "exp_return          0.0010  0.0015  0.0020  0.0025  0.0030  0.0035  0.0040  \\\n",
       "move_str selec_str                                                           \n",
       "TID      best          8.0    10.0     9.0     7.0     6.0     5.0     4.0   \n",
       "         first         9.0     9.0     8.0     6.0     6.0     5.0     4.0   \n",
       "         random        5.0     9.0    10.0     7.0     6.0     3.0     3.0   \n",
       "best     best          8.0    10.0     7.0     6.0     5.0     6.0     4.0   \n",
       "         first        10.0     9.0     8.0     6.0     3.0     6.0     3.0   \n",
       "         random        7.0     9.0     9.0     6.0     6.0     4.0     3.0   \n",
       "iDR      best          9.0     9.0     9.0     8.0     6.0     6.0     4.0   \n",
       "         first         8.0     8.0    10.0     8.0     5.0     5.0     3.0   \n",
       "         random        7.0    10.0     8.0     6.0     6.0     6.0     3.0   \n",
       "idID     best          7.0     7.0     8.0     8.0     5.0     5.0     4.0   \n",
       "         first         9.0     6.0     9.0     7.0     3.0     6.0     4.0   \n",
       "         random        9.0     6.0     9.0     7.0     5.0     6.0     4.0   \n",
       "random   best          9.0    10.0     8.0     5.0     5.0     4.0     3.0   \n",
       "         first        10.0     7.0     9.0     7.0     5.0     6.0     3.0   \n",
       "         random        9.0     8.0    10.0     7.0     6.0     4.0     4.0   \n",
       "\n",
       "exp_return          0.0045  0.0050  0.0055  \n",
       "move_str selec_str                          \n",
       "TID      best          1.0     1.0     1.0  \n",
       "         first         2.0     1.0     1.0  \n",
       "         random        2.0     1.0     1.0  \n",
       "best     best          1.0     NaN     1.0  \n",
       "         first         2.0     NaN     1.0  \n",
       "         random        2.0     1.0     1.0  \n",
       "iDR      best          2.0     1.0     1.0  \n",
       "         first         2.0     1.0     1.0  \n",
       "         random        1.0     1.0     1.0  \n",
       "idID     best          NaN     NaN     1.0  \n",
       "         first         2.0     1.0     1.0  \n",
       "         random        2.0     NaN     1.0  \n",
       "random   best          1.0     1.0     1.0  \n",
       "         first         1.0     1.0     1.0  \n",
       "         random        1.0     1.0     1.0  "
      ]
     },
     "execution_count": 53,
     "metadata": {},
     "output_type": "execute_result"
    }
   ],
   "source": [
    "best_data.groupby(['exp_return', 'move_str', 'selec_str'], as_index=False)['obj']\\\n",
    "    .count()\\\n",
    "    .pivot(index=['move_str', 'selec_str'], columns='exp_return', values='obj')"
   ]
  },
  {
   "cell_type": "code",
   "execution_count": null,
   "metadata": {},
   "outputs": [
    {
     "data": {
      "text/html": [
       "<div>\n",
       "<style scoped>\n",
       "    .dataframe tbody tr th:only-of-type {\n",
       "        vertical-align: middle;\n",
       "    }\n",
       "\n",
       "    .dataframe tbody tr th {\n",
       "        vertical-align: top;\n",
       "    }\n",
       "\n",
       "    .dataframe thead th {\n",
       "        text-align: right;\n",
       "    }\n",
       "</style>\n",
       "<table border=\"1\" class=\"dataframe\">\n",
       "  <thead>\n",
       "    <tr style=\"text-align: right;\">\n",
       "      <th></th>\n",
       "      <th>exp_return</th>\n",
       "      <th>0.0010</th>\n",
       "      <th>0.0015</th>\n",
       "      <th>0.0020</th>\n",
       "      <th>0.0025</th>\n",
       "      <th>0.0030</th>\n",
       "      <th>0.0035</th>\n",
       "      <th>0.0040</th>\n",
       "      <th>0.0045</th>\n",
       "      <th>0.0050</th>\n",
       "      <th>0.0055</th>\n",
       "    </tr>\n",
       "    <tr>\n",
       "      <th>move_str</th>\n",
       "      <th>selec_str</th>\n",
       "      <th></th>\n",
       "      <th></th>\n",
       "      <th></th>\n",
       "      <th></th>\n",
       "      <th></th>\n",
       "      <th></th>\n",
       "      <th></th>\n",
       "      <th></th>\n",
       "      <th></th>\n",
       "      <th></th>\n",
       "    </tr>\n",
       "  </thead>\n",
       "  <tbody>\n",
       "    <tr>\n",
       "      <th rowspan=\"3\" valign=\"top\">TID</th>\n",
       "      <th>best</th>\n",
       "      <td>0.011926</td>\n",
       "      <td>0.011926</td>\n",
       "      <td>0.011926</td>\n",
       "      <td>0.014102</td>\n",
       "      <td>0.012282</td>\n",
       "      <td>0.017512</td>\n",
       "      <td>0.017512</td>\n",
       "      <td>0.017512</td>\n",
       "      <td>0.024186</td>\n",
       "      <td>0.035640</td>\n",
       "    </tr>\n",
       "    <tr>\n",
       "      <th>first</th>\n",
       "      <td>0.011926</td>\n",
       "      <td>0.011926</td>\n",
       "      <td>0.014102</td>\n",
       "      <td>0.012009</td>\n",
       "      <td>0.012282</td>\n",
       "      <td>0.012282</td>\n",
       "      <td>0.017512</td>\n",
       "      <td>0.017512</td>\n",
       "      <td>0.024186</td>\n",
       "      <td>0.035640</td>\n",
       "    </tr>\n",
       "    <tr>\n",
       "      <th>random</th>\n",
       "      <td>0.018777</td>\n",
       "      <td>0.014382</td>\n",
       "      <td>0.014382</td>\n",
       "      <td>0.014382</td>\n",
       "      <td>0.017765</td>\n",
       "      <td>0.017765</td>\n",
       "      <td>0.031698</td>\n",
       "      <td>0.031661</td>\n",
       "      <td>0.037484</td>\n",
       "      <td>0.048419</td>\n",
       "    </tr>\n",
       "    <tr>\n",
       "      <th rowspan=\"3\" valign=\"top\">best</th>\n",
       "      <th>best</th>\n",
       "      <td>0.000293</td>\n",
       "      <td>0.000386</td>\n",
       "      <td>0.000532</td>\n",
       "      <td>0.001497</td>\n",
       "      <td>0.001381</td>\n",
       "      <td>0.001381</td>\n",
       "      <td>0.001497</td>\n",
       "      <td>0.001453</td>\n",
       "      <td>NaN</td>\n",
       "      <td>0.001654</td>\n",
       "    </tr>\n",
       "    <tr>\n",
       "      <th>first</th>\n",
       "      <td>0.000293</td>\n",
       "      <td>0.000386</td>\n",
       "      <td>0.000532</td>\n",
       "      <td>0.001381</td>\n",
       "      <td>0.001381</td>\n",
       "      <td>0.001381</td>\n",
       "      <td>0.001497</td>\n",
       "      <td>0.001453</td>\n",
       "      <td>NaN</td>\n",
       "      <td>0.001654</td>\n",
       "    </tr>\n",
       "    <tr>\n",
       "      <th>random</th>\n",
       "      <td>0.001380</td>\n",
       "      <td>0.000916</td>\n",
       "      <td>0.001380</td>\n",
       "      <td>0.001655</td>\n",
       "      <td>0.001380</td>\n",
       "      <td>0.001654</td>\n",
       "      <td>0.002623</td>\n",
       "      <td>0.001655</td>\n",
       "      <td>0.001655</td>\n",
       "      <td>0.001655</td>\n",
       "    </tr>\n",
       "    <tr>\n",
       "      <th rowspan=\"3\" valign=\"top\">iDR</th>\n",
       "      <th>best</th>\n",
       "      <td>0.018727</td>\n",
       "      <td>0.014820</td>\n",
       "      <td>0.014820</td>\n",
       "      <td>0.022273</td>\n",
       "      <td>0.017292</td>\n",
       "      <td>0.017292</td>\n",
       "      <td>0.025090</td>\n",
       "      <td>0.025090</td>\n",
       "      <td>0.025090</td>\n",
       "      <td>0.025090</td>\n",
       "    </tr>\n",
       "    <tr>\n",
       "      <th>first</th>\n",
       "      <td>0.014820</td>\n",
       "      <td>0.018727</td>\n",
       "      <td>0.014820</td>\n",
       "      <td>0.022273</td>\n",
       "      <td>0.017292</td>\n",
       "      <td>0.017292</td>\n",
       "      <td>0.031181</td>\n",
       "      <td>0.025090</td>\n",
       "      <td>0.025090</td>\n",
       "      <td>0.025090</td>\n",
       "    </tr>\n",
       "    <tr>\n",
       "      <th>random</th>\n",
       "      <td>0.030185</td>\n",
       "      <td>0.015232</td>\n",
       "      <td>0.015232</td>\n",
       "      <td>0.031382</td>\n",
       "      <td>0.017822</td>\n",
       "      <td>0.017822</td>\n",
       "      <td>0.031382</td>\n",
       "      <td>0.059385</td>\n",
       "      <td>0.059385</td>\n",
       "      <td>0.059385</td>\n",
       "    </tr>\n",
       "    <tr>\n",
       "      <th rowspan=\"3\" valign=\"top\">idID</th>\n",
       "      <th>best</th>\n",
       "      <td>0.001384</td>\n",
       "      <td>0.001384</td>\n",
       "      <td>0.001384</td>\n",
       "      <td>0.001386</td>\n",
       "      <td>0.001381</td>\n",
       "      <td>0.001381</td>\n",
       "      <td>0.001404</td>\n",
       "      <td>NaN</td>\n",
       "      <td>NaN</td>\n",
       "      <td>0.001670</td>\n",
       "    </tr>\n",
       "    <tr>\n",
       "      <th>first</th>\n",
       "      <td>0.001384</td>\n",
       "      <td>0.001384</td>\n",
       "      <td>0.001384</td>\n",
       "      <td>0.001386</td>\n",
       "      <td>0.001404</td>\n",
       "      <td>0.001381</td>\n",
       "      <td>0.001404</td>\n",
       "      <td>0.001404</td>\n",
       "      <td>0.005903</td>\n",
       "      <td>0.001670</td>\n",
       "    </tr>\n",
       "    <tr>\n",
       "      <th>random</th>\n",
       "      <td>0.001381</td>\n",
       "      <td>0.001381</td>\n",
       "      <td>0.001381</td>\n",
       "      <td>0.001381</td>\n",
       "      <td>0.001381</td>\n",
       "      <td>0.001381</td>\n",
       "      <td>0.001713</td>\n",
       "      <td>0.001657</td>\n",
       "      <td>NaN</td>\n",
       "      <td>0.001655</td>\n",
       "    </tr>\n",
       "    <tr>\n",
       "      <th rowspan=\"3\" valign=\"top\">random</th>\n",
       "      <th>best</th>\n",
       "      <td>0.001391</td>\n",
       "      <td>0.001391</td>\n",
       "      <td>0.001391</td>\n",
       "      <td>0.001391</td>\n",
       "      <td>0.001391</td>\n",
       "      <td>0.001391</td>\n",
       "      <td>0.001391</td>\n",
       "      <td>0.001391</td>\n",
       "      <td>0.005941</td>\n",
       "      <td>0.001655</td>\n",
       "    </tr>\n",
       "    <tr>\n",
       "      <th>first</th>\n",
       "      <td>0.001391</td>\n",
       "      <td>0.001391</td>\n",
       "      <td>0.001423</td>\n",
       "      <td>0.001391</td>\n",
       "      <td>0.001411</td>\n",
       "      <td>0.001391</td>\n",
       "      <td>0.001391</td>\n",
       "      <td>0.001391</td>\n",
       "      <td>0.005941</td>\n",
       "      <td>0.001655</td>\n",
       "    </tr>\n",
       "    <tr>\n",
       "      <th>random</th>\n",
       "      <td>0.001382</td>\n",
       "      <td>0.001381</td>\n",
       "      <td>0.001382</td>\n",
       "      <td>0.001382</td>\n",
       "      <td>0.001381</td>\n",
       "      <td>0.001381</td>\n",
       "      <td>0.001655</td>\n",
       "      <td>0.001690</td>\n",
       "      <td>0.001655</td>\n",
       "      <td>0.001655</td>\n",
       "    </tr>\n",
       "  </tbody>\n",
       "</table>\n",
       "</div>"
      ],
      "text/plain": [
       "exp_return            0.0010    0.0015    0.0020    0.0025    0.0030  \\\n",
       "move_str selec_str                                                     \n",
       "TID      best       0.011926  0.011926  0.011926  0.014102  0.012282   \n",
       "         first      0.011926  0.011926  0.014102  0.012009  0.012282   \n",
       "         random     0.018777  0.014382  0.014382  0.014382  0.017765   \n",
       "best     best       0.000293  0.000386  0.000532  0.001497  0.001381   \n",
       "         first      0.000293  0.000386  0.000532  0.001381  0.001381   \n",
       "         random     0.001380  0.000916  0.001380  0.001655  0.001380   \n",
       "iDR      best       0.018727  0.014820  0.014820  0.022273  0.017292   \n",
       "         first      0.014820  0.018727  0.014820  0.022273  0.017292   \n",
       "         random     0.030185  0.015232  0.015232  0.031382  0.017822   \n",
       "idID     best       0.001384  0.001384  0.001384  0.001386  0.001381   \n",
       "         first      0.001384  0.001384  0.001384  0.001386  0.001404   \n",
       "         random     0.001381  0.001381  0.001381  0.001381  0.001381   \n",
       "random   best       0.001391  0.001391  0.001391  0.001391  0.001391   \n",
       "         first      0.001391  0.001391  0.001423  0.001391  0.001411   \n",
       "         random     0.001382  0.001381  0.001382  0.001382  0.001381   \n",
       "\n",
       "exp_return            0.0035    0.0040    0.0045    0.0050    0.0055  \n",
       "move_str selec_str                                                    \n",
       "TID      best       0.017512  0.017512  0.017512  0.024186  0.035640  \n",
       "         first      0.012282  0.017512  0.017512  0.024186  0.035640  \n",
       "         random     0.017765  0.031698  0.031661  0.037484  0.048419  \n",
       "best     best       0.001381  0.001497  0.001453       NaN  0.001654  \n",
       "         first      0.001381  0.001497  0.001453       NaN  0.001654  \n",
       "         random     0.001654  0.002623  0.001655  0.001655  0.001655  \n",
       "iDR      best       0.017292  0.025090  0.025090  0.025090  0.025090  \n",
       "         first      0.017292  0.031181  0.025090  0.025090  0.025090  \n",
       "         random     0.017822  0.031382  0.059385  0.059385  0.059385  \n",
       "idID     best       0.001381  0.001404       NaN       NaN  0.001670  \n",
       "         first      0.001381  0.001404  0.001404  0.005903  0.001670  \n",
       "         random     0.001381  0.001713  0.001657       NaN  0.001655  \n",
       "random   best       0.001391  0.001391  0.001391  0.005941  0.001655  \n",
       "         first      0.001391  0.001391  0.001391  0.005941  0.001655  \n",
       "         random     0.001381  0.001655  0.001690  0.001655  0.001655  "
      ]
     },
     "execution_count": 54,
     "metadata": {},
     "output_type": "execute_result"
    }
   ],
   "source": [
    "best_data.groupby(['exp_return', 'move_str', 'selec_str'], as_index=False)['obj']\\\n",
    "    .min()\\\n",
    "    .pivot(index=['move_str', 'selec_str'], columns='exp_return', values='obj')"
   ]
  },
  {
   "cell_type": "code",
   "execution_count": null,
   "id": "empty-fisher",
   "metadata": {},
   "outputs": [
    {
     "name": "stdout",
     "output_type": "stream",
     "text": [
      "(10, 2)\n"
     ]
    },
    {
     "data": {
      "text/html": [
       "<div>\n",
       "<style scoped>\n",
       "    .dataframe tbody tr th:only-of-type {\n",
       "        vertical-align: middle;\n",
       "    }\n",
       "\n",
       "    .dataframe tbody tr th {\n",
       "        vertical-align: top;\n",
       "    }\n",
       "\n",
       "    .dataframe thead th {\n",
       "        text-align: right;\n",
       "    }\n",
       "</style>\n",
       "<table border=\"1\" class=\"dataframe\">\n",
       "  <thead>\n",
       "    <tr style=\"text-align: right;\">\n",
       "      <th></th>\n",
       "      <th>exp_return</th>\n",
       "      <th>obj</th>\n",
       "    </tr>\n",
       "  </thead>\n",
       "  <tbody>\n",
       "    <tr>\n",
       "      <th>0</th>\n",
       "      <td>0.0010</td>\n",
       "      <td>0.000293</td>\n",
       "    </tr>\n",
       "    <tr>\n",
       "      <th>1</th>\n",
       "      <td>0.0015</td>\n",
       "      <td>0.000386</td>\n",
       "    </tr>\n",
       "    <tr>\n",
       "      <th>2</th>\n",
       "      <td>0.0020</td>\n",
       "      <td>0.000532</td>\n",
       "    </tr>\n",
       "    <tr>\n",
       "      <th>3</th>\n",
       "      <td>0.0025</td>\n",
       "      <td>0.001381</td>\n",
       "    </tr>\n",
       "    <tr>\n",
       "      <th>4</th>\n",
       "      <td>0.0030</td>\n",
       "      <td>0.001380</td>\n",
       "    </tr>\n",
       "  </tbody>\n",
       "</table>\n",
       "</div>"
      ],
      "text/plain": [
       "   exp_return       obj\n",
       "0      0.0010  0.000293\n",
       "1      0.0015  0.000386\n",
       "2      0.0020  0.000532\n",
       "3      0.0025  0.001381\n",
       "4      0.0030  0.001380"
      ]
     },
     "execution_count": 55,
     "metadata": {},
     "output_type": "execute_result"
    }
   ],
   "source": [
    "best_best_data = best_data.groupby(['exp_return'], as_index=False)['obj'].min()\n",
    "print(best_best_data.shape)\n",
    "best_best_data.head()"
   ]
  },
  {
   "cell_type": "code",
   "execution_count": null,
   "metadata": {},
   "outputs": [
    {
     "data": {
      "text/plain": [
       "[<matplotlib.lines.Line2D at 0x7facb6b62580>]"
      ]
     },
     "execution_count": 56,
     "metadata": {},
     "output_type": "execute_result"
    },
    {
     "data": {
      "image/png": "[encoded data removed]",
      "text/plain": [
       "<Figure size 432x288 with 1 Axes>"
      ]
     },
     "metadata": {
      "needs_background": "light"
     },
     "output_type": "display_data"
    }
   ],
   "source": [
    "plt.plot(uef[uef.port==1].mean_return, uef[uef.port==1].var_return)\n",
    "plt.plot(best_best_data.exp_return, best_best_data.obj)"
   ]
  }
 ],
 "metadata": {
  "interpreter": {
   "hash": "e4baa8c89403c6ab0ae575fc36381ceed7a6fbb3e7d658adf40e6917914f7d6f"
  },
  "kernelspec": {
   "display_name": "Python 3.9.0 64-bit ('meta': conda)",
   "name": "python3"
  },
  "language_info": {
   "codemirror_mode": {
    "name": "ipython",
    "version": 3
   },
   "file_extension": ".py",
   "mimetype": "text/x-python",
   "name": "python",
   "nbconvert_exporter": "python",
   "pygments_lexer": "ipython3",
   "version": "3.9.0"
  }
 },
 "nbformat": 4,
 "nbformat_minor": 5
}
