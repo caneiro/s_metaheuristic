{
 "cells": [
  {
   "cell_type": "code",
   "execution_count": 55,
   "id": "26b6ccd3",
   "metadata": {
    "ExecuteTime": {
     "end_time": "2021-10-22T23:53:52.406016Z",
     "start_time": "2021-10-22T23:53:52.391116Z"
    }
   },
   "outputs": [],
   "source": [
    "import numpy as np\n",
    "import pandas as pd\n",
    "pd.set_option('mode.chained_assignment',None)\n",
    "import os\n",
    "import glob\n",
    "\n",
    "import matplotlib.pyplot as plt\n",
    "import seaborn as sns\n",
    "\n",
    "from pathlib import Path"
   ]
  },
  {
   "cell_type": "code",
   "execution_count": 42,
   "id": "52d2244e",
   "metadata": {
    "ExecuteTime": {
     "end_time": "2021-10-22T23:53:52.418928Z",
     "start_time": "2021-10-22T23:53:52.409389Z"
    }
   },
   "outputs": [
    {
     "name": "stdout",
     "output_type": "stream",
     "text": [
      "/Users/rco/OneDrive/ITA/Mestrado/2021_TE-282 - Meta heurísticas/Lab/data/raw\n"
     ]
    }
   ],
   "source": [
    "PATH = Path.cwd().parent\n",
    "RAW_PATH = Path(PATH, \"./data/raw/\") \n",
    "print(RAW_PATH)"
   ]
  },
  {
   "cell_type": "code",
   "execution_count": 43,
   "id": "98cd9e70",
   "metadata": {
    "ExecuteTime": {
     "end_time": "2021-10-22T23:53:52.436139Z",
     "start_time": "2021-10-22T23:53:52.422544Z"
    }
   },
   "outputs": [],
   "source": [
    "def read_port_files(n_port):\n",
    "    filepath = Path(RAW_PATH, 'port' + str(n_port) + '.txt')\n",
    "    with open(filepath) as fp:\n",
    "        # quantidade de ativos no portfolio\n",
    "        n_assets = int(fp.readline())\n",
    "        # armazena as estatisticas do ativo\n",
    "        r_mean = []\n",
    "        r_std = []\n",
    "        for n in range(n_assets):\n",
    "            line = fp.readline()\n",
    "            r_mean.append(float(line.strip().split()[0]))\n",
    "            r_std.append(float(line.strip().split()[1]))\n",
    "\n",
    "        # obtem o restante da matriz de covariancia\n",
    "        cnt = 32\n",
    "        i = []\n",
    "        j = []\n",
    "        cov = []\n",
    "        line = fp.readline()\n",
    "        while line:\n",
    "            i.append(int(line.strip().split(' ')[0]))\n",
    "            j.append(int(line.strip().split(' ')[1]))\n",
    "            cov.append(float(line.strip().split(' ')[2]))\n",
    "            line = fp.readline()\n",
    "    fp.close()\n",
    "    # retorna dataframe com estatisticas dos ativos do portfolio\n",
    "    df_stats = pd.DataFrame({'port':n_port,\n",
    "                             'i':[i_+1 for i_ in range(n_assets)],\n",
    "                             'r_mean':r_mean,\n",
    "                             'r_std':r_std})\n",
    "    print(df_stats.shape)\n",
    "\n",
    "    # retorna dataframe com matriz de covariancia dos ativos do portfolio\n",
    "    df_cov_mx = pd.DataFrame({'port':n_port,\n",
    "                             'i':i,\n",
    "                             'j':j,\n",
    "                             'cov':cov})\n",
    "    print(df_cov_mx.shape)\n",
    "    return df_stats, df_cov_mx"
   ]
  },
  {
   "cell_type": "code",
   "execution_count": 44,
   "id": "1543bf8a",
   "metadata": {
    "ExecuteTime": {
     "end_time": "2021-10-22T23:53:52.568800Z",
     "start_time": "2021-10-22T23:53:52.439512Z"
    }
   },
   "outputs": [
    {
     "name": "stdout",
     "output_type": "stream",
     "text": [
      "(31, 4)\n",
      "(496, 4)\n",
      "(85, 4)\n",
      "(3655, 4)\n",
      "(89, 4)\n",
      "(4005, 4)\n",
      "(98, 4)\n",
      "(4851, 4)\n",
      "(225, 4)\n",
      "(25425, 4)\n"
     ]
    }
   ],
   "source": [
    "df_stats_list = []\n",
    "df_cov_mx_list =[]\n",
    "for p in range(1,6,1):\n",
    "    df_stats, df_cov_mx = read_port_files(p)\n",
    "    df_stats_list.append(df_stats)\n",
    "    df_cov_mx_list.append(df_cov_mx)\n",
    "    \n",
    "df_stats = pd.concat(df_stats_list)\n",
    "df_cov_mx = pd.concat(df_cov_mx_list)"
   ]
  },
  {
   "cell_type": "markdown",
   "metadata": {},
   "source": [
    "## Portfolio 1 - Hang Seng"
   ]
  },
  {
   "cell_type": "markdown",
   "metadata": {},
   "source": [
    "### Return"
   ]
  },
  {
   "cell_type": "code",
   "execution_count": 45,
   "id": "bc121fca",
   "metadata": {
    "ExecuteTime": {
     "end_time": "2021-10-22T23:53:52.610893Z",
     "start_time": "2021-10-22T23:53:52.571404Z"
    }
   },
   "outputs": [
    {
     "data": {
      "text/html": [
       "<div>\n",
       "<style scoped>\n",
       "    .dataframe tbody tr th:only-of-type {\n",
       "        vertical-align: middle;\n",
       "    }\n",
       "\n",
       "    .dataframe tbody tr th {\n",
       "        vertical-align: top;\n",
       "    }\n",
       "\n",
       "    .dataframe thead th {\n",
       "        text-align: right;\n",
       "    }\n",
       "</style>\n",
       "<table border=\"1\" class=\"dataframe\">\n",
       "  <thead>\n",
       "    <tr style=\"text-align: right;\">\n",
       "      <th></th>\n",
       "      <th>count</th>\n",
       "      <th>mean</th>\n",
       "      <th>std</th>\n",
       "      <th>min</th>\n",
       "      <th>25%</th>\n",
       "      <th>50%</th>\n",
       "      <th>75%</th>\n",
       "      <th>max</th>\n",
       "    </tr>\n",
       "  </thead>\n",
       "  <tbody>\n",
       "    <tr>\n",
       "      <th>port</th>\n",
       "      <td>31.0</td>\n",
       "      <td>1.000000</td>\n",
       "      <td>0.000000</td>\n",
       "      <td>1.000000</td>\n",
       "      <td>1.000000</td>\n",
       "      <td>1.000000</td>\n",
       "      <td>1.000000</td>\n",
       "      <td>1.000000</td>\n",
       "    </tr>\n",
       "    <tr>\n",
       "      <th>i</th>\n",
       "      <td>31.0</td>\n",
       "      <td>16.000000</td>\n",
       "      <td>9.092121</td>\n",
       "      <td>1.000000</td>\n",
       "      <td>8.500000</td>\n",
       "      <td>16.000000</td>\n",
       "      <td>23.500000</td>\n",
       "      <td>31.000000</td>\n",
       "    </tr>\n",
       "    <tr>\n",
       "      <th>r_mean</th>\n",
       "      <td>31.0</td>\n",
       "      <td>0.003504</td>\n",
       "      <td>0.002186</td>\n",
       "      <td>0.000141</td>\n",
       "      <td>0.002043</td>\n",
       "      <td>0.003286</td>\n",
       "      <td>0.004725</td>\n",
       "      <td>0.010865</td>\n",
       "    </tr>\n",
       "    <tr>\n",
       "      <th>r_std</th>\n",
       "      <td>31.0</td>\n",
       "      <td>0.045723</td>\n",
       "      <td>0.007296</td>\n",
       "      <td>0.035848</td>\n",
       "      <td>0.040043</td>\n",
       "      <td>0.045450</td>\n",
       "      <td>0.050112</td>\n",
       "      <td>0.069105</td>\n",
       "    </tr>\n",
       "  </tbody>\n",
       "</table>\n",
       "</div>"
      ],
      "text/plain": [
       "        count       mean       std       min       25%        50%        75%  \\\n",
       "port     31.0   1.000000  0.000000  1.000000  1.000000   1.000000   1.000000   \n",
       "i        31.0  16.000000  9.092121  1.000000  8.500000  16.000000  23.500000   \n",
       "r_mean   31.0   0.003504  0.002186  0.000141  0.002043   0.003286   0.004725   \n",
       "r_std    31.0   0.045723  0.007296  0.035848  0.040043   0.045450   0.050112   \n",
       "\n",
       "              max  \n",
       "port     1.000000  \n",
       "i       31.000000  \n",
       "r_mean   0.010865  \n",
       "r_std    0.069105  "
      ]
     },
     "execution_count": 45,
     "metadata": {},
     "output_type": "execute_result"
    }
   ],
   "source": [
    "df_stats[df_stats.port==1].describe().T"
   ]
  },
  {
   "cell_type": "markdown",
   "metadata": {},
   "source": [
    "### Risk"
   ]
  },
  {
   "cell_type": "code",
   "execution_count": 46,
   "id": "e455e329",
   "metadata": {
    "ExecuteTime": {
     "end_time": "2021-10-22T23:53:52.647151Z",
     "start_time": "2021-10-22T23:53:52.614225Z"
    }
   },
   "outputs": [
    {
     "data": {
      "text/html": [
       "<div>\n",
       "<style scoped>\n",
       "    .dataframe tbody tr th:only-of-type {\n",
       "        vertical-align: middle;\n",
       "    }\n",
       "\n",
       "    .dataframe tbody tr th {\n",
       "        vertical-align: top;\n",
       "    }\n",
       "\n",
       "    .dataframe thead th {\n",
       "        text-align: right;\n",
       "    }\n",
       "</style>\n",
       "<table border=\"1\" class=\"dataframe\">\n",
       "  <thead>\n",
       "    <tr style=\"text-align: right;\">\n",
       "      <th></th>\n",
       "      <th>count</th>\n",
       "      <th>mean</th>\n",
       "      <th>std</th>\n",
       "      <th>min</th>\n",
       "      <th>25%</th>\n",
       "      <th>50%</th>\n",
       "      <th>75%</th>\n",
       "      <th>max</th>\n",
       "    </tr>\n",
       "  </thead>\n",
       "  <tbody>\n",
       "    <tr>\n",
       "      <th>port</th>\n",
       "      <td>496.0</td>\n",
       "      <td>1.000000</td>\n",
       "      <td>0.000000</td>\n",
       "      <td>1.000000</td>\n",
       "      <td>1.00000</td>\n",
       "      <td>1.000000</td>\n",
       "      <td>1.000000</td>\n",
       "      <td>1.0</td>\n",
       "    </tr>\n",
       "    <tr>\n",
       "      <th>i</th>\n",
       "      <td>496.0</td>\n",
       "      <td>11.000000</td>\n",
       "      <td>7.423686</td>\n",
       "      <td>1.000000</td>\n",
       "      <td>5.00000</td>\n",
       "      <td>10.000000</td>\n",
       "      <td>16.000000</td>\n",
       "      <td>31.0</td>\n",
       "    </tr>\n",
       "    <tr>\n",
       "      <th>j</th>\n",
       "      <td>496.0</td>\n",
       "      <td>21.000000</td>\n",
       "      <td>7.423686</td>\n",
       "      <td>1.000000</td>\n",
       "      <td>16.00000</td>\n",
       "      <td>22.000000</td>\n",
       "      <td>27.000000</td>\n",
       "      <td>31.0</td>\n",
       "    </tr>\n",
       "    <tr>\n",
       "      <th>cov</th>\n",
       "      <td>496.0</td>\n",
       "      <td>0.556209</td>\n",
       "      <td>0.178871</td>\n",
       "      <td>0.139539</td>\n",
       "      <td>0.45267</td>\n",
       "      <td>0.554651</td>\n",
       "      <td>0.654551</td>\n",
       "      <td>1.0</td>\n",
       "    </tr>\n",
       "  </tbody>\n",
       "</table>\n",
       "</div>"
      ],
      "text/plain": [
       "      count       mean       std       min       25%        50%        75%  \\\n",
       "port  496.0   1.000000  0.000000  1.000000   1.00000   1.000000   1.000000   \n",
       "i     496.0  11.000000  7.423686  1.000000   5.00000  10.000000  16.000000   \n",
       "j     496.0  21.000000  7.423686  1.000000  16.00000  22.000000  27.000000   \n",
       "cov   496.0   0.556209  0.178871  0.139539   0.45267   0.554651   0.654551   \n",
       "\n",
       "       max  \n",
       "port   1.0  \n",
       "i     31.0  \n",
       "j     31.0  \n",
       "cov    1.0  "
      ]
     },
     "execution_count": 46,
     "metadata": {},
     "output_type": "execute_result"
    }
   ],
   "source": [
    "df_cov_mx[df_cov_mx.port==1].describe().T"
   ]
  },
  {
   "cell_type": "markdown",
   "metadata": {},
   "source": [
    "## Portfolio 2 - DAX"
   ]
  },
  {
   "cell_type": "markdown",
   "metadata": {},
   "source": [
    "### Return"
   ]
  },
  {
   "cell_type": "code",
   "execution_count": 47,
   "id": "bc121fca",
   "metadata": {
    "ExecuteTime": {
     "end_time": "2021-10-22T23:53:52.610893Z",
     "start_time": "2021-10-22T23:53:52.571404Z"
    }
   },
   "outputs": [
    {
     "data": {
      "text/html": [
       "<div>\n",
       "<style scoped>\n",
       "    .dataframe tbody tr th:only-of-type {\n",
       "        vertical-align: middle;\n",
       "    }\n",
       "\n",
       "    .dataframe tbody tr th {\n",
       "        vertical-align: top;\n",
       "    }\n",
       "\n",
       "    .dataframe thead th {\n",
       "        text-align: right;\n",
       "    }\n",
       "</style>\n",
       "<table border=\"1\" class=\"dataframe\">\n",
       "  <thead>\n",
       "    <tr style=\"text-align: right;\">\n",
       "      <th></th>\n",
       "      <th>count</th>\n",
       "      <th>mean</th>\n",
       "      <th>std</th>\n",
       "      <th>min</th>\n",
       "      <th>25%</th>\n",
       "      <th>50%</th>\n",
       "      <th>75%</th>\n",
       "      <th>max</th>\n",
       "    </tr>\n",
       "  </thead>\n",
       "  <tbody>\n",
       "    <tr>\n",
       "      <th>port</th>\n",
       "      <td>85.0</td>\n",
       "      <td>2.000000</td>\n",
       "      <td>0.000000</td>\n",
       "      <td>2.000000</td>\n",
       "      <td>2.000000</td>\n",
       "      <td>2.000000</td>\n",
       "      <td>2.000000</td>\n",
       "      <td>2.000000</td>\n",
       "    </tr>\n",
       "    <tr>\n",
       "      <th>i</th>\n",
       "      <td>85.0</td>\n",
       "      <td>43.000000</td>\n",
       "      <td>24.681302</td>\n",
       "      <td>1.000000</td>\n",
       "      <td>22.000000</td>\n",
       "      <td>43.000000</td>\n",
       "      <td>64.000000</td>\n",
       "      <td>85.000000</td>\n",
       "    </tr>\n",
       "    <tr>\n",
       "      <th>r_mean</th>\n",
       "      <td>85.0</td>\n",
       "      <td>0.001491</td>\n",
       "      <td>0.002392</td>\n",
       "      <td>-0.004002</td>\n",
       "      <td>0.000065</td>\n",
       "      <td>0.001689</td>\n",
       "      <td>0.002756</td>\n",
       "      <td>0.009794</td>\n",
       "    </tr>\n",
       "    <tr>\n",
       "      <th>r_std</th>\n",
       "      <td>85.0</td>\n",
       "      <td>0.036628</td>\n",
       "      <td>0.009887</td>\n",
       "      <td>0.021207</td>\n",
       "      <td>0.030647</td>\n",
       "      <td>0.033448</td>\n",
       "      <td>0.040471</td>\n",
       "      <td>0.067993</td>\n",
       "    </tr>\n",
       "  </tbody>\n",
       "</table>\n",
       "</div>"
      ],
      "text/plain": [
       "        count       mean        std       min        25%        50%  \\\n",
       "port     85.0   2.000000   0.000000  2.000000   2.000000   2.000000   \n",
       "i        85.0  43.000000  24.681302  1.000000  22.000000  43.000000   \n",
       "r_mean   85.0   0.001491   0.002392 -0.004002   0.000065   0.001689   \n",
       "r_std    85.0   0.036628   0.009887  0.021207   0.030647   0.033448   \n",
       "\n",
       "              75%        max  \n",
       "port     2.000000   2.000000  \n",
       "i       64.000000  85.000000  \n",
       "r_mean   0.002756   0.009794  \n",
       "r_std    0.040471   0.067993  "
      ]
     },
     "execution_count": 47,
     "metadata": {},
     "output_type": "execute_result"
    }
   ],
   "source": [
    "df_stats[df_stats.port==2].describe().T"
   ]
  },
  {
   "cell_type": "markdown",
   "metadata": {},
   "source": [
    "### Risk"
   ]
  },
  {
   "cell_type": "code",
   "execution_count": 48,
   "id": "e455e329",
   "metadata": {
    "ExecuteTime": {
     "end_time": "2021-10-22T23:53:52.647151Z",
     "start_time": "2021-10-22T23:53:52.614225Z"
    }
   },
   "outputs": [
    {
     "data": {
      "text/html": [
       "<div>\n",
       "<style scoped>\n",
       "    .dataframe tbody tr th:only-of-type {\n",
       "        vertical-align: middle;\n",
       "    }\n",
       "\n",
       "    .dataframe tbody tr th {\n",
       "        vertical-align: top;\n",
       "    }\n",
       "\n",
       "    .dataframe thead th {\n",
       "        text-align: right;\n",
       "    }\n",
       "</style>\n",
       "<table border=\"1\" class=\"dataframe\">\n",
       "  <thead>\n",
       "    <tr style=\"text-align: right;\">\n",
       "      <th></th>\n",
       "      <th>count</th>\n",
       "      <th>mean</th>\n",
       "      <th>std</th>\n",
       "      <th>min</th>\n",
       "      <th>25%</th>\n",
       "      <th>50%</th>\n",
       "      <th>75%</th>\n",
       "      <th>max</th>\n",
       "    </tr>\n",
       "  </thead>\n",
       "  <tbody>\n",
       "    <tr>\n",
       "      <th>port</th>\n",
       "      <td>3655.0</td>\n",
       "      <td>2.000000</td>\n",
       "      <td>0.000000</td>\n",
       "      <td>2.000000</td>\n",
       "      <td>2.000000</td>\n",
       "      <td>2.000000</td>\n",
       "      <td>2.000000</td>\n",
       "      <td>2.0</td>\n",
       "    </tr>\n",
       "    <tr>\n",
       "      <th>i</th>\n",
       "      <td>3655.0</td>\n",
       "      <td>29.000000</td>\n",
       "      <td>20.152199</td>\n",
       "      <td>1.000000</td>\n",
       "      <td>12.000000</td>\n",
       "      <td>26.000000</td>\n",
       "      <td>43.000000</td>\n",
       "      <td>85.0</td>\n",
       "    </tr>\n",
       "    <tr>\n",
       "      <th>j</th>\n",
       "      <td>3655.0</td>\n",
       "      <td>57.000000</td>\n",
       "      <td>20.152199</td>\n",
       "      <td>1.000000</td>\n",
       "      <td>43.000000</td>\n",
       "      <td>60.000000</td>\n",
       "      <td>74.000000</td>\n",
       "      <td>85.0</td>\n",
       "    </tr>\n",
       "    <tr>\n",
       "      <th>cov</th>\n",
       "      <td>3655.0</td>\n",
       "      <td>0.225832</td>\n",
       "      <td>0.171709</td>\n",
       "      <td>-0.087007</td>\n",
       "      <td>0.128303</td>\n",
       "      <td>0.191378</td>\n",
       "      <td>0.270734</td>\n",
       "      <td>1.0</td>\n",
       "    </tr>\n",
       "  </tbody>\n",
       "</table>\n",
       "</div>"
      ],
      "text/plain": [
       "       count       mean        std       min        25%        50%        75%  \\\n",
       "port  3655.0   2.000000   0.000000  2.000000   2.000000   2.000000   2.000000   \n",
       "i     3655.0  29.000000  20.152199  1.000000  12.000000  26.000000  43.000000   \n",
       "j     3655.0  57.000000  20.152199  1.000000  43.000000  60.000000  74.000000   \n",
       "cov   3655.0   0.225832   0.171709 -0.087007   0.128303   0.191378   0.270734   \n",
       "\n",
       "       max  \n",
       "port   2.0  \n",
       "i     85.0  \n",
       "j     85.0  \n",
       "cov    1.0  "
      ]
     },
     "execution_count": 48,
     "metadata": {},
     "output_type": "execute_result"
    }
   ],
   "source": [
    "df_cov_mx[df_cov_mx.port==2].describe().T"
   ]
  },
  {
   "cell_type": "markdown",
   "metadata": {},
   "source": [
    "## Portfolio 3 - FTSE"
   ]
  },
  {
   "cell_type": "markdown",
   "metadata": {},
   "source": [
    "### Return"
   ]
  },
  {
   "cell_type": "code",
   "execution_count": 49,
   "id": "bc121fca",
   "metadata": {
    "ExecuteTime": {
     "end_time": "2021-10-22T23:53:52.610893Z",
     "start_time": "2021-10-22T23:53:52.571404Z"
    }
   },
   "outputs": [
    {
     "data": {
      "text/html": [
       "<div>\n",
       "<style scoped>\n",
       "    .dataframe tbody tr th:only-of-type {\n",
       "        vertical-align: middle;\n",
       "    }\n",
       "\n",
       "    .dataframe tbody tr th {\n",
       "        vertical-align: top;\n",
       "    }\n",
       "\n",
       "    .dataframe thead th {\n",
       "        text-align: right;\n",
       "    }\n",
       "</style>\n",
       "<table border=\"1\" class=\"dataframe\">\n",
       "  <thead>\n",
       "    <tr style=\"text-align: right;\">\n",
       "      <th></th>\n",
       "      <th>count</th>\n",
       "      <th>mean</th>\n",
       "      <th>std</th>\n",
       "      <th>min</th>\n",
       "      <th>25%</th>\n",
       "      <th>50%</th>\n",
       "      <th>75%</th>\n",
       "      <th>max</th>\n",
       "    </tr>\n",
       "  </thead>\n",
       "  <tbody>\n",
       "    <tr>\n",
       "      <th>port</th>\n",
       "      <td>89.0</td>\n",
       "      <td>3.000000</td>\n",
       "      <td>0.000000</td>\n",
       "      <td>3.000000</td>\n",
       "      <td>3.000000</td>\n",
       "      <td>3.000000</td>\n",
       "      <td>3.000000</td>\n",
       "      <td>3.000000</td>\n",
       "    </tr>\n",
       "    <tr>\n",
       "      <th>i</th>\n",
       "      <td>89.0</td>\n",
       "      <td>45.000000</td>\n",
       "      <td>25.836021</td>\n",
       "      <td>1.000000</td>\n",
       "      <td>23.000000</td>\n",
       "      <td>45.000000</td>\n",
       "      <td>67.000000</td>\n",
       "      <td>89.000000</td>\n",
       "    </tr>\n",
       "    <tr>\n",
       "      <th>r_mean</th>\n",
       "      <td>89.0</td>\n",
       "      <td>0.002661</td>\n",
       "      <td>0.001649</td>\n",
       "      <td>-0.001126</td>\n",
       "      <td>0.001821</td>\n",
       "      <td>0.002462</td>\n",
       "      <td>0.003561</td>\n",
       "      <td>0.008209</td>\n",
       "    </tr>\n",
       "    <tr>\n",
       "      <th>r_std</th>\n",
       "      <td>89.0</td>\n",
       "      <td>0.034540</td>\n",
       "      <td>0.005842</td>\n",
       "      <td>0.023641</td>\n",
       "      <td>0.030368</td>\n",
       "      <td>0.034225</td>\n",
       "      <td>0.036987</td>\n",
       "      <td>0.053099</td>\n",
       "    </tr>\n",
       "  </tbody>\n",
       "</table>\n",
       "</div>"
      ],
      "text/plain": [
       "        count       mean        std       min        25%        50%  \\\n",
       "port     89.0   3.000000   0.000000  3.000000   3.000000   3.000000   \n",
       "i        89.0  45.000000  25.836021  1.000000  23.000000  45.000000   \n",
       "r_mean   89.0   0.002661   0.001649 -0.001126   0.001821   0.002462   \n",
       "r_std    89.0   0.034540   0.005842  0.023641   0.030368   0.034225   \n",
       "\n",
       "              75%        max  \n",
       "port     3.000000   3.000000  \n",
       "i       67.000000  89.000000  \n",
       "r_mean   0.003561   0.008209  \n",
       "r_std    0.036987   0.053099  "
      ]
     },
     "execution_count": 49,
     "metadata": {},
     "output_type": "execute_result"
    }
   ],
   "source": [
    "df_stats[df_stats.port==3].describe().T"
   ]
  },
  {
   "cell_type": "markdown",
   "metadata": {},
   "source": [
    "### Risk"
   ]
  },
  {
   "cell_type": "code",
   "execution_count": 50,
   "id": "e455e329",
   "metadata": {
    "ExecuteTime": {
     "end_time": "2021-10-22T23:53:52.647151Z",
     "start_time": "2021-10-22T23:53:52.614225Z"
    }
   },
   "outputs": [
    {
     "data": {
      "text/html": [
       "<div>\n",
       "<style scoped>\n",
       "    .dataframe tbody tr th:only-of-type {\n",
       "        vertical-align: middle;\n",
       "    }\n",
       "\n",
       "    .dataframe tbody tr th {\n",
       "        vertical-align: top;\n",
       "    }\n",
       "\n",
       "    .dataframe thead th {\n",
       "        text-align: right;\n",
       "    }\n",
       "</style>\n",
       "<table border=\"1\" class=\"dataframe\">\n",
       "  <thead>\n",
       "    <tr style=\"text-align: right;\">\n",
       "      <th></th>\n",
       "      <th>count</th>\n",
       "      <th>mean</th>\n",
       "      <th>std</th>\n",
       "      <th>min</th>\n",
       "      <th>25%</th>\n",
       "      <th>50%</th>\n",
       "      <th>75%</th>\n",
       "      <th>max</th>\n",
       "    </tr>\n",
       "  </thead>\n",
       "  <tbody>\n",
       "    <tr>\n",
       "      <th>port</th>\n",
       "      <td>4005.0</td>\n",
       "      <td>3.000000</td>\n",
       "      <td>0.000000</td>\n",
       "      <td>3.000000</td>\n",
       "      <td>3.000000</td>\n",
       "      <td>3.000000</td>\n",
       "      <td>3.000000</td>\n",
       "      <td>3.0</td>\n",
       "    </tr>\n",
       "    <tr>\n",
       "      <th>i</th>\n",
       "      <td>4005.0</td>\n",
       "      <td>30.333333</td>\n",
       "      <td>21.095023</td>\n",
       "      <td>1.000000</td>\n",
       "      <td>12.000000</td>\n",
       "      <td>27.000000</td>\n",
       "      <td>45.000000</td>\n",
       "      <td>89.0</td>\n",
       "    </tr>\n",
       "    <tr>\n",
       "      <th>j</th>\n",
       "      <td>4005.0</td>\n",
       "      <td>59.666667</td>\n",
       "      <td>21.095023</td>\n",
       "      <td>1.000000</td>\n",
       "      <td>45.000000</td>\n",
       "      <td>63.000000</td>\n",
       "      <td>78.000000</td>\n",
       "      <td>89.0</td>\n",
       "    </tr>\n",
       "    <tr>\n",
       "      <th>cov</th>\n",
       "      <td>4005.0</td>\n",
       "      <td>0.265122</td>\n",
       "      <td>0.143916</td>\n",
       "      <td>-0.035882</td>\n",
       "      <td>0.186645</td>\n",
       "      <td>0.248069</td>\n",
       "      <td>0.309896</td>\n",
       "      <td>1.0</td>\n",
       "    </tr>\n",
       "  </tbody>\n",
       "</table>\n",
       "</div>"
      ],
      "text/plain": [
       "       count       mean        std       min        25%        50%        75%  \\\n",
       "port  4005.0   3.000000   0.000000  3.000000   3.000000   3.000000   3.000000   \n",
       "i     4005.0  30.333333  21.095023  1.000000  12.000000  27.000000  45.000000   \n",
       "j     4005.0  59.666667  21.095023  1.000000  45.000000  63.000000  78.000000   \n",
       "cov   4005.0   0.265122   0.143916 -0.035882   0.186645   0.248069   0.309896   \n",
       "\n",
       "       max  \n",
       "port   3.0  \n",
       "i     89.0  \n",
       "j     89.0  \n",
       "cov    1.0  "
      ]
     },
     "execution_count": 50,
     "metadata": {},
     "output_type": "execute_result"
    }
   ],
   "source": [
    "df_cov_mx[df_cov_mx.port==3].describe().T"
   ]
  },
  {
   "cell_type": "markdown",
   "metadata": {},
   "source": [
    "## Portfolio 4 - S&P"
   ]
  },
  {
   "cell_type": "markdown",
   "metadata": {},
   "source": [
    "### Return"
   ]
  },
  {
   "cell_type": "code",
   "execution_count": 51,
   "id": "bc121fca",
   "metadata": {
    "ExecuteTime": {
     "end_time": "2021-10-22T23:53:52.610893Z",
     "start_time": "2021-10-22T23:53:52.571404Z"
    }
   },
   "outputs": [
    {
     "data": {
      "text/html": [
       "<div>\n",
       "<style scoped>\n",
       "    .dataframe tbody tr th:only-of-type {\n",
       "        vertical-align: middle;\n",
       "    }\n",
       "\n",
       "    .dataframe tbody tr th {\n",
       "        vertical-align: top;\n",
       "    }\n",
       "\n",
       "    .dataframe thead th {\n",
       "        text-align: right;\n",
       "    }\n",
       "</style>\n",
       "<table border=\"1\" class=\"dataframe\">\n",
       "  <thead>\n",
       "    <tr style=\"text-align: right;\">\n",
       "      <th></th>\n",
       "      <th>count</th>\n",
       "      <th>mean</th>\n",
       "      <th>std</th>\n",
       "      <th>min</th>\n",
       "      <th>25%</th>\n",
       "      <th>50%</th>\n",
       "      <th>75%</th>\n",
       "      <th>max</th>\n",
       "    </tr>\n",
       "  </thead>\n",
       "  <tbody>\n",
       "    <tr>\n",
       "      <th>port</th>\n",
       "      <td>98.0</td>\n",
       "      <td>4.000000</td>\n",
       "      <td>0.000000</td>\n",
       "      <td>4.000000</td>\n",
       "      <td>4.000000</td>\n",
       "      <td>4.000000</td>\n",
       "      <td>4.000000</td>\n",
       "      <td>4.000000</td>\n",
       "    </tr>\n",
       "    <tr>\n",
       "      <th>i</th>\n",
       "      <td>98.0</td>\n",
       "      <td>49.500000</td>\n",
       "      <td>28.434134</td>\n",
       "      <td>1.000000</td>\n",
       "      <td>25.250000</td>\n",
       "      <td>49.500000</td>\n",
       "      <td>73.750000</td>\n",
       "      <td>98.000000</td>\n",
       "    </tr>\n",
       "    <tr>\n",
       "      <th>r_mean</th>\n",
       "      <td>98.0</td>\n",
       "      <td>0.002873</td>\n",
       "      <td>0.001992</td>\n",
       "      <td>-0.001980</td>\n",
       "      <td>0.001795</td>\n",
       "      <td>0.002863</td>\n",
       "      <td>0.003809</td>\n",
       "      <td>0.009195</td>\n",
       "    </tr>\n",
       "    <tr>\n",
       "      <th>r_std</th>\n",
       "      <td>98.0</td>\n",
       "      <td>0.035615</td>\n",
       "      <td>0.009058</td>\n",
       "      <td>0.020968</td>\n",
       "      <td>0.030190</td>\n",
       "      <td>0.033277</td>\n",
       "      <td>0.040286</td>\n",
       "      <td>0.063823</td>\n",
       "    </tr>\n",
       "  </tbody>\n",
       "</table>\n",
       "</div>"
      ],
      "text/plain": [
       "        count       mean        std       min        25%        50%  \\\n",
       "port     98.0   4.000000   0.000000  4.000000   4.000000   4.000000   \n",
       "i        98.0  49.500000  28.434134  1.000000  25.250000  49.500000   \n",
       "r_mean   98.0   0.002873   0.001992 -0.001980   0.001795   0.002863   \n",
       "r_std    98.0   0.035615   0.009058  0.020968   0.030190   0.033277   \n",
       "\n",
       "              75%        max  \n",
       "port     4.000000   4.000000  \n",
       "i       73.750000  98.000000  \n",
       "r_mean   0.003809   0.009195  \n",
       "r_std    0.040286   0.063823  "
      ]
     },
     "execution_count": 51,
     "metadata": {},
     "output_type": "execute_result"
    }
   ],
   "source": [
    "df_stats[df_stats.port==4].describe().T"
   ]
  },
  {
   "cell_type": "markdown",
   "metadata": {},
   "source": [
    "### Risk"
   ]
  },
  {
   "cell_type": "code",
   "execution_count": 52,
   "id": "e455e329",
   "metadata": {
    "ExecuteTime": {
     "end_time": "2021-10-22T23:53:52.647151Z",
     "start_time": "2021-10-22T23:53:52.614225Z"
    }
   },
   "outputs": [
    {
     "data": {
      "text/html": [
       "<div>\n",
       "<style scoped>\n",
       "    .dataframe tbody tr th:only-of-type {\n",
       "        vertical-align: middle;\n",
       "    }\n",
       "\n",
       "    .dataframe tbody tr th {\n",
       "        vertical-align: top;\n",
       "    }\n",
       "\n",
       "    .dataframe thead th {\n",
       "        text-align: right;\n",
       "    }\n",
       "</style>\n",
       "<table border=\"1\" class=\"dataframe\">\n",
       "  <thead>\n",
       "    <tr style=\"text-align: right;\">\n",
       "      <th></th>\n",
       "      <th>count</th>\n",
       "      <th>mean</th>\n",
       "      <th>std</th>\n",
       "      <th>min</th>\n",
       "      <th>25%</th>\n",
       "      <th>50%</th>\n",
       "      <th>75%</th>\n",
       "      <th>max</th>\n",
       "    </tr>\n",
       "  </thead>\n",
       "  <tbody>\n",
       "    <tr>\n",
       "      <th>port</th>\n",
       "      <td>4851.0</td>\n",
       "      <td>4.000000</td>\n",
       "      <td>0.000000</td>\n",
       "      <td>4.000000</td>\n",
       "      <td>4.000000</td>\n",
       "      <td>4.000000</td>\n",
       "      <td>4.000000</td>\n",
       "      <td>4.0</td>\n",
       "    </tr>\n",
       "    <tr>\n",
       "      <th>i</th>\n",
       "      <td>4851.0</td>\n",
       "      <td>33.333333</td>\n",
       "      <td>23.216374</td>\n",
       "      <td>1.000000</td>\n",
       "      <td>14.000000</td>\n",
       "      <td>29.000000</td>\n",
       "      <td>50.000000</td>\n",
       "      <td>98.0</td>\n",
       "    </tr>\n",
       "    <tr>\n",
       "      <th>j</th>\n",
       "      <td>4851.0</td>\n",
       "      <td>65.666667</td>\n",
       "      <td>23.216374</td>\n",
       "      <td>1.000000</td>\n",
       "      <td>49.000000</td>\n",
       "      <td>70.000000</td>\n",
       "      <td>85.000000</td>\n",
       "      <td>98.0</td>\n",
       "    </tr>\n",
       "    <tr>\n",
       "      <th>cov</th>\n",
       "      <td>4851.0</td>\n",
       "      <td>0.180241</td>\n",
       "      <td>0.155095</td>\n",
       "      <td>-0.145815</td>\n",
       "      <td>0.095809</td>\n",
       "      <td>0.157262</td>\n",
       "      <td>0.225972</td>\n",
       "      <td>1.0</td>\n",
       "    </tr>\n",
       "  </tbody>\n",
       "</table>\n",
       "</div>"
      ],
      "text/plain": [
       "       count       mean        std       min        25%        50%        75%  \\\n",
       "port  4851.0   4.000000   0.000000  4.000000   4.000000   4.000000   4.000000   \n",
       "i     4851.0  33.333333  23.216374  1.000000  14.000000  29.000000  50.000000   \n",
       "j     4851.0  65.666667  23.216374  1.000000  49.000000  70.000000  85.000000   \n",
       "cov   4851.0   0.180241   0.155095 -0.145815   0.095809   0.157262   0.225972   \n",
       "\n",
       "       max  \n",
       "port   4.0  \n",
       "i     98.0  \n",
       "j     98.0  \n",
       "cov    1.0  "
      ]
     },
     "execution_count": 52,
     "metadata": {},
     "output_type": "execute_result"
    }
   ],
   "source": [
    "df_cov_mx[df_cov_mx.port==4].describe().T"
   ]
  },
  {
   "cell_type": "markdown",
   "metadata": {},
   "source": [
    "## Portfolio 5 - Nikkei"
   ]
  },
  {
   "cell_type": "markdown",
   "metadata": {},
   "source": [
    "### Return"
   ]
  },
  {
   "cell_type": "code",
   "execution_count": 53,
   "id": "bc121fca",
   "metadata": {
    "ExecuteTime": {
     "end_time": "2021-10-22T23:53:52.610893Z",
     "start_time": "2021-10-22T23:53:52.571404Z"
    }
   },
   "outputs": [
    {
     "data": {
      "text/html": [
       "<div>\n",
       "<style scoped>\n",
       "    .dataframe tbody tr th:only-of-type {\n",
       "        vertical-align: middle;\n",
       "    }\n",
       "\n",
       "    .dataframe tbody tr th {\n",
       "        vertical-align: top;\n",
       "    }\n",
       "\n",
       "    .dataframe thead th {\n",
       "        text-align: right;\n",
       "    }\n",
       "</style>\n",
       "<table border=\"1\" class=\"dataframe\">\n",
       "  <thead>\n",
       "    <tr style=\"text-align: right;\">\n",
       "      <th></th>\n",
       "      <th>count</th>\n",
       "      <th>mean</th>\n",
       "      <th>std</th>\n",
       "      <th>min</th>\n",
       "      <th>25%</th>\n",
       "      <th>50%</th>\n",
       "      <th>75%</th>\n",
       "      <th>max</th>\n",
       "    </tr>\n",
       "  </thead>\n",
       "  <tbody>\n",
       "    <tr>\n",
       "      <th>port</th>\n",
       "      <td>225.0</td>\n",
       "      <td>5.000000</td>\n",
       "      <td>0.000000</td>\n",
       "      <td>5.000000</td>\n",
       "      <td>5.000000</td>\n",
       "      <td>5.000000</td>\n",
       "      <td>5.000000</td>\n",
       "      <td>5.000000</td>\n",
       "    </tr>\n",
       "    <tr>\n",
       "      <th>i</th>\n",
       "      <td>225.0</td>\n",
       "      <td>113.000000</td>\n",
       "      <td>65.096083</td>\n",
       "      <td>1.000000</td>\n",
       "      <td>57.000000</td>\n",
       "      <td>113.000000</td>\n",
       "      <td>169.000000</td>\n",
       "      <td>225.000000</td>\n",
       "    </tr>\n",
       "    <tr>\n",
       "      <th>r_mean</th>\n",
       "      <td>225.0</td>\n",
       "      <td>-0.001507</td>\n",
       "      <td>0.002189</td>\n",
       "      <td>-0.008489</td>\n",
       "      <td>-0.002864</td>\n",
       "      <td>-0.001451</td>\n",
       "      <td>-0.000185</td>\n",
       "      <td>0.003971</td>\n",
       "    </tr>\n",
       "    <tr>\n",
       "      <th>r_std</th>\n",
       "      <td>225.0</td>\n",
       "      <td>0.043988</td>\n",
       "      <td>0.008666</td>\n",
       "      <td>0.025847</td>\n",
       "      <td>0.038138</td>\n",
       "      <td>0.043449</td>\n",
       "      <td>0.048888</td>\n",
       "      <td>0.074463</td>\n",
       "    </tr>\n",
       "  </tbody>\n",
       "</table>\n",
       "</div>"
      ],
      "text/plain": [
       "        count        mean        std       min        25%         50%  \\\n",
       "port    225.0    5.000000   0.000000  5.000000   5.000000    5.000000   \n",
       "i       225.0  113.000000  65.096083  1.000000  57.000000  113.000000   \n",
       "r_mean  225.0   -0.001507   0.002189 -0.008489  -0.002864   -0.001451   \n",
       "r_std   225.0    0.043988   0.008666  0.025847   0.038138    0.043449   \n",
       "\n",
       "               75%         max  \n",
       "port      5.000000    5.000000  \n",
       "i       169.000000  225.000000  \n",
       "r_mean   -0.000185    0.003971  \n",
       "r_std     0.048888    0.074463  "
      ]
     },
     "execution_count": 53,
     "metadata": {},
     "output_type": "execute_result"
    }
   ],
   "source": [
    "df_stats[df_stats.port==5].describe().T"
   ]
  },
  {
   "cell_type": "markdown",
   "metadata": {},
   "source": [
    "### Risk"
   ]
  },
  {
   "cell_type": "code",
   "execution_count": 54,
   "id": "e455e329",
   "metadata": {
    "ExecuteTime": {
     "end_time": "2021-10-22T23:53:52.647151Z",
     "start_time": "2021-10-22T23:53:52.614225Z"
    }
   },
   "outputs": [
    {
     "data": {
      "text/html": [
       "<div>\n",
       "<style scoped>\n",
       "    .dataframe tbody tr th:only-of-type {\n",
       "        vertical-align: middle;\n",
       "    }\n",
       "\n",
       "    .dataframe tbody tr th {\n",
       "        vertical-align: top;\n",
       "    }\n",
       "\n",
       "    .dataframe thead th {\n",
       "        text-align: right;\n",
       "    }\n",
       "</style>\n",
       "<table border=\"1\" class=\"dataframe\">\n",
       "  <thead>\n",
       "    <tr style=\"text-align: right;\">\n",
       "      <th></th>\n",
       "      <th>count</th>\n",
       "      <th>mean</th>\n",
       "      <th>std</th>\n",
       "      <th>min</th>\n",
       "      <th>25%</th>\n",
       "      <th>50%</th>\n",
       "      <th>75%</th>\n",
       "      <th>max</th>\n",
       "    </tr>\n",
       "  </thead>\n",
       "  <tbody>\n",
       "    <tr>\n",
       "      <th>port</th>\n",
       "      <td>25425.0</td>\n",
       "      <td>5.000000</td>\n",
       "      <td>0.000000</td>\n",
       "      <td>5.000000</td>\n",
       "      <td>5.000000</td>\n",
       "      <td>5.00000</td>\n",
       "      <td>5.000000</td>\n",
       "      <td>5.0</td>\n",
       "    </tr>\n",
       "    <tr>\n",
       "      <th>i</th>\n",
       "      <td>25425.0</td>\n",
       "      <td>75.666667</td>\n",
       "      <td>53.150729</td>\n",
       "      <td>1.000000</td>\n",
       "      <td>31.000000</td>\n",
       "      <td>67.00000</td>\n",
       "      <td>113.000000</td>\n",
       "      <td>225.0</td>\n",
       "    </tr>\n",
       "    <tr>\n",
       "      <th>j</th>\n",
       "      <td>25425.0</td>\n",
       "      <td>150.333333</td>\n",
       "      <td>53.150729</td>\n",
       "      <td>1.000000</td>\n",
       "      <td>113.000000</td>\n",
       "      <td>159.00000</td>\n",
       "      <td>195.000000</td>\n",
       "      <td>225.0</td>\n",
       "    </tr>\n",
       "    <tr>\n",
       "      <th>cov</th>\n",
       "      <td>25425.0</td>\n",
       "      <td>0.480902</td>\n",
       "      <td>0.113331</td>\n",
       "      <td>0.074025</td>\n",
       "      <td>0.410203</td>\n",
       "      <td>0.48226</td>\n",
       "      <td>0.549323</td>\n",
       "      <td>1.0</td>\n",
       "    </tr>\n",
       "  </tbody>\n",
       "</table>\n",
       "</div>"
      ],
      "text/plain": [
       "        count        mean        std       min         25%        50%  \\\n",
       "port  25425.0    5.000000   0.000000  5.000000    5.000000    5.00000   \n",
       "i     25425.0   75.666667  53.150729  1.000000   31.000000   67.00000   \n",
       "j     25425.0  150.333333  53.150729  1.000000  113.000000  159.00000   \n",
       "cov   25425.0    0.480902   0.113331  0.074025    0.410203    0.48226   \n",
       "\n",
       "             75%    max  \n",
       "port    5.000000    5.0  \n",
       "i     113.000000  225.0  \n",
       "j     195.000000  225.0  \n",
       "cov     0.549323    1.0  "
      ]
     },
     "execution_count": 54,
     "metadata": {},
     "output_type": "execute_result"
    }
   ],
   "source": [
    "df_cov_mx[df_cov_mx.port==5].describe().T"
   ]
  }
 ],
 "metadata": {
  "interpreter": {
   "hash": "f6cb668b59e4b046a7e38bbc755e07d52764e1df270e17944c28cd2019a15cbc"
  },
  "kernelspec": {
   "display_name": "Python 3.8.8 64-bit ('abradee': conda)",
   "name": "python3"
  },
  "language_info": {
   "codemirror_mode": {
    "name": "ipython",
    "version": 3
   },
   "file_extension": ".py",
   "mimetype": "text/x-python",
   "name": "python",
   "nbconvert_exporter": "python",
   "pygments_lexer": "ipython3",
   "version": "3.8.8"
  }
 },
 "nbformat": 4,
 "nbformat_minor": 5
}
